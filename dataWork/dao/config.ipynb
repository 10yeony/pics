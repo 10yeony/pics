{
 "cells": [
  {
   "cell_type": "code",
   "execution_count": 8,
   "metadata": {},
   "outputs": [],
   "source": [
    "from os import environ, path\n",
    "\n",
    "# Database config\n",
    "db_user = 'pics'\n",
    "db_password = 'picspics!1'\n",
    "db_host = 'pics.crvbvpzlygpt.ap-northeast-2.rds.amazonaws.com'\n",
    "db_port = '3306'\n",
    "db_name = 'pics'"
   ]
  },
  {
   "cell_type": "code",
   "execution_count": 9,
   "metadata": {},
   "outputs": [
    {
     "name": "stderr",
     "output_type": "stream",
     "text": [
      "[NbConvertApp] Converting notebook config.ipynb to script\n",
      "[NbConvertApp] Writing 394 bytes to config.py\n"
     ]
    }
   ],
   "source": [
    "!jupyter nbconvert --to script config.ipynb "
   ]
  },
  {
   "cell_type": "code",
   "execution_count": null,
   "metadata": {},
   "outputs": [],
   "source": []
  }
 ],
 "metadata": {
  "kernelspec": {
   "display_name": "Python 3",
   "language": "python",
   "name": "python3"
  },
  "language_info": {
   "codemirror_mode": {
    "name": "ipython",
    "version": 3
   },
   "file_extension": ".py",
   "mimetype": "text/x-python",
   "name": "python",
   "nbconvert_exporter": "python",
   "pygments_lexer": "ipython3",
   "version": "3.7.7"
  }
 },
 "nbformat": 4,
 "nbformat_minor": 4
}
