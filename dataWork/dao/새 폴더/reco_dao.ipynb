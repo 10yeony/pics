{
 "cells": [
  {
   "cell_type": "code",
   "execution_count": 12,
   "metadata": {},
   "outputs": [],
   "source": [
    "#!/usr/bin/env python\n",
    "# coding: utf-8\n",
    "\n",
    "# In[5]:\n",
    "import sys\n",
    "sys.path.append('..')\n",
    "from dao.database import Database\n",
    "import dao.config as config\n",
    "import pandas as pd\n",
    "\n",
    "# DB 연결\n",
    "db = Database(config)\n",
    "\n",
    "# 아이템, 유저 가져오기\n",
    "def get_cfsource() :\n",
    "    sql = \"SELECT cust_id, stu_id, score \"\n",
    "    sql += \"FROM review\"\n",
    "    result = db.run_query(sql)\n",
    "    df = pd.DataFrame(result)\n",
    "    return df\n",
    "\n",
    "# 메인 추천 업체 가져오기\n",
    "def get_reco_studio(studio_list) :\n",
    "    result_list = []\n",
    "    for stu_id in studio_list :\n",
    "        sql = \"SELECT s.stu_id, s.name, s.main_img, c.category_name, f.address, f.unit_price \"\n",
    "        sql += \"FROM studio s \"\n",
    "        sql += \"JOIN studio_filter f \"\n",
    "        sql += \"ON s.stu_id = f.stu_id \"\n",
    "        sql += \"JOIN studio_category c \"\n",
    "        sql += \"ON s.category_id = c.category_id \"\n",
    "        sql += \"WHERE s.stu_id = \"+str(stu_id)\n",
    "\n",
    "        result = db.run_query(sql)\n",
    "        result_list.append(result[0])\n",
    "    return result_list\n",
    "\n",
    "# 메인 추천 업체 가져오기\n",
    "def get_ranked_studio() :\n",
    "    sql = \"SELECT s.stu_id, s.name, c.category_name, f.address, f.unit_price, s.main_img \"\n",
    "    sql += \"FROM studio s \"\n",
    "    sql += \"JOIN studio_filter f \"\n",
    "    sql += \"ON s.stu_id = f.stu_id \"\n",
    "    sql += \"JOIN studio_category c \"\n",
    "    sql += \"ON s.category_id = c.category_id \"\n",
    "    sql += \"LEFT OUTER JOIN \"\n",
    "    sql += \"(SELECT stu_id, COUNT(stu_id) count FROM reservation WHERE res_date > SUBDATE(NOW(), INTERVAL 1 MONTH) GROUP BY stu_id) res \"\n",
    "    sql += \"ON s.stu_id = res.stu_id \"\n",
    "    sql += \"order by res.count desc \" \n",
    "    sql += \"limit 8\"\n",
    "\n",
    "    result = db.run_query(sql)\n",
    "    return result"
   ]
  },
  {
   "cell_type": "code",
   "execution_count": 18,
   "metadata": {},
   "outputs": [
    {
     "name": "stderr",
     "output_type": "stream",
     "text": [
      "[NbConvertApp] Converting notebook reco_dao.ipynb to script\n",
      "[NbConvertApp] Writing 1693 bytes to reco_dao.py\n"
     ]
    }
   ],
   "source": [
    "!jupyter nbconvert --to script reco_dao.ipynb "
   ]
  }
 ],
 "metadata": {
  "kernelspec": {
   "display_name": "Python 3",
   "language": "python",
   "name": "python3"
  },
  "language_info": {
   "codemirror_mode": {
    "name": "ipython",
    "version": 3
   },
   "file_extension": ".py",
   "mimetype": "text/x-python",
   "name": "python",
   "nbconvert_exporter": "python",
   "pygments_lexer": "ipython3",
   "version": "3.7.7"
  }
 },
 "nbformat": 4,
 "nbformat_minor": 4
}
