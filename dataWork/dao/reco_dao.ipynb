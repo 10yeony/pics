{
 "cells": [
  {
   "cell_type": "code",
   "execution_count": 1,
   "metadata": {},
   "outputs": [],
   "source": [
    "import pymysql\n",
    "import pandas as pd\n",
    "\n",
    "#DB 접근\n",
    "def get_cfsource() :\n",
    "    db= pymysql.connect(host='pics.crvbvpzlygpt.ap-northeast-2.rds.amazonaws.com',\n",
    "                         port=3306,\n",
    "                         user='pics',\n",
    "                         passwd='picspics!1',\n",
    "                         db='pics',\n",
    "                         charset='utf8',\n",
    "                       cursorclass=pymysql.cursors.DictCursor)\n",
    "    cursor= db.cursor()\n",
    "    sql = \"SELECT s.stu_id stuId, r.score score, r.cust_id custId \"\n",
    "    sql += \"FROM studio s \"\n",
    "    sql += \"LEFT OUTER JOIN studio_filter sf \"\n",
    "    sql += \"ON s.stu_id = sf.stu_id \"\n",
    "    sql += \"LEFT OUTER JOIN review r \"\n",
    "    sql += \"ON s.stu_id = r.stu_id \"\n",
    "    sql += \"UNION \"\n",
    "    sql += \"SELECT r.stu_id studId, r.score score, cust.cust_id custId \"\n",
    "    sql += \"FROM customer cust \"\n",
    "    sql += \"LEFT OUTER JOIN review r \"\n",
    "    sql += \"ON cust.cust_id = r.cust_id \"\n",
    "\n",
    "    cursor.execute(sql)\n",
    "    db.commit()\n",
    "\n",
    "    result = cursor.fetchall()\n",
    "    db.close()\n",
    "    df = pd.DataFrame(result)\n",
    "    return df"
   ]
  },
  {
   "cell_type": "code",
   "execution_count": 2,
   "metadata": {},
   "outputs": [
    {
     "name": "stderr",
     "output_type": "stream",
     "text": [
      "[NbConvertApp] Converting notebook reco_dao.ipynb to script\n",
      "[NbConvertApp] Writing 1163 bytes to reco_dao.py\n"
     ]
    }
   ],
   "source": [
    "!jupyter nbconvert --to script reco_dao.ipynb "
   ]
  },
  {
   "cell_type": "code",
   "execution_count": null,
   "metadata": {},
   "outputs": [],
   "source": []
  }
 ],
 "metadata": {
  "kernelspec": {
   "display_name": "Python 3",
   "language": "python",
   "name": "python3"
  },
  "language_info": {
   "codemirror_mode": {
    "name": "ipython",
    "version": 3
   },
   "file_extension": ".py",
   "mimetype": "text/x-python",
   "name": "python",
   "nbconvert_exporter": "python",
   "pygments_lexer": "ipython3",
   "version": "3.7.7"
  }
 },
 "nbformat": 4,
 "nbformat_minor": 4
}
