{
 "cells": [
  {
   "cell_type": "code",
   "execution_count": 5,
   "metadata": {},
   "outputs": [],
   "source": [
    "import pymysql\n",
    "import pandas as pd"
   ]
  },
  {
   "cell_type": "code",
   "execution_count": 82,
   "metadata": {},
   "outputs": [],
   "source": [
    "#DB 접근\n",
    "def get_cfsource() :\n",
    "    db= pymysql.connect(host='pics.crvbvpzlygpt.ap-northeast-2.rds.amazonaws.com',\n",
    "                             port=3306,\n",
    "                             user='pics',\n",
    "                             passwd='picspics!1',\n",
    "                             db='pics',\n",
    "                             charset='utf8',\n",
    "                           cursorclass=pymysql.cursors.DictCursor)\n",
    "    try :\n",
    "        cursor= db.cursor()\n",
    "        sql = \"SELECT cust_id, stu_id, score \"\n",
    "        sql += \"FROM review\"\n",
    "\n",
    "        cursor.execute(sql)\n",
    "        db.commit()\n",
    "\n",
    "        result = cursor.fetchall()\n",
    "        df = pd.DataFrame(result)\n",
    "        return df\n",
    "    finally :\n",
    "        db.close()"
   ]
  },
  {
   "cell_type": "code",
   "execution_count": 83,
   "metadata": {},
   "outputs": [],
   "source": [
    "# 메인 추천 업체 가져오기\n",
    "def get_reco_studio(studio_list) :\n",
    "    result_list = []\n",
    "    db= pymysql.connect(host='pics.crvbvpzlygpt.ap-northeast-2.rds.amazonaws.com',\n",
    "                                 port=3306,\n",
    "                                 user='pics',\n",
    "                                 passwd='picspics!1',\n",
    "                                 db='pics',\n",
    "                                 charset='utf8',\n",
    "                               cursorclass=pymysql.cursors.DictCursor)\n",
    "    try :\n",
    "        for stu_id in studio_list :\n",
    "            \n",
    "            cursor= db.cursor()\n",
    "            sql = \"SELECT s.stu_id, s.name, s.main_img, c.category_name, f.address, f.unit_price \"\n",
    "            sql += \"FROM studio s \"\n",
    "            sql += \"JOIN studio_filter f \"\n",
    "            sql += \"ON s.stu_id = f.stu_id \"\n",
    "            sql += \"JOIN studio_category c \"\n",
    "            sql += \"ON s.category_id = c.category_id \"\n",
    "            sql += \"WHERE s.stu_id = \"+str(stu_id)\n",
    "            \n",
    "            cursor.execute(sql)\n",
    "            db.commit()\n",
    "\n",
    "            result = cursor.fetchall()\n",
    "            result_list.append(result[0])\n",
    "        return result_list\n",
    "    finally:\n",
    "        db.close()"
   ]
  },
  {
   "cell_type": "code",
   "execution_count": 11,
   "metadata": {},
   "outputs": [],
   "source": [
    "# 메인 추천 업체 가져오기\n",
    "def get_ranked_studio() :\n",
    "    db= pymysql.connect(host='pics.crvbvpzlygpt.ap-northeast-2.rds.amazonaws.com',\n",
    "                                 port=3306,\n",
    "                                 user='pics',\n",
    "                                 passwd='picspics!1',\n",
    "                                 db='pics',\n",
    "                                 charset='utf8',\n",
    "                               cursorclass=pymysql.cursors.DictCursor)\n",
    "    try :\n",
    "        cursor= db.cursor()\n",
    "        sql = \"SELECT s.stu_id, s.name, c.category_name, f.address, f.unit_price, s.main_img \"\n",
    "        sql += \"FROM studio s \"\n",
    "        sql += \"JOIN studio_filter f \"\n",
    "        sql += \"ON s.stu_id = f.stu_id \"\n",
    "        sql += \"JOIN studio_category c \"\n",
    "        sql += \"ON s.category_id = c.category_id \"\n",
    "        sql += \"LEFT OUTER JOIN \"\n",
    "        sql += \"(SELECT stu_id, COUNT(stu_id) count FROM reservation WHERE res_date > SUBDATE(NOW(), INTERVAL 1 MONTH) GROUP BY stu_id) res \"\n",
    "        sql += \"ON s.stu_id = res.stu_id \"\n",
    "        sql += \"order by res.count desc \" \n",
    "        sql += \"limit 8\"\n",
    "\n",
    "        cursor.execute(sql)\n",
    "        db.commit()\n",
    "\n",
    "        result = cursor.fetchall()\n",
    "        return result\n",
    "    finally:\n",
    "        db.close()"
   ]
  },
  {
   "cell_type": "code",
   "execution_count": 14,
   "metadata": {},
   "outputs": [
    {
     "name": "stderr",
     "output_type": "stream",
     "text": [
      "[NbConvertApp] Converting notebook reco_dao.ipynb to script\n",
      "[NbConvertApp] Writing 6517 bytes to reco_dao.py\n"
     ]
    }
   ],
   "source": [
    "!jupyter nbconvert --to script reco_dao.ipynb "
   ]
  },
  {
   "cell_type": "code",
   "execution_count": 64,
   "metadata": {},
   "outputs": [
    {
     "ename": "SyntaxError",
     "evalue": "'return' outside function (<ipython-input-64-a64333d1a0a1>, line 22)",
     "output_type": "error",
     "traceback": [
      "\u001b[1;36m  File \u001b[1;32m\"<ipython-input-64-a64333d1a0a1>\"\u001b[1;36m, line \u001b[1;32m22\u001b[0m\n\u001b[1;33m    return 1\u001b[0m\n\u001b[1;37m    ^\u001b[0m\n\u001b[1;31mSyntaxError\u001b[0m\u001b[1;31m:\u001b[0m 'return' outside function\n"
     ]
    }
   ],
   "source": [
    "\n",
    "# stu_id = 1156\n",
    "\n",
    "# for i in range(20) : \n",
    "#     try :\n",
    "#         sql = \"\"\n",
    "#         db= pymysql.connect(host='pics.crvbvpzlygpt.ap-northeast-2.rds.amazonaws.com',\n",
    "#                              port=3306,\n",
    "#                              user='pics',\n",
    "#                              passwd='picspics!1',\n",
    "#                              db='pics',\n",
    "#                              charset='utf8',\n",
    "#                            cursorclass=pymysql.cursors.DictCursor)\n",
    "#         cursor= db.cursor()\n",
    "#         sql = \"UPDATE studio \"\n",
    "#         sql += \"set name = '\"+name_list[random.randrange(0,166)]+\"' \"\n",
    "#         sql += \"WHERE stu_id =\"+str(stu_id)\n",
    "\n",
    "#         cursor.execute(sql)\n",
    "#         db.commit()\n",
    "#         stu_id += 1\n",
    "#         db.close()\n",
    "#     except :\n",
    "#         print(error)\n",
    "#     finally :\n",
    "#         db.close()"
   ]
  },
  {
   "cell_type": "code",
   "execution_count": null,
   "metadata": {},
   "outputs": [],
   "source": [
    "# data = pd.read_excel('review.xlsx', enconding='utf-8')\n",
    "# data.rename({'studio_name':'stu_id'}, axis='columns', inplace=True)\n",
    "# data[data.duplicated(['stu_id','cust_id'])]\n",
    "# data.drop_duplicates(['stu_id','cust_id'], inplace=True)\n",
    "# data.score = round(data.score,0)\n",
    "# ratings = data.pivot_table(index='cust_id', columns='stu_id', values='score')\n",
    "# ratings_d = data.pivot_table(index='cust_id', columns='stu_id', values='score')\n",
    "# index_list = [i+1 for i in range(len(ratings.index))]\n",
    "# ratings.index = np.arange(22, 42, 1)\n",
    "# ratings.columns = np.arange(1156, 1176, 1)\n",
    "# ratings.index.name = 'cust_id'\n",
    "# ratings.columns.name = 'stu_id'\n",
    "# ratings"
   ]
  },
  {
   "cell_type": "code",
   "execution_count": null,
   "metadata": {},
   "outputs": [],
   "source": [
    "# from itertools import product\n",
    "# id_combo=list(product(ratings.index, ratings.columns))\n",
    "# res_id = 62\n",
    "# for cust_id, stu_id in id_combo:\n",
    "#     db= pymysql.connect(host='pics.crvbvpzlygpt.ap-northeast-2.rds.amazonaws.com',\n",
    "#                      port=3306,\n",
    "#                      user='pics',\n",
    "#                      passwd='picspics!1',\n",
    "#                      db='pics',\n",
    "#                      charset='utf8',\n",
    "#                    cursorclass=pymysql.cursors.DictCursor)\n",
    "#     cursor= db.cursor()\n",
    "#     sql = \"INSERT INTO reservation(cust_id,stu_id,start_date,end_date,total_price,res_date,total_people) \"\n",
    "#     sql += \"VALUES(\"\n",
    "#     sql += str(cust_id)+\", \"\n",
    "#     sql += str(stu_id)+\", \"\n",
    "#     sql += \"'2020-09-14', '2020-09-15', 100000, '2020-09-01', 10);\"\n",
    "\n",
    "\n",
    "#     cursor.execute(sql)\n",
    "#     db.commit()\n",
    "#     db.close()\n"
   ]
  },
  {
   "cell_type": "code",
   "execution_count": null,
   "metadata": {},
   "outputs": [],
   "source": [
    "# from itertools import product\n",
    "# id_combo=list(product(ratings.index, ratings.columns))\n",
    "# res_id = 2485\n",
    "# for cust_id, stu_id in id_combo:\n",
    "#     score = ratings.loc[cust_id,stu_id]\n",
    "#     if score > -1 :\n",
    "#         db= pymysql.connect(host='pics.crvbvpzlygpt.ap-northeast-2.rds.amazonaws.com',\n",
    "#                          port=3306,\n",
    "#                          user='pics',\n",
    "#                          passwd='picspics!1',\n",
    "#                          db='pics',\n",
    "#                          charset='utf8',\n",
    "#                        cursorclass=pymysql.cursors.DictCursor)\n",
    "#         cursor= db.cursor()\n",
    "#         sql = \"INSERT INTO review(cust_id, stu_id, res_id, score) \"\n",
    "#         sql += \"VALUES( \"\n",
    "#         sql += str(cust_id)+\", \"\n",
    "#         sql += str(stu_id)+\", \"\n",
    "#         sql += str(res_id)+\", \"\n",
    "#         sql += str(score) +\"); \"\n",
    "#     else : \n",
    "#         continue\n",
    "\n",
    "#     print(sql)\n",
    "#     cursor.execute(sql)\n",
    "#     db.commit()\n",
    "#     db.close()\n",
    "#     res_id += 1\n"
   ]
  }
 ],
 "metadata": {
  "kernelspec": {
   "display_name": "Python 3",
   "language": "python",
   "name": "python3"
  },
  "language_info": {
   "codemirror_mode": {
    "name": "ipython",
    "version": 3
   },
   "file_extension": ".py",
   "mimetype": "text/x-python",
   "name": "python",
   "nbconvert_exporter": "python",
   "pygments_lexer": "ipython3",
   "version": "3.7.7"
  }
 },
 "nbformat": 4,
 "nbformat_minor": 4
}
