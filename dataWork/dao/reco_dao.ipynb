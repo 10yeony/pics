{
 "cells": [
  {
   "cell_type": "code",
   "execution_count": null,
   "# execution_count": 1,

   "metadata": {},
   "outputs": [],
   "source": [
    "import pymysql\n",
    "import pandas as pd"
   ]
  },
  {
   "cell_type": "code",
   "execution_count": null,
   "metadata": {},
   "outputs": [],
   "source": [
    "#DB 접근\n",
    "def get_cfsource() :\n",
    "    db= pymysql.connect(host='pics.crvbvpzlygpt.ap-northeast-2.rds.amazonaws.com',\n",
    "                         port=3306,\n",
    "                         user='pics',\n",
    "                         passwd='picspics!1',\n",
    "                         db='pics',\n",
    "                         charset='utf8',\n",
    "                       cursorclass=pymysql.cursors.DictCursor)\n",
    "    cursor= db.cursor()\n",
    "    sql = \"SELECT cust_id, stu_id, score \"\n",
    "    sql += \"FROM review\"\n",
    "\n",
    "    cursor.execute(sql)\n",
    "    db.commit()\n",
    "\n",
    "    result = cursor.fetchall()\n",
    "    db.close()\n",
    "    df = pd.DataFrame(result)\n",
    "    return df"
   ]
  },
  {
   "cell_type": "code",

   "execution_count": null,
   "metadata": {},
   "outputs": [],
   "source": [
    "# data = pd.read_excel('review.xlsx', enconding='utf-8')\n",
    "# data.rename({'studio_name':'stu_id'}, axis='columns', inplace=True)\n",
    "# data[data.duplicated(['stu_id','cust_id'])]\n",
    "# data.drop_duplicates(['stu_id','cust_id'], inplace=True)\n",
    "# data.score = round(data.score,0)\n",
    "# ratings = data.pivot_table(index='cust_id', columns='stu_id', values='score')\n",
    "# ratings_d = data.pivot_table(index='cust_id', columns='stu_id', values='score')\n",
    "# index_list = [i+1 for i in range(len(ratings.index))]\n",
    "# ratings.index = np.arange(22, 42, 1)\n",
    "# ratings.columns = np.arange(1156, 1176, 1)\n",
    "# ratings.index.name = 'cust_id'\n",
    "# ratings.columns.name = 'stu_id'\n",
    "# ratings"
   ]
  },
  {
   "cell_type": "code",
   "execution_count": null,
   "metadata": {},
   "outputs": [],
   "source": [
    "# from itertools import product\n",
    "# id_combo=list(product(ratings.index, ratings.columns))\n",
    "# res_id = 62\n",
    "# for cust_id, stu_id in id_combo:\n",
    "#     db= pymysql.connect(host='pics.crvbvpzlygpt.ap-northeast-2.rds.amazonaws.com',\n",
    "#                      port=3306,\n",
    "#                      user='pics',\n",
    "#                      passwd='picspics!1',\n",
    "#                      db='pics',\n",
    "#                      charset='utf8',\n",
    "#                    cursorclass=pymysql.cursors.DictCursor)\n",
    "#     cursor= db.cursor()\n",
    "#     sql = \"INSERT INTO reservation(cust_id,stu_id,start_date,end_date,total_price,res_date,total_people) \"\n",
    "#     sql += \"VALUES(\"\n",
    "#     sql += str(cust_id)+\", \"\n",
    "#     sql += str(stu_id)+\", \"\n",
    "#     sql += \"'2020-09-14', '2020-09-15', 100000, '2020-09-01', 10);\"\n",
    "\n",
    "\n",
    "#     cursor.execute(sql)\n",
    "#     db.commit()\n",
    "#     db.close()\n"
   ]
  },
  {
   "cell_type": "code",
   "execution_count": null,
   "metadata": {},
   "outputs": [],
   "source": [
    "# from itertools import product\n",
    "# id_combo=list(product(ratings.index, ratings.columns))\n",
    "# res_id = 2485\n",
    "# for cust_id, stu_id in id_combo:\n",
    "#     score = ratings.loc[cust_id,stu_id]\n",
    "#     if score > -1 :\n",
    "#         db= pymysql.connect(host='pics.crvbvpzlygpt.ap-northeast-2.rds.amazonaws.com',\n",
    "#                          port=3306,\n",
    "#                          user='pics',\n",
    "#                          passwd='picspics!1',\n",
    "#                          db='pics',\n",
    "#                          charset='utf8',\n",
    "#                        cursorclass=pymysql.cursors.DictCursor)\n",
    "#         cursor= db.cursor()\n",
    "#         sql = \"INSERT INTO review(cust_id, stu_id, res_id, score) \"\n",
    "#         sql += \"VALUES( \"\n",
    "#         sql += str(cust_id)+\", \"\n",
    "#         sql += str(stu_id)+\", \"\n",
    "#         sql += str(res_id)+\", \"\n",
    "#         sql += str(score) +\"); \"\n",
    "#     else : \n",
    "#         continue\n",
    "\n",
    "#     print(sql)\n",
    "#     cursor.execute(sql)\n",
    "#     db.commit()\n",
    "#     db.close()\n",
    "#     res_id += 1\n"
   ]
  },
  {
   "cell_type": "code",
   "execution_count": 1,

"#   execution_count": 2,
   "metadata": {},
   "outputs": [
    {
     "name": "stderr",
     "output_type": "stream",
     "text": [
      "[NbConvertApp] Converting notebook reco_dao.ipynb to script\n",
      "[NbConvertApp] Writing 3248 bytes to reco_dao.py\n"
     ]
    }
   ],
   "source": [
    "!jupyter nbconvert --to script reco_dao.ipynb "
   ]
  },
  {
   "cell_type": "code",
   "execution_count": null,
   "metadata": {},
   "outputs": [],
   "source": []
  }
 ],
 "metadata": {
  "kernelspec": {
   "display_name": "Python 3",
   "language": "python",
   "name": "python3"
  },
  "language_info": {
   "codemirror_mode": {
    "name": "ipython",
    "version": 3
   },
   "file_extension": ".py",
   "mimetype": "text/x-python",
   "name": "python",
   "nbconvert_exporter": "python",
   "pygments_lexer": "ipython3",
   "version": "3.7.7"
  }
 },
 "nbformat": 4,
 "nbformat_minor": 4
}
