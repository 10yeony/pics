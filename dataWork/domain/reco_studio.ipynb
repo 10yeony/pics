{
 "cells": [
  {
   "cell_type": "code",
   "execution_count": null,
   "metadata": {},
   "outputs": [],
   "source": [
    "class reco_studio(object):\n",
    "    def __init__(self, stu_name, category_name, address, unit_price, main_img):\n",
    "        self.stuName = stu_name\n",
    "        self.category_name = category_name\n",
    "        self.address = address\n",
    "        self.unit_price = unit_price\n",
    "        self.main_img = main_img"
   ]
  },
  {
   "cell_type": "code",
   "execution_count": 2,
   "metadata": {},
   "outputs": [
    {
     "name": "stderr",
     "output_type": "stream",
     "text": [
      "[NbConvertApp] Converting notebook reco_studio.ipynb to script\n",
      "[NbConvertApp] Writing 420 bytes to reco_studio.py\n"
     ]
    }
   ],
   "source": [
    "!jupyter nbconvert --to script reco_studio.ipynb "
   ]
  }
 ],
 "metadata": {
  "kernelspec": {
   "display_name": "Python 3",
   "language": "python",
   "name": "python3"
  },
  "language_info": {
   "codemirror_mode": {
    "name": "ipython",
    "version": 3
   },
   "file_extension": ".py",
   "mimetype": "text/x-python",
   "name": "python",
   "nbconvert_exporter": "python",
   "pygments_lexer": "ipython3",
   "version": "3.7.7"
  }
 },
 "nbformat": 4,
 "nbformat_minor": 4
}
