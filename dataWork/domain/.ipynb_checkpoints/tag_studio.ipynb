{
 "cells": [
  {
   "cell_type": "code",
   "execution_count": null,
   "metadata": {},
   "outputs": [],
   "source": [
    "class tag_studio(object):\n",
    "    def __init__(self, stu_id,stu_name, category_id, address, unit_price, main_img):\n",
    "        self.stuId = stu_id\n",
    "        self.stuName = stu_name\n",
    "        self.categoryId = category_id\n",
    "        self.address = address\n",
    "        self.unitPrice = unit_price\n",
    "        self.mainImg = main_img"
   ]
  }
 ],
 "metadata": {
  "kernelspec": {
   "display_name": "Python 3",
   "language": "python",
   "name": "python3"
  },
  "language_info": {
   "codemirror_mode": {
    "name": "ipython",
    "version": 3
   },
   "file_extension": ".py",
   "mimetype": "text/x-python",
   "name": "python",
   "nbconvert_exporter": "python",
   "pygments_lexer": "ipython3",
   "version": "3.7.7"
  }
 },
 "nbformat": 4,
 "nbformat_minor": 4
}
