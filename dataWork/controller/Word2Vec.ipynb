{
 "cells": [
  {
   "cell_type": "markdown",
   "metadata": {},
   "source": [
    "## 자연어 처리기로 데이터 셋 만들기"
   ]
  },
  {
   "cell_type": "code",
   "execution_count": 1,
   "metadata": {},
   "outputs": [],
   "source": [
    "# 데이터 핸들링 프레임\n",
    "import numpy as np \n",
    "import pandas as pd\n",
    "from pandas import DataFrame as df\n",
    "import csv\n",
    "import os\n",
    "\n",
    "# 자연어 처리기\n",
    "from konlpy.tag import Okt\n",
    "from collections import Counter\n",
    "\n",
    "# word2Vec\n",
    "import gensim \n",
    "from gensim.models import word2vec"
   ]
  },
  {
   "cell_type": "code",
   "execution_count": 2,
   "metadata": {},
   "outputs": [],
   "source": [
    "dataset = pd.read_csv(\"total_dataset_trim_newTag_scale.csv\",encoding='utf-8')\n",
    "# dataset.tail()"
   ]
  },
  {
   "cell_type": "code",
   "execution_count": 113,
   "metadata": {},
   "outputs": [],
   "source": [
    "## description 다듬기 : 데이터 정규화, 맥락 위주로 자르고 명사만 가져오기, 글자길이는 1 ~ 7  \n",
    "def getDescList(n):\n",
    "    okt=Okt()\n",
    "    descList=[]\n",
    "    for i in range(n):\n",
    "        tempList=[]\n",
    "        descript=(dataset.description[i]) # 한글자 이상만 뽑음\n",
    "        descript=descript.replace(\"\\n\",\"\")\n",
    "        descript=descript.replace(\"\\r\",\"\")\n",
    "        descript=descript.replace(\"[^ㄱ-ㅎㅏ-ㅣ가-힣AZ09]\",\"\")\n",
    "        tempList=[j[0] for j in okt.pos(descript) if ((len(j[0])>1)& (len(j[0])<7)& (j[1]==\"Noun\"))]\n",
    "        tempList=list(set(tempList))\n",
    "        if len(tempList)>0:\n",
    "            descList.append(tempList)\n",
    "        else:\n",
    "            descList.append(tempList)\n",
    "    return descList"
   ]
  },
  {
   "cell_type": "code",
   "execution_count": 114,
   "metadata": {},
   "outputs": [],
   "source": [
    "## Tag 다듬기 : 복합명사로 이루어진 태그는 잘라서 길이 2~7 사이의 단어만 추출\n",
    "def getTagList(n):\n",
    "    parseTagList=[]\n",
    "    okt=Okt()\n",
    "    for i in range(n):\n",
    "        tempTagList=[]\n",
    "        tags=str(dataset.tag[i]).split('#') # 태그별로 자르기\n",
    "        for tag in tags:\n",
    "            if len(tag)>1:\n",
    "                okt.pos(tag)  # 1개 태그 내 복합 명사 자르기\n",
    "                for j in okt.nouns(tag):\n",
    "                    if(len(j)>=2|len(j)<7):\n",
    "                        tempTagList.append(j)\n",
    "        tempTagList=list(set(tempTagList))\n",
    "        parseTagList.append(tempTagList)\n",
    "    return parseTagList"
   ]
  },
  {
   "cell_type": "code",
   "execution_count": 105,
   "metadata": {},
   "outputs": [
    {
     "name": "stdout",
     "output_type": "stream",
     "text": [
      "Wall time: 40.2 s\n"
     ]
    }
   ],
   "source": [
    "## Case 1) 코어 태그 추출 (태그, description 합집합)\n",
    "def getCoreTags1(n):\n",
    "    coreTagList1=[]\n",
    "    okt=Okt()    \n",
    "    coreTag=[]\n",
    "    descript=getDescList(n) # 한글자 이상만 뽑음\n",
    "    tags=getTagList(n)  # tag를 한번 더 파싱\n",
    "    for i in range(len(descript)): \n",
    "        if (len(tags[i])>0): \n",
    "            coreTag.append(tags[i]+descript[i])\n",
    "        else:\n",
    "            coreTag.append(descript[i])\n",
    "    coreTagList1.append(coreTag)\n",
    "    return coreTagList1\n",
    "\n",
    "%time CoreTagDate1=getCoreTags1(len(dataset))\n",
    "CoreTagDate1=CoreTagDate1[0]"
   ]
  },
  {
   "cell_type": "code",
   "execution_count": 106,
   "metadata": {},
   "outputs": [
    {
     "name": "stdout",
     "output_type": "stream",
     "text": [
      "Wall time: 1min 25s\n"
     ]
    }
   ],
   "source": [
    "## Case 2) 코어 태그 추출 (부분적으로 기존 태그 + description + coreTag )\n",
    "def getCoreTags2(n):\n",
    "    coreTagList=[]\n",
    "    okt=Okt()    \n",
    "    descript=getDescList(n) # 한글자 이상만 뽑음\n",
    "    tags=getTagList(n)  # tag를 한번 더 파싱\n",
    "    for k in range(len(descript)):\n",
    "        coreTags=[]\n",
    "        for t in range(len(tags[k])):\n",
    "            if (len(tags[k][t])>0)&(tags[k][t] in descript[k]): # 태그가 description 단어에도 있는지 확인\n",
    "                coreTags.append(tags[k][t])\n",
    "        if (len(tags[k])<=3): # 태그 수가 없으면 디스크립션으로\n",
    "            coreTagList.append(list(set(descript[k])))\n",
    "        elif((len(coreTags)<=3)&(len(tags[k])>3)):# desc와 일치하는 태그(coreTag)가 적은데 기존 태그(tags[k])많으면 기존 태그 사용\n",
    "            coreTagList.append(tags[k])\n",
    "        elif(len(coreTags)>3): # 디스크립션과 일치하는 태그가 많으면 일치태그 사용\n",
    "            coreTagList.append(coreTags)\n",
    "        else:\n",
    "            coreTagList.append(list(set(descript[k])))\n",
    "            print(\"descript[k]\",descript[k])\n",
    "    return coreTagList\n",
    "%time CoreTagDate2=getCoreTags2(1852)"
   ]
  },
  {
   "cell_type": "code",
   "execution_count": 107,
   "metadata": {},
   "outputs": [
    {
     "name": "stdout",
     "output_type": "stream",
     "text": [
      "[] 92\n",
      "[] 1486\n",
      "[] 1806\n"
     ]
    }
   ],
   "source": [
    "# Tag2 데이터 보정 : Tag1의 데이터 갖다쓰기\n",
    "for i in range(len(CoreTagDate2)):\n",
    "    if len(CoreTagDate2[i])<1:\n",
    "        print(CoreTagDate2[i],i)\n",
    "        CoreTagDate2[i]=list(set(CoreTagDate1[i]))"
   ]
  },
  {
   "cell_type": "code",
   "execution_count": 108,
   "metadata": {},
   "outputs": [],
   "source": [
    "for i in range(len(CoreTagDate2)):\n",
    "    CoreTagDate2[i]=list(set(CoreTagDate2[i]))\n",
    "    CoreTagDate1[i]=list(set(CoreTagDate1[i]))\n"
   ]
  },
  {
   "cell_type": "markdown",
   "metadata": {},
   "source": [
    "## 모델 가동, 그 결과를 새로운 태그로 (extend_tag) 컬럼으로 저장"
   ]
  },
  {
   "cell_type": "code",
   "execution_count": 109,
   "metadata": {},
   "outputs": [],
   "source": [
    "# Word2Vec 모델\n",
    "num_features =350    # Word vector dimensionality                      \n",
    "min_word_count =2   # Minimum word count                        \n",
    "num_workers = 2     # Number of threads to run in parallel\n",
    "context = 4          # Context window size                                                                                    \n",
    "downsampling = 1e-3  # Downsample setting for frequent words\n",
    "dataset1=dataset\n",
    "\n",
    "model1 = gensim.models.Word2Vec(CoreTagDate1, workers=num_workers, \n",
    "                          size=num_features, min_count = min_word_count,\n",
    "                          window = context, sample = downsampling)\n",
    "model_name = \"TagSimilarity1\"\n",
    "model1.save(model_name)"
   ]
  },
  {
   "cell_type": "code",
   "execution_count": 93,
   "metadata": {},
   "outputs": [
    {
     "data": {
      "text/plain": [
       "{'가정': [('아파트', 0.9999679923057556),\n",
       "  ('화이트', 0.9999654293060303),\n",
       "  ('복층', 0.9999648332595825),\n",
       "  ('채광', 0.9999646544456482),\n",
       "  ('미니', 0.9999638795852661)],\n",
       " '사진': [('연출', 0.9999827146530151),\n",
       "  ('문의', 0.9999758005142212),\n",
       "  ('저희', 0.9999749064445496),\n",
       "  ('드라마', 0.9999745488166809),\n",
       "  ('예약', 0.9999743700027466)],\n",
       " '촬영': [('영상', 0.9999771118164062),\n",
       "  ('사진', 0.9999743103981018),\n",
       "  ('드라마', 0.9999740123748779),\n",
       "  ('제품', 0.9999732375144958),\n",
       "  ('문의', 0.9999725818634033)],\n",
       " '원목': [('느낌', 0.9999755024909973),\n",
       "  ('거실', 0.9999753832817078),\n",
       "  ('모두', 0.9999713897705078),\n",
       "  ('소품', 0.9999698400497437),\n",
       "  ('우드', 0.999968409538269)],\n",
       " '아파트': [('화이트', 0.9999776482582092),\n",
       "  ('조명', 0.999975860118866),\n",
       "  ('시간', 0.9999750852584839),\n",
       "  ('가구', 0.9999749064445496),\n",
       "  ('건물', 0.9999733567237854)],\n",
       " '루프': [('위치', 0.9999781847000122),\n",
       "  ('영화', 0.9999741315841675),\n",
       "  ('바로', 0.9999725222587585),\n",
       "  ('감성', 0.9999699592590332),\n",
       "  ('장소', 0.9999698400497437)],\n",
       " '자연': [('장소', 0.9999760389328003),\n",
       "  ('광고', 0.9999748468399048),\n",
       "  ('감성', 0.999971866607666),\n",
       "  ('대형', 0.9999713897705078),\n",
       "  ('빈티', 0.9999707341194153)],\n",
       " '채광': [('서울', 0.9999792575836182),\n",
       "  ('구조', 0.9999791979789734),\n",
       "  ('주차장', 0.9999789595603943),\n",
       "  ('햇살', 0.9999787211418152),\n",
       "  ('추가', 0.9999784231185913)],\n",
       " '스튜디오': [('홍대', 0.999969482421875),\n",
       "  ('촬영', 0.9999639391899109),\n",
       "  ('기본', 0.9999617338180542),\n",
       "  ('위치', 0.9999606609344482),\n",
       "  ('강남', 0.9999600052833557)],\n",
       " '광고': [('장소', 0.9999783635139465),\n",
       "  ('모든', 0.9999766945838928),\n",
       "  ('자연', 0.9999748468399048),\n",
       "  ('감성', 0.999974250793457),\n",
       "  ('정도', 0.9999735355377197)],\n",
       " '거실': [('느낌', 0.9999773502349854),\n",
       "  ('원목', 0.9999753832817078),\n",
       "  ('모두', 0.9999748468399048),\n",
       "  ('소품', 0.9999666810035706),\n",
       "  ('주방', 0.9999663829803467)],\n",
       " '주택': [('테라스', 0.9999814033508301),\n",
       "  ('컨셉', 0.9999790191650391),\n",
       "  ('카페', 0.9999786019325256),\n",
       "  ('구조', 0.9999775886535645),\n",
       "  ('근처', 0.9999774694442749)],\n",
       " '파티': [('장소', 0.9999746084213257),\n",
       "  ('대여', 0.9999738931655884),\n",
       "  ('모임', 0.9999697208404541),\n",
       "  ('대관', 0.9999680519104004),\n",
       "  ('광고', 0.9999676942825317)],\n",
       " '빌라': [('테라스', 0.9999740123748779),\n",
       "  ('주택', 0.9999740123748779),\n",
       "  ('주방', 0.9999731183052063),\n",
       "  ('하우스', 0.999972939491272),\n",
       "  ('느낌', 0.9999719858169556)],\n",
       " '카페': [('서울', 0.9999803900718689),\n",
       "  ('근처', 0.999979555606842),\n",
       "  ('복층', 0.9999787211418152),\n",
       "  ('주택', 0.9999786019325256),\n",
       "  ('야외', 0.9999775886535645)],\n",
       " '빈티': [('정원', 0.99997878074646),\n",
       "  ('마당', 0.9999749064445496),\n",
       "  ('정도', 0.9999734163284302),\n",
       "  ('광고', 0.9999728202819824),\n",
       "  ('카페', 0.9999721050262451)],\n",
       " '플라워': [('바로', 0.9998723864555359),\n",
       "  ('위치', 0.9998710751533508),\n",
       "  ('준비', 0.9998705387115479),\n",
       "  ('루프', 0.9998691082000732),\n",
       "  ('욕실', 0.9998688101768494)],\n",
       " '홍대': [('스튜디오', 0.9999695420265198),\n",
       "  ('영상', 0.9999656677246094),\n",
       "  ('촬영', 0.999965488910675),\n",
       "  ('사진', 0.9999640583992004),\n",
       "  ('강남', 0.9999632835388184)],\n",
       " '공간': [('사용', 0.9999772906303406),\n",
       "  ('분위기', 0.9999711513519287),\n",
       "  ('테이블', 0.9999711513519287),\n",
       "  ('운영', 0.9999666213989258),\n",
       "  ('가지', 0.9999639987945557)],\n",
       " '화이트': [('조명', 0.9999781250953674),\n",
       "  ('아파트', 0.9999776482582092),\n",
       "  ('시간', 0.9999746084213257),\n",
       "  ('건물', 0.9999729990959167),\n",
       "  ('공원', 0.9999722838401794)],\n",
       " '느낌': [('모두', 0.9999800324440002),\n",
       "  ('거실', 0.9999772310256958),\n",
       "  ('소품', 0.9999769926071167),\n",
       "  ('원목', 0.9999754428863525),\n",
       "  ('컨셉', 0.9999744892120361)],\n",
       " '분위기': [('사용', 0.9999837875366211),\n",
       "  ('테이블', 0.9999837279319763),\n",
       "  ('협의', 0.9999774098396301),\n",
       "  ('운영', 0.9999773502349854),\n",
       "  ('주차', 0.9999760985374451)],\n",
       " '원룸': [('전망', 0.999975860118866),\n",
       "  ('나무', 0.9999749660491943),\n",
       "  ('사무실', 0.9999743700027466),\n",
       "  ('모든', 0.999974250793457),\n",
       "  ('직접', 0.9999738931655884)],\n",
       " '사무실': [('서울', 0.999980092048645),\n",
       "  ('야외', 0.9999775886535645),\n",
       "  ('채광', 0.9999772906303406),\n",
       "  ('디자인', 0.9999769330024719),\n",
       "  ('추가', 0.9999761581420898)],\n",
       " '서울': [('추가', 0.9999809265136719),\n",
       "  ('야외', 0.999980628490448),\n",
       "  ('햇살', 0.9999803304672241),\n",
       "  ('카페', 0.9999803304672241),\n",
       "  ('사무실', 0.999980092048645)],\n",
       " '마당': [('정원', 0.9999791383743286),\n",
       "  ('빈티', 0.9999749064445496),\n",
       "  ('정도', 0.9999717473983765),\n",
       "  ('카페', 0.9999715089797974),\n",
       "  ('잔디', 0.9999715089797974)],\n",
       " '정원': [('마당', 0.9999791383743286),\n",
       "  ('빈티', 0.99997878074646),\n",
       "  ('잔디', 0.9999774098396301),\n",
       "  ('정도', 0.9999750256538391),\n",
       "  ('전망', 0.9999729990959167)],\n",
       " '모던': [('분위기', 0.9999704360961914),\n",
       "  ('아이', 0.9999697804450989),\n",
       "  ('실내', 0.9999691843986511),\n",
       "  ('운영', 0.9999675750732422),\n",
       "  ('공원', 0.9999668002128601)],\n",
       " '인테리어': [('연출', 0.9999812245368958),\n",
       "  ('모든', 0.9999780058860779),\n",
       "  ('다른', 0.9999756813049316),\n",
       "  ('또한', 0.9999749660491943),\n",
       "  ('대형', 0.9999741315841675)],\n",
       " '오피스': [('사무실', 0.9999518990516663),\n",
       "  ('서울', 0.9999515414237976),\n",
       "  ('채광', 0.9999499320983887),\n",
       "  ('근처', 0.9999489784240723),\n",
       "  ('디자인', 0.9999482035636902)]}"
      ]
     },
     "execution_count": 93,
     "metadata": {},
     "output_type": "execute_result"
    }
   ],
   "source": [
    "# model.wv.vocab\n",
    "test_keyword=[\"가정\",\"사진\",\"촬영\",\"원목\",\"아파트\",\"루프\",\"자연\",\"채광\",\"스튜디오\",\"광고\",\"거실\",\"주택\",\"파티\",\"빌라\",\"카페\",\n",
    "              \"빈티\",\"플라워\",\"홍대\",\"공간\",\"화이트\",\"느낌\",\"분위기\",\"원룸\",\n",
    "              \"사무실\",\"서울\",\"마당\",\"정원\",\"모던\",\"인테리어\",\"오피스\"]\n",
    "\n",
    "testkeywordDict1={}\n",
    "for keyword in test_keyword:\n",
    "    testkeywordDict1.update({keyword:model1.wv.most_similar(keyword,topn=5)})\n",
    "testkeywordDict1"
   ]
  },
  {
   "cell_type": "code",
   "execution_count": 133,
   "metadata": {},
   "outputs": [],
   "source": [
    "## Tag1 데이터 셋을 기반으로 모델 작성, Tag2 데이터 셋의 유사단어 리스트 추출\n",
    "def extendTag():\n",
    "    vocab=model1.wv.vocab\n",
    "    extendTagList=[]\n",
    "    extendTagSimList=[]\n",
    "    for i in range(len(CoreTagDate2)):\n",
    "        tags=[]\n",
    "        tagsSim=[]\n",
    "        for j in range(len(CoreTagDate2[i])):\n",
    "            if((len(CoreTagDate2[i])>25)):\n",
    "                tags.append(CoreTagDate2[i][j])\n",
    "                tagsSim.append(0)\n",
    "            if((CoreTagDate2[i][j] in vocab.keys())&(len(CoreTagDate2[i])>12)):\n",
    "                for k in range(1):\n",
    "                    tags.append(model1.wv.most_similar(CoreTagDate2[i][j],topn=1)[k][0])\n",
    "                    tagsSim.append(model1.wv.most_similar(CoreTagDate2[i][j],topn=1)[k][1])\n",
    "            elif((CoreTagDate2[i][j] in vocab.keys())&(len(CoreTagDate2[i])>5)):\n",
    "                for k in range(3):\n",
    "                    tags.append(model1.wv.most_similar(CoreTagDate2[i][j],topn=3)[k][0])\n",
    "                    tagsSim.append(model1.wv.most_similar(CoreTagDate2[i][j],topn=3)[k][1])\n",
    "            elif((CoreTagDate2[i][j] in vocab.keys())&(len(CoreTagDate2[i])<=4)):\n",
    "                for k in range(4):\n",
    "                    tags.append(model1.wv.most_similar(CoreTagDate2[i][j],topn=4)[k][0])                    \n",
    "                    tagsSim.append(model1.wv.most_similar(CoreTagDate2[i][j],topn=4)[k][1])\n",
    "        extendTagList.append(list(set(tags)))\n",
    "        extendTagSimList.append(list(set(tagsSim)))\n",
    "    return extendTagList,extendTagSimList\n",
    "extend_tag=extendTag()"
   ]
  },
  {
   "cell_type": "code",
   "execution_count": 137,
   "metadata": {},
   "outputs": [],
   "source": [
    "dataset[\"extend_tag\"]=extend_tag[0]\n",
    "dataset[\"extend_tag_sim\"]=extend_tag[1]"
   ]
  },
  {
   "cell_type": "code",
   "execution_count": 138,
   "metadata": {},
   "outputs": [],
   "source": [
    "# 유사단어 컬럼 추가한 파일 저장\n",
    "dataset.to_csv('C:/바탕 화면/playdata/ice/eclipse/Devils_Project/dataWork/controller/total_dataset_trim_newExtendTag.csv',\n",
    "                 sep=',',na_rep='NaN',index =True,encoding='utf-8-sig')"
   ]
  },
  {
   "cell_type": "code",
   "execution_count": null,
   "metadata": {},
   "outputs": [],
   "source": []
  },
  {
   "cell_type": "markdown",
   "metadata": {},
   "source": [
    "## 키워드 카운트\n",
    "    여기서부터는 Controller의 영역"
   ]
  },
  {
   "cell_type": "code",
   "execution_count": null,
   "metadata": {},
   "outputs": [],
   "source": [
    "dataset = pd.read_csv(\"total_dataset_trim_newExtendTag.csv\",encoding='utf-8')"
   ]
  },
  {
   "cell_type": "code",
   "execution_count": 172,
   "metadata": {
    "collapsed": true
   },
   "outputs": [
    {
     "ename": "IndexError",
     "evalue": ".iloc requires numeric indexers, got ['extend_tag_sim']",
     "output_type": "error",
     "traceback": [
      "\u001b[1;31m---------------------------------------------------------------------------\u001b[0m",
      "\u001b[1;31mIndexError\u001b[0m                                Traceback (most recent call last)",
      "\u001b[1;32m<ipython-input-172-e35917cbf7b9>\u001b[0m in \u001b[0;36m<module>\u001b[1;34m\u001b[0m\n\u001b[0;32m     30\u001b[0m     \u001b[1;32mreturn\u001b[0m \u001b[0mcountKeyword\u001b[0m\u001b[1;33m\u001b[0m\u001b[1;33m\u001b[0m\u001b[0m\n\u001b[0;32m     31\u001b[0m \u001b[1;33m\u001b[0m\u001b[0m\n\u001b[1;32m---> 32\u001b[1;33m \u001b[0mtagCount\u001b[0m\u001b[1;33m=\u001b[0m\u001b[0mtagCount\u001b[0m\u001b[1;33m(\u001b[0m\u001b[0mtarget\u001b[0m\u001b[1;33m[\u001b[0m\u001b[1;34m\"extend_tag\"\u001b[0m\u001b[1;33m]\u001b[0m\u001b[1;33m.\u001b[0m\u001b[0mvalues\u001b[0m\u001b[1;33m[\u001b[0m\u001b[1;36m0\u001b[0m\u001b[1;33m]\u001b[0m\u001b[1;33m)\u001b[0m\u001b[1;33m\u001b[0m\u001b[1;33m\u001b[0m\u001b[0m\n\u001b[0m\u001b[0;32m     33\u001b[0m \u001b[1;31m# rest[\"tagCount\"]=tagCount\u001b[0m\u001b[1;33m\u001b[0m\u001b[1;33m\u001b[0m\u001b[1;33m\u001b[0m\u001b[0m\n\u001b[0;32m     34\u001b[0m \u001b[1;31m# target[\"tagCount\"]=0  # target은 아예 안 뜨도록 0으로 처리\u001b[0m\u001b[1;33m\u001b[0m\u001b[1;33m\u001b[0m\u001b[1;33m\u001b[0m\u001b[0m\n",
      "\u001b[1;32m<ipython-input-172-e35917cbf7b9>\u001b[0m in \u001b[0;36mtagCount\u001b[1;34m(targetTag)\u001b[0m\n\u001b[0;32m     25\u001b[0m         \u001b[1;32mfor\u001b[0m \u001b[0mj\u001b[0m \u001b[1;32min\u001b[0m \u001b[0mrange\u001b[0m\u001b[1;33m(\u001b[0m\u001b[0mlen\u001b[0m\u001b[1;33m(\u001b[0m\u001b[0mstrToList\u001b[0m\u001b[1;33m(\u001b[0m\u001b[0mtargetTag\u001b[0m\u001b[1;33m)\u001b[0m\u001b[1;33m)\u001b[0m\u001b[1;33m)\u001b[0m\u001b[1;33m:\u001b[0m\u001b[1;33m\u001b[0m\u001b[1;33m\u001b[0m\u001b[0m\n\u001b[0;32m     26\u001b[0m             \u001b[1;32mif\u001b[0m \u001b[0mtargetTag\u001b[0m\u001b[1;33m[\u001b[0m\u001b[0mj\u001b[0m\u001b[1;33m]\u001b[0m \u001b[1;32min\u001b[0m \u001b[0mstrToList\u001b[0m\u001b[1;33m(\u001b[0m\u001b[0mrest\u001b[0m\u001b[1;33m.\u001b[0m\u001b[0miloc\u001b[0m\u001b[1;33m[\u001b[0m\u001b[0mi\u001b[0m\u001b[1;33m]\u001b[0m\u001b[1;33m[\u001b[0m\u001b[1;34m\"extend_tag\"\u001b[0m\u001b[1;33m]\u001b[0m\u001b[1;33m)\u001b[0m\u001b[1;33m:\u001b[0m\u001b[1;33m\u001b[0m\u001b[1;33m\u001b[0m\u001b[0m\n\u001b[1;32m---> 27\u001b[1;33m                 \u001b[0mweight\u001b[0m\u001b[1;33m=\u001b[0m\u001b[0mrest\u001b[0m\u001b[1;33m.\u001b[0m\u001b[0miloc\u001b[0m\u001b[1;33m[\u001b[0m\u001b[0mj\u001b[0m\u001b[1;33m,\u001b[0m\u001b[1;33m[\u001b[0m\u001b[1;34m\"extend_tag_sim\"\u001b[0m\u001b[1;33m]\u001b[0m\u001b[1;33m]\u001b[0m\u001b[1;33m\u001b[0m\u001b[1;33m\u001b[0m\u001b[0m\n\u001b[0m\u001b[0;32m     28\u001b[0m                 \u001b[0mcnt\u001b[0m\u001b[1;33m+=\u001b[0m\u001b[1;36m1\u001b[0m\u001b[1;33m*\u001b[0m\u001b[0mweight\u001b[0m\u001b[1;33m\u001b[0m\u001b[1;33m\u001b[0m\u001b[0m\n\u001b[0;32m     29\u001b[0m         \u001b[0mcountKeyword\u001b[0m\u001b[1;33m.\u001b[0m\u001b[0mappend\u001b[0m\u001b[1;33m(\u001b[0m\u001b[0mcnt\u001b[0m\u001b[1;33m)\u001b[0m\u001b[1;33m\u001b[0m\u001b[1;33m\u001b[0m\u001b[0m\n",
      "\u001b[1;32mC:\\anaconda3\\lib\\site-packages\\pandas\\core\\indexing.py\u001b[0m in \u001b[0;36m__getitem__\u001b[1;34m(self, key)\u001b[0m\n\u001b[0;32m    871\u001b[0m                     \u001b[1;31m# AttributeError for IntervalTree get_value\u001b[0m\u001b[1;33m\u001b[0m\u001b[1;33m\u001b[0m\u001b[1;33m\u001b[0m\u001b[0m\n\u001b[0;32m    872\u001b[0m                     \u001b[1;32mpass\u001b[0m\u001b[1;33m\u001b[0m\u001b[1;33m\u001b[0m\u001b[0m\n\u001b[1;32m--> 873\u001b[1;33m             \u001b[1;32mreturn\u001b[0m \u001b[0mself\u001b[0m\u001b[1;33m.\u001b[0m\u001b[0m_getitem_tuple\u001b[0m\u001b[1;33m(\u001b[0m\u001b[0mkey\u001b[0m\u001b[1;33m)\u001b[0m\u001b[1;33m\u001b[0m\u001b[1;33m\u001b[0m\u001b[0m\n\u001b[0m\u001b[0;32m    874\u001b[0m         \u001b[1;32melse\u001b[0m\u001b[1;33m:\u001b[0m\u001b[1;33m\u001b[0m\u001b[1;33m\u001b[0m\u001b[0m\n\u001b[0;32m    875\u001b[0m             \u001b[1;31m# we by definition only have the 0th axis\u001b[0m\u001b[1;33m\u001b[0m\u001b[1;33m\u001b[0m\u001b[1;33m\u001b[0m\u001b[0m\n",
      "\u001b[1;32mC:\\anaconda3\\lib\\site-packages\\pandas\\core\\indexing.py\u001b[0m in \u001b[0;36m_getitem_tuple\u001b[1;34m(self, tup)\u001b[0m\n\u001b[0;32m   1441\u001b[0m     \u001b[1;32mdef\u001b[0m \u001b[0m_getitem_tuple\u001b[0m\u001b[1;33m(\u001b[0m\u001b[0mself\u001b[0m\u001b[1;33m,\u001b[0m \u001b[0mtup\u001b[0m\u001b[1;33m:\u001b[0m \u001b[0mTuple\u001b[0m\u001b[1;33m)\u001b[0m\u001b[1;33m:\u001b[0m\u001b[1;33m\u001b[0m\u001b[1;33m\u001b[0m\u001b[0m\n\u001b[0;32m   1442\u001b[0m \u001b[1;33m\u001b[0m\u001b[0m\n\u001b[1;32m-> 1443\u001b[1;33m         \u001b[0mself\u001b[0m\u001b[1;33m.\u001b[0m\u001b[0m_has_valid_tuple\u001b[0m\u001b[1;33m(\u001b[0m\u001b[0mtup\u001b[0m\u001b[1;33m)\u001b[0m\u001b[1;33m\u001b[0m\u001b[1;33m\u001b[0m\u001b[0m\n\u001b[0m\u001b[0;32m   1444\u001b[0m         \u001b[1;32mtry\u001b[0m\u001b[1;33m:\u001b[0m\u001b[1;33m\u001b[0m\u001b[1;33m\u001b[0m\u001b[0m\n\u001b[0;32m   1445\u001b[0m             \u001b[1;32mreturn\u001b[0m \u001b[0mself\u001b[0m\u001b[1;33m.\u001b[0m\u001b[0m_getitem_lowerdim\u001b[0m\u001b[1;33m(\u001b[0m\u001b[0mtup\u001b[0m\u001b[1;33m)\u001b[0m\u001b[1;33m\u001b[0m\u001b[1;33m\u001b[0m\u001b[0m\n",
      "\u001b[1;32mC:\\anaconda3\\lib\\site-packages\\pandas\\core\\indexing.py\u001b[0m in \u001b[0;36m_has_valid_tuple\u001b[1;34m(self, key)\u001b[0m\n\u001b[0;32m    700\u001b[0m                 \u001b[1;32mraise\u001b[0m \u001b[0mIndexingError\u001b[0m\u001b[1;33m(\u001b[0m\u001b[1;34m\"Too many indexers\"\u001b[0m\u001b[1;33m)\u001b[0m\u001b[1;33m\u001b[0m\u001b[1;33m\u001b[0m\u001b[0m\n\u001b[0;32m    701\u001b[0m             \u001b[1;32mtry\u001b[0m\u001b[1;33m:\u001b[0m\u001b[1;33m\u001b[0m\u001b[1;33m\u001b[0m\u001b[0m\n\u001b[1;32m--> 702\u001b[1;33m                 \u001b[0mself\u001b[0m\u001b[1;33m.\u001b[0m\u001b[0m_validate_key\u001b[0m\u001b[1;33m(\u001b[0m\u001b[0mk\u001b[0m\u001b[1;33m,\u001b[0m \u001b[0mi\u001b[0m\u001b[1;33m)\u001b[0m\u001b[1;33m\u001b[0m\u001b[1;33m\u001b[0m\u001b[0m\n\u001b[0m\u001b[0;32m    703\u001b[0m             \u001b[1;32mexcept\u001b[0m \u001b[0mValueError\u001b[0m \u001b[1;32mas\u001b[0m \u001b[0merr\u001b[0m\u001b[1;33m:\u001b[0m\u001b[1;33m\u001b[0m\u001b[1;33m\u001b[0m\u001b[0m\n\u001b[0;32m    704\u001b[0m                 raise ValueError(\n",
      "\u001b[1;32mC:\\anaconda3\\lib\\site-packages\\pandas\\core\\indexing.py\u001b[0m in \u001b[0;36m_validate_key\u001b[1;34m(self, key, axis)\u001b[0m\n\u001b[0;32m   1361\u001b[0m             \u001b[1;31m# check that the key has a numeric dtype\u001b[0m\u001b[1;33m\u001b[0m\u001b[1;33m\u001b[0m\u001b[1;33m\u001b[0m\u001b[0m\n\u001b[0;32m   1362\u001b[0m             \u001b[1;32mif\u001b[0m \u001b[1;32mnot\u001b[0m \u001b[0mis_numeric_dtype\u001b[0m\u001b[1;33m(\u001b[0m\u001b[0marr\u001b[0m\u001b[1;33m.\u001b[0m\u001b[0mdtype\u001b[0m\u001b[1;33m)\u001b[0m\u001b[1;33m:\u001b[0m\u001b[1;33m\u001b[0m\u001b[1;33m\u001b[0m\u001b[0m\n\u001b[1;32m-> 1363\u001b[1;33m                 \u001b[1;32mraise\u001b[0m \u001b[0mIndexError\u001b[0m\u001b[1;33m(\u001b[0m\u001b[1;34mf\".iloc requires numeric indexers, got {arr}\"\u001b[0m\u001b[1;33m)\u001b[0m\u001b[1;33m\u001b[0m\u001b[1;33m\u001b[0m\u001b[0m\n\u001b[0m\u001b[0;32m   1364\u001b[0m \u001b[1;33m\u001b[0m\u001b[0m\n\u001b[0;32m   1365\u001b[0m             \u001b[1;31m# check that the key does not exceed the maximum size of the index\u001b[0m\u001b[1;33m\u001b[0m\u001b[1;33m\u001b[0m\u001b[1;33m\u001b[0m\u001b[0m\n",
      "\u001b[1;31mIndexError\u001b[0m: .iloc requires numeric indexers, got ['extend_tag_sim']"
     ]
    }
   ],
   "source": [
    "#임의로 1개 선택\n",
    "target=dataset.iloc[:1]\n",
    "rest=dataset.iloc[1:]\n",
    "# target=dataset.iloc[k:k+1]\n",
    "# rest=dataset.iloc[k+1:]\n",
    "\n",
    "\n",
    "# 문자열로 저장된 태그 리스트로 변환\n",
    "def strToList(value):\n",
    "    if type(value)==str:\n",
    "        trimList=value.replace(']','')\n",
    "        trimList=trimList.replace('[','')\n",
    "        trimList=trimList.replace(\"'\",'')\n",
    "        trimList=trimList.split(\",\")\n",
    "        trimList=list(set(trimList))  # 리스트 안에서 중복되는 태그 삭제\n",
    "    else:\n",
    "        trimList=list(set(value))\n",
    "    return trimList\n",
    "\n",
    "## 유사 태그 개수 세기\n",
    "def tagCount(targetTag):\n",
    "    countKeyword=[]\n",
    "    for i in range(len(rest[\"extend_tag\"])):\n",
    "        cnt=0\n",
    "        for j in range(len(strToList(targetTag))):\n",
    "            for k in range(len(strToList(reset[\"extend_tag\"]))):\n",
    "                if targetTag[j] == strToList(rest.iloc[i][\"extend_tag\"]):\n",
    "                    weight=rest.iloc[j,[\"extend_tag_sim\"]]\n",
    "                    cnt+=1*weight\n",
    "        countKeyword.append(cnt)\n",
    "    return countKeyword\n",
    "\n",
    "tagCount=tagCount(target[\"extend_tag\"].values[0])\n",
    "# rest[\"tagCount\"]=tagCount\n",
    "# target[\"tagCount\"]=0  # target은 아예 안 뜨도록 0으로 처리\n",
    "\n",
    "# 다시 2개 합치기\n",
    "# dataset=pd.concat([target,rest])\n",
    "# dataset1=dataset"
   ]
  },
  {
   "cell_type": "code",
   "execution_count": null,
   "metadata": {},
   "outputs": [],
   "source": [
    "target[\"extend_tag\"].values[0]"
   ]
  },
  {
   "cell_type": "code",
   "execution_count": null,
   "metadata": {},
   "outputs": [],
   "source": []
  },
  {
   "cell_type": "code",
   "execution_count": null,
   "metadata": {},
   "outputs": [],
   "source": []
  }
 ],
 "metadata": {
  "kernelspec": {
   "display_name": "Python 3",
   "language": "python",
   "name": "python3"
  },
  "language_info": {
   "codemirror_mode": {
    "name": "ipython",
    "version": 3
   },
   "file_extension": ".py",
   "mimetype": "text/x-python",
   "name": "python",
   "nbconvert_exporter": "python",
   "pygments_lexer": "ipython3",
   "version": "3.7.7"
  }
 },
 "nbformat": 4,
 "nbformat_minor": 4
}
