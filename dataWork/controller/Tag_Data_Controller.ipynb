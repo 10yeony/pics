{
 "cells": [
  {
   "cell_type": "code",
   "execution_count": 24,
   "metadata": {},
   "outputs": [],
   "source": [
    "# 외부 모듈\n",
    "## 데이터 핸들링 프레임\n",
    "import numpy as np \n",
    "import pandas as pd\n",
    "from pandas import DataFrame as df\n",
    "import csv\n",
    "import os\n",
    "\n",
    "### 자연어 처리기\n",
    "from konlpy.tag import Okt\n",
    "from collections import Counter\n",
    "\n",
    "## wordVec\n",
    "import gensim \n",
    "from gensim.models import word2vec"
   ]
  },
  {
   "cell_type": "code",
   "execution_count": 27,
   "metadata": {},
   "outputs": [],
   "source": [
    "### 사용자 모듈 불러오기\n",
    "import sys\n",
    "sys.path.append('..')\n",
    "from dao import tag_dao\n",
    "from model import nlp_model\n",
    "from model import word2vec_model\n",
    "\n",
    "# 데이터 불러오기\n",
    "def tagData():\n",
    "    # DB 데이터\n",
    "    dataset = tag_dao.getTagData()\n",
    "    dataset[\"description\"].fillna(\"\",inplace=True)\n",
    "    \n",
    "    # 자연어 처리\n",
    "    CoreTagData1=nlp_model.getCoreTags1(dataset) # tag data1\n",
    "    CoreTagData2=nlp_model.getCoreTags2(dataset) # tag data2\n",
    "    \n",
    "    for i in range(len(CoreTagData2)):\n",
    "        if len(CoreTagData2[i])<1:\n",
    "            CoreTagData2[i]=(CoreTagData1[i])\n",
    "\n",
    "    for i in range(len(CoreTagData2)):\n",
    "        CoreTagData2[i]=list(set(CoreTagData2[i]))\n",
    "        CoreTagData1[i]=list(set(CoreTagData1[i])) \n",
    "  \n",
    "    # dataset에 키워드 삽입\n",
    "    dataset[\"new_tag1\"]=CoreTagData1\n",
    "    dataset[\"new_tag2\"]=CoreTagData2\n",
    "    \n",
    "    \n",
    "#   Word2Vec : CoreTagData1로 데이터 셋 확보\n",
    "    model=word2vec_model.wordVec(CoreTagData1)\n",
    "    vocab=model.wv.vocab\n",
    "    extendTagList=[]\n",
    "    extendTagSimList=[]\n",
    "    dataset=word2vec_model.extendTag(CoreTagData2,model,dataset)\n",
    "    \n",
    "    # 파일 저장 \n",
    "    file_path=os.getcwd()\n",
    "    file_path=file_path.replace(\"\\\\\",'/')\n",
    "    dataset.to_csv(file_path+'/resources/dataset/tag_data.csv',sep=',',na_rep='NaN',index =True,encoding='utf-8-sig')\n",
    "    \n",
    "#     dataset.to_csv('../resources/dataset/tag_data.csv',sep=',',na_rep='NaN',index =True,encoding='utf-8-sig')"
   ]
  },
  {
   "cell_type": "code",
   "execution_count": 28,
   "metadata": {
    "scrolled": false
   },
   "outputs": [],
   "source": [
    "tagData()"
   ]
  },
  {
   "cell_type": "code",
   "execution_count": null,
   "metadata": {},
   "outputs": [],
   "source": []
  },
  {
   "cell_type": "code",
   "execution_count": null,
   "metadata": {},
   "outputs": [],
   "source": []
  },
  {
   "cell_type": "code",
   "execution_count": null,
   "metadata": {},
   "outputs": [],
   "source": []
  }
 ],
 "metadata": {
  "kernelspec": {
   "display_name": "Python 3",
   "language": "python",
   "name": "python3"
  },
  "language_info": {
   "codemirror_mode": {
    "name": "ipython",
    "version": 3
   },
   "file_extension": ".py",
   "mimetype": "text/x-python",
   "name": "python",
   "nbconvert_exporter": "python",
   "pygments_lexer": "ipython3",
   "version": "3.7.7"
  }
 },
 "nbformat": 4,
 "nbformat_minor": 4
}
