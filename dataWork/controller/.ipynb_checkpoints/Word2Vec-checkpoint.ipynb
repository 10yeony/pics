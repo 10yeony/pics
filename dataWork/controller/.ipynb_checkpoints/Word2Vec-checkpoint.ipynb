{
 "cells": [
  {
   "cell_type": "markdown",
   "metadata": {},
   "source": [
    "## 자연어 처리기로 데이터 셋 만들기"
   ]
  },
  {
   "cell_type": "code",
   "execution_count": 1,
   "metadata": {},
   "outputs": [],
   "source": [
    "# 데이터 핸들링 프레임\n",
    "import numpy as np \n",
    "import pandas as pd\n",
    "from pandas import DataFrame as df\n",
    "import csv\n",
    "import os\n",
    "\n",
    "# 자연어 처리기\n",
    "from konlpy.tag import Okt\n",
    "from collections import Counter\n",
    "\n",
    "# word2Vec\n",
    "import gensim \n",
    "from gensim.models import word2vec"
   ]
  },
  {
   "cell_type": "code",
   "execution_count": 2,
   "metadata": {},
   "outputs": [],
   "source": [
    "dataset = pd.read_csv(\"total_dataset_trim_newTag_scale.csv\",encoding='utf-8')\n",
    "# dataset.tail()"
   ]
  },
  {
   "cell_type": "code",
   "execution_count": 3,
   "metadata": {},
   "outputs": [],
   "source": [
    "## description 다듬기 : 데이터 정규화, 맥락 위주로 자르고 명사만 가져오기, 글자길이는 1 ~ 7  \n",
    "def getDescList(n):\n",
    "    okt=Okt()\n",
    "    descList=[]\n",
    "    for i in range(n):\n",
    "        tempList=[]\n",
    "        descript=(dataset.description[i]) # 한글자 이상만 뽑음\n",
    "        descript=descript.replace(\"\\n\",\"\")\n",
    "        descript=descript.replace(\"\\r\",\"\")\n",
    "        descript=descript.replace(\"[^ㄱ-ㅎㅏ-ㅣ가-힣AZ09]\",\"\")\n",
    "        tempList=[j[0] for j in okt.pos(descript) if ((len(j[0])>1)& (len(j[0])<7)& (j[1]==\"Noun\"))]\n",
    "        tempList=list(set(tempList))\n",
    "        if len(tempList)>0:\n",
    "            descList.append(tempList)\n",
    "        else:\n",
    "            descList.append(tempList)\n",
    "    return descList"
   ]
  },
  {
   "cell_type": "code",
   "execution_count": 4,
   "metadata": {},
   "outputs": [],
   "source": [
    "## Tag 다듬기 : 복합명사로 이루어진 태그는 잘라서 길이 2~7 사이의 단어만 추출\n",
    "def getTagList(n):\n",
    "    parseTagList=[]\n",
    "    okt=Okt()\n",
    "    for i in range(n):\n",
    "        tempTagList=[]\n",
    "        tags=str(dataset.tag[i]).split('#') # 태그별로 자르기\n",
    "        for tag in tags:\n",
    "            if len(tag)>1:\n",
    "                okt.pos(tag)  # 1개 태그 내 복합 명사 자르기\n",
    "                for j in okt.nouns(tag):\n",
    "                    if(len(j)>=2|len(j)<7):\n",
    "                        tempTagList.append(j)\n",
    "        tempTagList=list(set(tempTagList))\n",
    "        parseTagList.append(tempTagList)\n",
    "    return parseTagList"
   ]
  },
  {
   "cell_type": "code",
   "execution_count": 5,
   "metadata": {},
   "outputs": [
    {
     "name": "stdout",
     "output_type": "stream",
     "text": [
      "Wall time: 1min 5s\n"
     ]
    }
   ],
   "source": [
    "## Case 1) 코어 태그 추출 (태그, description 합집합)\n",
    "def getCoreTags1(n):\n",
    "    coreTagList1=[]\n",
    "    okt=Okt()    \n",
    "    coreTag=[]\n",
    "    descript=getDescList(n) # 한글자 이상만 뽑음\n",
    "    tags=getTagList(n)  # tag를 한번 더 파싱\n",
    "    for i in range(len(descript)): \n",
    "        if (len(tags[i])>0): \n",
    "            coreTag.append(tags[i]+descript[i])\n",
    "        else:\n",
    "            coreTag.append(descript[i])\n",
    "    coreTagList1.append(coreTag)\n",
    "    return coreTagList1\n",
    "\n",
    "%time CoreTagDate1=getCoreTags1(len(dataset))\n",
    "CoreTagDate1=CoreTagDate1[0]"
   ]
  },
  {
   "cell_type": "code",
   "execution_count": 6,
   "metadata": {},
   "outputs": [
    {
     "name": "stdout",
     "output_type": "stream",
     "text": [
      "Wall time: 35.5 s\n"
     ]
    }
   ],
   "source": [
    "## Case 2) 코어 태그 추출 (부분적으로 기존 태그 + description + coreTag )\n",
    "def getCoreTags2(n):\n",
    "    coreTagList=[]\n",
    "    okt=Okt()    \n",
    "    descript=getDescList(n) # 한글자 이상만 뽑음\n",
    "    tags=getTagList(n)  # tag를 한번 더 파싱\n",
    "    for k in range(len(descript)):\n",
    "        coreTags=[]\n",
    "        for t in range(len(tags[k])):\n",
    "            if (len(tags[k][t])>0)&(tags[k][t] in descript[k]): # 태그가 description 단어에도 있는지 확인\n",
    "                coreTags.append(tags[k][t])\n",
    "        if (len(tags[k])<=3): # 태그 수가 없으면 디스크립션으로\n",
    "            coreTagList.append(list(set(descript[k])))\n",
    "        elif((len(coreTags)<=3)&(len(tags[k])>3)):# desc와 일치하는 태그(coreTag)가 적은데 기존 태그(tags[k])많으면 기존 태그 사용\n",
    "            coreTagList.append(tags[k])\n",
    "        elif(len(coreTags)>3): # 디스크립션과 일치하는 태그가 많으면 일치태그 사용\n",
    "            coreTagList.append(coreTags)\n",
    "        else:\n",
    "            coreTagList.append(list(set(descript[k])))\n",
    "            print(\"descript[k]\",descript[k])\n",
    "    return coreTagList\n",
    "%time CoreTagDate2=getCoreTags2(1852)"
   ]
  },
  {
   "cell_type": "code",
   "execution_count": 7,
   "metadata": {},
   "outputs": [
    {
     "name": "stdout",
     "output_type": "stream",
     "text": [
      "[] 92\n",
      "[] 1486\n",
      "[] 1806\n"
     ]
    }
   ],
   "source": [
    "# Tag2 데이터 보정 : Tag1의 데이터 갖다쓰기\n",
    "for i in range(len(CoreTagDate2)):\n",
    "    if len(CoreTagDate2[i])<1:\n",
    "        print(CoreTagDate2[i],i)\n",
    "        CoreTagDate2[i]=list(set(CoreTagDate1[i]))"
   ]
  },
  {
   "cell_type": "code",
   "execution_count": 8,
   "metadata": {},
   "outputs": [],
   "source": [
    "for i in range(len(CoreTagDate2)):\n",
    "    CoreTagDate2[i]=list(set(CoreTagDate2[i]))\n",
    "    CoreTagDate1[i]=list(set(CoreTagDate1[i]))"
   ]
  },
  {
   "cell_type": "markdown",
   "metadata": {},
   "source": [
    "## 모델 가동, 그 결과를 새로운 태그로 (extend_tag) 컬럼으로 저장"
   ]
  },
  {
   "cell_type": "code",
   "execution_count": 9,
   "metadata": {},
   "outputs": [],
   "source": [
    "# Word2Vec 모델\n",
    "num_features =350    # Word vector dimensionality                      \n",
    "min_word_count =2   # Minimum word count                        \n",
    "num_workers = 2     # Number of threads to run in parallel\n",
    "context = 4          # Context window size                                                                                    \n",
    "downsampling = 1e-3  # Downsample setting for frequent words\n",
    "dataset1=dataset\n",
    "\n",
    "model1 = gensim.models.Word2Vec(CoreTagDate1, workers=num_workers, \n",
    "                          size=num_features, min_count = min_word_count,\n",
    "                          window = context, sample = downsampling)\n",
    "model_name = \"TagSimilarity1\"\n",
    "model1.save(model_name)"
   ]
  },
  {
   "cell_type": "code",
   "execution_count": 10,
   "metadata": {},
   "outputs": [
    {
     "data": {
      "text/plain": [
       "{'가정': [('공간', 0.9999727010726929),\n",
       "  ('가능', 0.9999725818634033),\n",
       "  ('주방', 0.9999722242355347),\n",
       "  ('모든', 0.9999720454216003),\n",
       "  ('공원', 0.9999696016311646)],\n",
       " '사진': [('사용', 0.9999797940254211),\n",
       "  ('카페', 0.9999793767929077),\n",
       "  ('드라마', 0.9999756813049316),\n",
       "  ('가구', 0.9999755024909973),\n",
       "  ('촬영', 0.9999744892120361)],\n",
       " '촬영': [('사진', 0.9999744296073914),\n",
       "  ('사용', 0.9999710917472839),\n",
       "  ('드라마', 0.9999706149101257),\n",
       "  ('가구', 0.9999694228172302),\n",
       "  ('쇼핑몰', 0.9999664425849915)],\n",
       " '원목': [('위치', 0.9999789595603943),\n",
       "  ('느낌', 0.9999740123748779),\n",
       "  ('하우스', 0.9999731779098511),\n",
       "  ('영상', 0.9999727606773376),\n",
       "  ('주변', 0.9999691247940063)],\n",
       " '아파트': [('분위기', 0.9999796748161316),\n",
       "  ('정도', 0.9999790787696838),\n",
       "  ('주택', 0.9999775290489197),\n",
       "  ('활용', 0.999975860118866),\n",
       "  ('테라스', 0.9999741911888123)],\n",
       " '루프': [('마당', 0.9999761581420898),\n",
       "  ('서울', 0.9999725222587585),\n",
       "  ('모임', 0.9999722242355347),\n",
       "  ('모던', 0.9999712705612183),\n",
       "  ('또한', 0.9999693632125854)],\n",
       " '자연': [('시간', 0.9999791979789734),\n",
       "  ('서울', 0.9999778270721436),\n",
       "  ('주차', 0.9999759197235107),\n",
       "  ('문의', 0.999975860118866),\n",
       "  ('도보', 0.9999725818634033)],\n",
       " '채광': [('시간', 0.9999784231185913),\n",
       "  ('서울', 0.9999776482582092),\n",
       "  ('주말', 0.9999729990959167),\n",
       "  ('스튜디오', 0.9999725222587585),\n",
       "  ('자연', 0.9999712705612183)],\n",
       " '스튜디오': [('서울', 0.9999747276306152),\n",
       "  ('시간', 0.9999744296073914),\n",
       "  ('채광', 0.9999725222587585),\n",
       "  ('자연', 0.9999692440032959),\n",
       "  ('모임', 0.9999675154685974)],\n",
       " '광고': [('컨셉', 0.999980092048645),\n",
       "  ('이용', 0.9999774098396301),\n",
       "  ('복층', 0.9999735951423645),\n",
       "  ('빌라', 0.9999726414680481),\n",
       "  ('오후', 0.9999701976776123)],\n",
       " '거실': [('가구', 0.9999728798866272),\n",
       "  ('화장실', 0.9999710321426392),\n",
       "  ('카페', 0.9999698996543884),\n",
       "  ('바로', 0.999967098236084),\n",
       "  ('소품', 0.9999665021896362)],\n",
       " '주택': [('테라스', 0.9999825954437256),\n",
       "  ('분위기', 0.9999812245368958),\n",
       "  ('내부', 0.99997878074646),\n",
       "  ('저희', 0.9999785423278809),\n",
       "  ('주변', 0.9999784231185913)],\n",
       " '파티': [('장소', 0.9999838471412659),\n",
       "  ('거리', 0.9999802708625793),\n",
       "  ('테이블', 0.9999792575836182),\n",
       "  ('연락', 0.9999785423278809),\n",
       "  ('개인', 0.9999776482582092)],\n",
       " '빌라': [('컨셉', 0.999973714351654),\n",
       "  ('광고', 0.9999726414680481),\n",
       "  ('복층', 0.9999716877937317),\n",
       "  ('원룸', 0.9999693632125854),\n",
       "  ('이용', 0.9999687671661377)],\n",
       " '카페': [('사용', 0.9999805092811584),\n",
       "  ('사진', 0.9999794363975525),\n",
       "  ('정원', 0.9999779462814331),\n",
       "  ('화장실', 0.9999769926071167),\n",
       "  ('바로', 0.9999769926071167)],\n",
       " '빈티': [('화이트', 0.9999786615371704),\n",
       "  ('사용', 0.9999784827232361),\n",
       "  ('감성', 0.9999735355377197),\n",
       "  ('각종', 0.9999685883522034),\n",
       "  ('사진', 0.9999685287475586)],\n",
       " '플라워': [('저희', 0.9997657537460327),\n",
       "  ('분위기', 0.9997636079788208),\n",
       "  ('테라스', 0.9997626543045044),\n",
       "  ('배치', 0.9997625350952148),\n",
       "  ('아파트', 0.9997624158859253)],\n",
       " '홍대': [('주방', 0.9999656677246094),\n",
       "  ('모든', 0.9999627470970154),\n",
       "  ('가능', 0.9999614953994751),\n",
       "  ('제공', 0.999961256980896),\n",
       "  ('공간', 0.9999608993530273)],\n",
       " '공간': [('실내', 0.9999758005142212),\n",
       "  ('모든', 0.9999758005142212),\n",
       "  ('가능', 0.9999750852584839),\n",
       "  ('공원', 0.9999744892120361),\n",
       "  ('가정', 0.9999727010726929)],\n",
       " '화이트': [('빈티', 0.9999785423278809),\n",
       "  ('사용', 0.9999781847000122),\n",
       "  ('사진', 0.9999740123748779),\n",
       "  ('정원', 0.9999723434448242),\n",
       "  ('카페', 0.9999719262123108)],\n",
       " '느낌': [('위치', 0.9999811053276062),\n",
       "  ('영상', 0.9999781847000122),\n",
       "  ('다른', 0.9999750256538391),\n",
       "  ('원목', 0.9999740123748779),\n",
       "  ('모임', 0.9999712705612183)],\n",
       " '분위기': [('활용', 0.999982476234436),\n",
       "  ('정도', 0.9999814629554749),\n",
       "  ('테라스', 0.9999813437461853),\n",
       "  ('주택', 0.9999812245368958),\n",
       "  ('아파트', 0.9999796152114868)],\n",
       " '원룸': [('빌라', 0.9999693632125854),\n",
       "  ('컨셉', 0.9999693632125854),\n",
       "  ('전망', 0.9999690055847168),\n",
       "  ('광고', 0.9999670386314392),\n",
       "  ('예약', 0.9999659061431885)],\n",
       " '사무실': [('주차장', 0.9999757409095764),\n",
       "  ('거리', 0.9999748468399048),\n",
       "  ('장소', 0.9999723434448242),\n",
       "  ('연락', 0.9999722242355347),\n",
       "  ('파티', 0.9999712705612183)],\n",
       " '서울': [('시간', 0.9999827742576599),\n",
       "  ('주차', 0.9999822378158569),\n",
       "  ('문의', 0.9999783039093018),\n",
       "  ('모던', 0.9999778270721436),\n",
       "  ('자연', 0.9999778270721436)],\n",
       " '마당': [('모던', 0.9999768733978271),\n",
       "  ('루프', 0.9999761581420898),\n",
       "  ('서울', 0.9999755024909973),\n",
       "  ('모임', 0.9999732375144958),\n",
       "  ('주차', 0.9999731779098511)],\n",
       " '정원': [('바로', 0.9999788999557495),\n",
       "  ('카페', 0.9999779462814331),\n",
       "  ('화장실', 0.9999751448631287),\n",
       "  ('사용', 0.9999750256538391),\n",
       "  ('가능', 0.9999740719795227)],\n",
       " '모던': [('주차', 0.9999814033508301),\n",
       "  ('서울', 0.9999779462814331),\n",
       "  ('마당', 0.9999768733978271),\n",
       "  ('문의', 0.9999752640724182),\n",
       "  ('침실', 0.9999750852584839)],\n",
       " '인테리어': [('전체', 0.9999812245368958),\n",
       "  ('대여', 0.9999799132347107),\n",
       "  ('협의', 0.999976634979248),\n",
       "  ('문의', 0.9999746084213257),\n",
       "  ('주차', 0.9999741315841675)],\n",
       " '오피스': [('주변', 0.9999472498893738),\n",
       "  ('주택', 0.9999467730522156),\n",
       "  ('저희', 0.9999452829360962),\n",
       "  ('내부', 0.9999443292617798),\n",
       "  ('영화', 0.9999442100524902)]}"
      ]
     },
     "execution_count": 10,
     "metadata": {},
     "output_type": "execute_result"
    }
   ],
   "source": [
    "# model.wv.vocab\n",
    "test_keyword=[\"가정\",\"사진\",\"촬영\",\"원목\",\"아파트\",\"루프\",\"자연\",\"채광\",\"스튜디오\",\"광고\",\"거실\",\"주택\",\"파티\",\"빌라\",\"카페\",\n",
    "              \"빈티\",\"플라워\",\"홍대\",\"공간\",\"화이트\",\"느낌\",\"분위기\",\"원룸\",\n",
    "              \"사무실\",\"서울\",\"마당\",\"정원\",\"모던\",\"인테리어\",\"오피스\"]\n",
    "\n",
    "testkeywordDict1={}\n",
    "for keyword in test_keyword:\n",
    "    testkeywordDict1.update({keyword:model1.wv.most_similar(keyword,topn=5)})\n",
    "testkeywordDict1"
   ]
  },
  {
   "cell_type": "code",
   "execution_count": 11,
   "metadata": {},
   "outputs": [],
   "source": [
    "## Tag1 데이터 셋을 기반으로 모델 작성, Tag2 데이터 셋의 유사단어 리스트 추출\n",
    "def extendTag():\n",
    "    vocab=model1.wv.vocab\n",
    "    extendTagList=[]\n",
    "    extendTagSimList=[]\n",
    "    for i in range(len(CoreTagDate2)):\n",
    "        tags=[]\n",
    "        tagsSim=[]\n",
    "        for j in range(len(CoreTagDate2[i])):\n",
    "            if((len(CoreTagDate2[i])>25)):\n",
    "                tags.append(CoreTagDate2[i][j])\n",
    "                tagsSim.append(0)\n",
    "            if((CoreTagDate2[i][j] in vocab.keys())&(len(CoreTagDate2[i])>12)):\n",
    "                for k in range(1):\n",
    "                    tags.append(model1.wv.most_similar(CoreTagDate2[i][j],topn=1)[k][0])\n",
    "                    tagsSim.append(model1.wv.most_similar(CoreTagDate2[i][j],topn=1)[k][1])\n",
    "            elif((CoreTagDate2[i][j] in vocab.keys())&(len(CoreTagDate2[i])>5)):\n",
    "                for k in range(3):\n",
    "                    tags.append(model1.wv.most_similar(CoreTagDate2[i][j],topn=3)[k][0])\n",
    "                    tagsSim.append(model1.wv.most_similar(CoreTagDate2[i][j],topn=3)[k][1])\n",
    "            elif((CoreTagDate2[i][j] in vocab.keys())&(len(CoreTagDate2[i])<=4)):\n",
    "                for k in range(4):\n",
    "                    tags.append(model1.wv.most_similar(CoreTagDate2[i][j],topn=4)[k][0])                    \n",
    "                    tagsSim.append(model1.wv.most_similar(CoreTagDate2[i][j],topn=4)[k][1])\n",
    "        extendTagList.append(list(set(tags)))\n",
    "        extendTagSimList.append(list(set(tagsSim)))\n",
    "    return extendTagList,extendTagSimList\n",
    "extend_tag=extendTag()"
   ]
  },
  {
   "cell_type": "code",
   "execution_count": 12,
   "metadata": {},
   "outputs": [],
   "source": [
    "dataset[\"extend_tag\"]=extend_tag[0]\n",
    "dataset[\"extend_tag_sim\"]=extend_tag[1]"
   ]
  },
  {
   "cell_type": "code",
   "execution_count": 13,
   "metadata": {},
   "outputs": [],
   "source": [
    "# 유사단어 컬럼 추가한 파일 저장\n",
    "dataset.to_csv('C:/바탕 화면/playdata/ice/eclipse/Devils_Project/dataWork/controller/total_dataset_trim_newExtendTag.csv',\n",
    "                 sep=',',na_rep='NaN',index =True,encoding='utf-8-sig')"
   ]
  },
  {
   "cell_type": "code",
   "execution_count": null,
   "metadata": {},
   "outputs": [],
   "source": []
  },
  {
   "cell_type": "markdown",
   "metadata": {},
   "source": [
    "## 키워드 카운트\n",
    "    여기서부터는 Controller의 영역"
   ]
  },
  {
   "cell_type": "code",
   "execution_count": 14,
   "metadata": {},
   "outputs": [],
   "source": [
    "# dataset = pd.read_csv(\"total_dataset_trim_newExtendTag.csv\",encoding='utf-8')"
   ]
  },
  {
   "cell_type": "code",
   "execution_count": 2,
   "metadata": {},
   "outputs": [],
   "source": [
    "# #임의로 1개 선택\n",
    "# target=dataset.iloc[:1]\n",
    "# rest=dataset.iloc[1:]\n",
    "# # target=dataset.iloc[k:k+1]\n",
    "# # rest=dataset.iloc[k+1:]\n",
    "\n",
    "# # 문자열로 저장된 태그 리스트로 변환\n",
    "# def strToList(value):\n",
    "#     if type(value)==str:\n",
    "#         trimList=value.replace(']','')\n",
    "#         trimList=trimList.replace('[','')\n",
    "#         trimList=trimList.replace(\"'\",'')\n",
    "#         trimList=trimList.split(\",\")\n",
    "#         trimList=list(set(trimList))  # 리스트 안에서 중복되는 태그 삭제\n",
    "#     else:\n",
    "#         trimList=list(set(value))\n",
    "#     return trimList\n",
    "\n",
    "# ## 유사 태그 개수 세기\n",
    "# def tagCount(targetTag):\n",
    "#     countKeyword=[]\n",
    "#     for i in range(len(rest[\"extend_tag\"])):\n",
    "#         cnt=0\n",
    "#         for j in range(len(strToList(targetTag))):\n",
    "#             for k in range(len(strToList(rest[\"extend_tag\"]))):\n",
    "#                 if targetTag[j] == strToList(rest.iloc[i][\"extend_tag\"]):\n",
    "#                     weight=rest.iloc[j,[\"extend_tag_sim\"]]\n",
    "#                     cnt+=1*weight\n",
    "#         countKeyword.append(cnt)\n",
    "#     return countKeyword\n",
    "\n",
    "# tagCount=tagCount(target[\"extend_tag\"].values[0])\n",
    "# rest[\"tagCount\"]=tagCount\n",
    "# target[\"tagCount\"]=0  # target은 아예 안 뜨도록 0으로 처리\n",
    "\n",
    "# # 다시 2개 합치기\n",
    "# dataset=pd.concat([target,rest])\n",
    "# dataset1=dataset"
   ]
  },
  {
   "cell_type": "code",
   "execution_count": null,
   "metadata": {},
   "outputs": [],
   "source": []
  },
  {
   "cell_type": "code",
   "execution_count": 31,
   "metadata": {},
   "outputs": [],
   "source": []
  },
  {
   "cell_type": "code",
   "execution_count": null,
   "metadata": {},
   "outputs": [],
   "source": []
  },
  {
   "cell_type": "code",
   "execution_count": 27,
   "metadata": {},
   "outputs": [],
   "source": []
  },
  {
   "cell_type": "code",
   "execution_count": null,
   "metadata": {},
   "outputs": [],
   "source": []
  },
  {
   "cell_type": "code",
   "execution_count": null,
   "metadata": {},
   "outputs": [],
   "source": []
  }
 ],
 "metadata": {
  "kernelspec": {
   "display_name": "Python 3",
   "language": "python",
   "name": "python3"
  },
  "language_info": {
   "codemirror_mode": {
    "name": "ipython",
    "version": 3
   },
   "file_extension": ".py",
   "mimetype": "text/x-python",
   "name": "python",
   "nbconvert_exporter": "python",
   "pygments_lexer": "ipython3",
   "version": "3.7.7"
  }
 },
 "nbformat": 4,
 "nbformat_minor": 4
}
