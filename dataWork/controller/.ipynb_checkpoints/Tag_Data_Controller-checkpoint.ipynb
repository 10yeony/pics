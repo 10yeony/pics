{
 "cells": [
  {
   "cell_type": "code",
   "execution_count": 1,
   "metadata": {},
   "outputs": [],
   "source": [
    "# 외부 모듈\n",
    "## 데이터 핸들링 프레임\n",
    "import numpy as np \n",
    "import pandas as pd\n",
    "from pandas import DataFrame as df\n",
    "import csv\n",
    "import os\n",
    "\n",
    "### 자연어 처리기\n",
    "from konlpy.tag import Okt\n",
    "from collections import Counter\n",
    "import pandas as pd\n",
    "\n",
    "## wordVec\n",
    "import gensim \n",
    "from gensim.models import word2vec\n"
   ]
  },
  {
   "cell_type": "code",
   "execution_count": 61,
   "metadata": {},
   "outputs": [],
   "source": [
    "# def targetStuId(stuid):\n",
    "#     stuId=1\n",
    "#     return stuId "
   ]
  },
  {
   "cell_type": "code",
   "execution_count": 78,
   "metadata": {},
   "outputs": [],
   "source": [
    "### 사용자 모듈 불러오기\n",
    "import sys\n",
    "sys.path.append('..')\n",
    "from dao import tag_dao\n",
    "from model import nlp_model\n",
    "from model import word2vec_model\n",
    "from model import count_tag_model\n",
    "\n",
    "# 데이터 불러오기\n",
    "def tagData(stuid):\n",
    "    # DB 데이터\n",
    "    \n",
    "    dataset = tag_dao.getTagData()\n",
    "    dataset[\"description\"].fillna(\"\",inplace=True)\n",
    "    \n",
    "    # 자연어 처리\n",
    "    CoreTagData1=nlp_model.getCoreTags1(dataset) # tag data1\n",
    "    CoreTagData2=nlp_model.getCoreTags2(dataset) # tag data2\n",
    "    \n",
    "    for i in range(len(CoreTagData2)):\n",
    "        if len(CoreTagData2[i])<1:\n",
    "            CoreTagData2[i]=(CoreTagData1[i])\n",
    "\n",
    "    for i in range(len(CoreTagData2)):\n",
    "        CoreTagData2[i]=list(set(CoreTagData2[i]))\n",
    "        CoreTagData1[i]=list(set(CoreTagData1[i])) \n",
    "  \n",
    "    # dataset에 키워드 삽입\n",
    "    dataset[\"new_tag1\"]=CoreTagData1\n",
    "    dataset[\"new_tag2\"]=CoreTagData2\n",
    "    \n",
    "    \n",
    "#     Word2Vec\n",
    "    model=word2vec_model.wordVec(CoreTagData1)\n",
    "    vocab=model.wv.vocab\n",
    "    extendTagList=[]\n",
    "    extendTagSimList=[]\n",
    "    for i in range(len(CoreTagData2)):\n",
    "        tags=[]\n",
    "        tagsSim=[]\n",
    "        for j in range(len(CoreTagData2[i])):\n",
    "            if((len(CoreTagData2[i])>25)):\n",
    "                tags.append(CoreTagData2[i][j])\n",
    "                tagsSim.append(0)\n",
    "            if((CoreTagData2[i][j] in vocab.keys())&(len(CoreTagData2[i])>12)):\n",
    "                for k in range(1):\n",
    "                    tags.append(model.wv.most_similar(CoreTagData2[i][j],topn=1)[k][0])\n",
    "                    tagsSim.append(model.wv.most_similar(CoreTagData2[i][j],topn=1)[k][1])\n",
    "            elif((CoreTagData2[i][j] in vocab.keys())&(len(CoreTagData2[i])>5)):\n",
    "                for k in range(3):\n",
    "                    tags.append(model.wv.most_similar(CoreTagData2[i][j],topn=3)[k][0])\n",
    "                    tagsSim.append(model.wv.most_similar(CoreTagData2[i][j],topn=3)[k][1])\n",
    "            elif((CoreTagData2[i][j] in vocab.keys())&(len(CoreTagData2[i])<=4)):\n",
    "                for k in range(4):\n",
    "                    tags.append(model.wv.most_similar(CoreTagData2[i][j],topn=4)[k][0])                    \n",
    "                    tagsSim.append(model.wv.most_similar(CoreTagData2[i][j],topn=4)[k][1])\n",
    "        extendTagList.append(tags)\n",
    "        extendTagSimList.append(tagsSim) \n",
    "    dataset[\"extend_tag\"]=extendTagList\n",
    "    dataset[\"extend_tag_sim\"]=extendTagSimList\n",
    "\n",
    "    stuId=stuid\n",
    "    \n",
    "#   Counting Words\n",
    "    dataset=count_tag_model.tagCount(stuId,dataset)\n",
    "    dataset10=dataset.loc[:10,:]\n",
    "    dataset10.to_json('result.json', orient='table')\n",
    "    return dataset10\n"
   ]
  },
  {
   "cell_type": "code",
   "execution_count": 79,
   "metadata": {},
   "outputs": [
    {
     "ename": "AttributeError",
     "evalue": "'str' object has no attribute 'json'",
     "output_type": "error",
     "traceback": [
      "\u001b[1;31m---------------------------------------------------------------------------\u001b[0m",
      "\u001b[1;31mAttributeError\u001b[0m                            Traceback (most recent call last)",
      "\u001b[1;32m<ipython-input-79-e127b43bf640>\u001b[0m in \u001b[0;36m<module>\u001b[1;34m\u001b[0m\n\u001b[1;32m----> 1\u001b[1;33m \u001b[0mresult\u001b[0m\u001b[1;33m=\u001b[0m\u001b[0mtagData\u001b[0m\u001b[1;33m(\u001b[0m\u001b[1;36m1\u001b[0m\u001b[1;33m)\u001b[0m\u001b[1;33m\u001b[0m\u001b[1;33m\u001b[0m\u001b[0m\n\u001b[0m\u001b[0;32m      2\u001b[0m \u001b[1;31m# result2=result.to_json('result.json', orient='table')\u001b[0m\u001b[1;33m\u001b[0m\u001b[1;33m\u001b[0m\u001b[1;33m\u001b[0m\u001b[0m\n",
      "\u001b[1;32m<ipython-input-78-0377669dc8e1>\u001b[0m in \u001b[0;36mtagData\u001b[1;34m(stuid)\u001b[0m\n\u001b[0;32m     66\u001b[0m     \u001b[0mdataset10\u001b[0m\u001b[1;33m=\u001b[0m\u001b[0mdataset\u001b[0m\u001b[1;33m.\u001b[0m\u001b[0mloc\u001b[0m\u001b[1;33m[\u001b[0m\u001b[1;33m:\u001b[0m\u001b[1;36m10\u001b[0m\u001b[1;33m,\u001b[0m\u001b[1;33m:\u001b[0m\u001b[1;33m]\u001b[0m\u001b[1;33m\u001b[0m\u001b[1;33m\u001b[0m\u001b[0m\n\u001b[0;32m     67\u001b[0m     \u001b[0mdataset10\u001b[0m\u001b[1;33m.\u001b[0m\u001b[0mto_json\u001b[0m\u001b[1;33m(\u001b[0m\u001b[1;34m'result.json'\u001b[0m\u001b[1;33m,\u001b[0m \u001b[0morient\u001b[0m\u001b[1;33m=\u001b[0m\u001b[1;34m'table'\u001b[0m\u001b[1;33m)\u001b[0m\u001b[1;33m\u001b[0m\u001b[1;33m\u001b[0m\u001b[0m\n\u001b[1;32m---> 68\u001b[1;33m     \u001b[1;32mreturn\u001b[0m \u001b[0mresult\u001b[0m\u001b[1;33m.\u001b[0m\u001b[0mjson\u001b[0m\u001b[1;33m\u001b[0m\u001b[1;33m\u001b[0m\u001b[0m\n\u001b[0m",
      "\u001b[1;31mAttributeError\u001b[0m: 'str' object has no attribute 'json'"
     ]
    }
   ],
   "source": [
    "result=tagData(1)\n",
    "# result2=result.to_json('result.json', orient='table')\n"
   ]
  },
  {
   "cell_type": "code",
   "execution_count": null,
   "metadata": {},
   "outputs": [],
   "source": [
    "result"
   ]
  },
  {
   "cell_type": "code",
   "execution_count": null,
   "metadata": {},
   "outputs": [],
   "source": []
  }
 ],
 "metadata": {
  "kernelspec": {
   "display_name": "Python 3",
   "language": "python",
   "name": "python3"
  },
  "language_info": {
   "codemirror_mode": {
    "name": "ipython",
    "version": 3
   },
   "file_extension": ".py",
   "mimetype": "text/x-python",
   "name": "python",
   "nbconvert_exporter": "python",
   "pygments_lexer": "ipython3",
   "version": "3.7.7"
  }
 },
 "nbformat": 4,
 "nbformat_minor": 4
}
