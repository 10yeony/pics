{
 "cells": [
  {
   "cell_type": "code",
   "execution_count": 1,
   "metadata": {},
   "outputs": [],
   "source": [
    "# 외부 모듈\n",
    "## 데이터 핸들링 프레임\n",
    "import numpy as np \n",
    "import pandas as pd\n",
    "from pandas import DataFrame as df\n",
    "import csv\n",
    "import os\n",
    "\n",
    "### 자연어 처리기\n",
    "from konlpy.tag import Okt\n",
    "from collections import Counter\n",
    "\n",
    "## wordVec\n",
    "import gensim \n",
    "from gensim.models import word2vec\n"
   ]
  },
  {
   "cell_type": "code",
   "execution_count": 2,
   "metadata": {},
   "outputs": [],
   "source": [
    "### 사용자 모듈 불러오기\n",
    "import sys\n",
    "sys.path.append('..')\n",
    "from dao import tag_dao\n",
    "from model import nlp_model\n",
    "from model import word2vec_model\n",
    "from model import count_tag_model\n",
    "\n",
    "# 데이터 불러오기\n",
    "def tagData(stuId):\n",
    "    # DB 데이터\n",
    "    \n",
    "    dataset = tag_dao.getTagData()\n",
    "    dataset[\"description\"].fillna(\"\",inplace=True)\n",
    "    \n",
    "    # 자연어 처리\n",
    "    CoreTagData1=nlp_model.getCoreTags1(dataset) # tag data1\n",
    "    CoreTagData2=nlp_model.getCoreTags2(dataset) # tag data2\n",
    "    \n",
    "    for i in range(len(CoreTagData2)):\n",
    "        if len(CoreTagData2[i])<1:\n",
    "            CoreTagData2[i]=(CoreTagData1[i])\n",
    "\n",
    "    for i in range(len(CoreTagData2)):\n",
    "        CoreTagData2[i]=list(set(CoreTagData2[i]))\n",
    "        CoreTagData1[i]=list(set(CoreTagData1[i])) \n",
    "  \n",
    "    # dataset에 키워드 삽입\n",
    "    dataset[\"new_tag1\"]=CoreTagData1\n",
    "    dataset[\"new_tag2\"]=CoreTagData2\n",
    "    \n",
    "    \n",
    "#     Word2Vec\n",
    "    model=word2vec_model.wordVec(CoreTagData1)\n",
    "    vocab=model.wv.vocab\n",
    "    extendTagList=[]\n",
    "    extendTagSimList=[]\n",
    "    dataset=word2vec_model.extendTag(CoreTagData2,model,dataset)\n",
    "\n",
    "#   Counting Words\n",
    "    dataset=count_tag_model.tagCount(stuId,dataset)\n",
    "    topSim=list(dataset.loc[:10,\"stu_id\"])\n",
    "\n",
    "    return tag_dao.getTop10(topSim)\n"
   ]
  },
  {
   "cell_type": "code",
   "execution_count": 1,
   "metadata": {},
   "outputs": [],
   "source": [
    "# result=tagData(1)\n",
    "# result"
   ]
  },
  {
   "cell_type": "code",
   "execution_count": 4,
   "metadata": {},
   "outputs": [],
   "source": [
    "# topSim=[880,770]\n",
    "# tag_dao.getTop10(topSim)"
   ]
  },
  {
   "cell_type": "code",
   "execution_count": null,
   "metadata": {},
   "outputs": [],
   "source": []
  },
  {
   "cell_type": "code",
   "execution_count": null,
   "metadata": {},
   "outputs": [],
   "source": []
  },
  {
   "cell_type": "code",
   "execution_count": null,
   "metadata": {},
   "outputs": [],
   "source": []
  }
 ],
 "metadata": {
  "kernelspec": {
   "display_name": "Python 3",
   "language": "python",
   "name": "python3"
  },
  "language_info": {
   "codemirror_mode": {
    "name": "ipython",
    "version": 3
   },
   "file_extension": ".py",
   "mimetype": "text/x-python",
   "name": "python",
   "nbconvert_exporter": "python",
   "pygments_lexer": "ipython3",
   "version": "3.7.7"
  }
 },
 "nbformat": 4,
 "nbformat_minor": 4
}
