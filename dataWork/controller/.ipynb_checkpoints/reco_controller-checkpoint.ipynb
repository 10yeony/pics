{
 "cells": [
  {
   "cell_type": "code",
   "execution_count": 1,
   "metadata": {},
   "outputs": [],
   "source": [
    "# 외부 모듈\n",
    "import pandas as pd\n",
    "import numpy as np\n",
    "import sys\n",
    "sys.path.append('..')\n",
    "from dao.reco_dao import get_reco_studio, get_ranked_studio\n",
    "\n",
    "def get_reco_studios(cust_id, path):\n",
    "    result = {'status':True, 'studios':[]}\n",
    "    # 예측점수 테이블 가져오기\n",
    "    df = pd.read_csv(path+'/resources/sim_table/sim_table.csv', encoding='utf-8', index_col = 0)\n",
    "    # pivot회\n",
    "    ratings_predicted = df.pivot_table(index= 'userId', columns='itemId', values='rate')\n",
    "    # 리뷰했는지 확인\n",
    "    if cust_id in ratings_predicted.index :\n",
    "        pass\n",
    "    else :\n",
    "        result['status'] = False\n",
    "        return result\n",
    "    # userId 받고 해당 사람에게 8개 stuId 추출\n",
    "    studio_list = ratings_predicted.loc[cust_id].sort_values(ascending=False)[:8].index\n",
    "    # 해당 아이디에 맞는 studio 정보 받고 보내기\n",
    "    studios = get_reco_studio(studio_list)\n",
    "    # 대표 사진 하나만 가지고 갈 수 있도록\n",
    "    for studio in studios:\n",
    "        studio['main_img'] = studio.get('main_img').split(',')[0]\n",
    "    result['studios']=studios\n",
    "    return result"
   ]
  },
  {
   "cell_type": "code",
   "execution_count": 7,
   "metadata": {},
   "outputs": [],
   "source": [
    "def get_ranked_studios():\n",
    "    studios = get_ranked_studio()\n",
    "    for studio in studios:\n",
    "        studio['main_img'] = studio.get('main_img').split(',')[0]\n",
    "    return studios"
   ]
  },
  {
   "cell_type": "code",
   "execution_count": null,
   "metadata": {},
   "outputs": [],
   "source": [
    "# get_reco_studios(22, 'C:\\kjy\\pics\\dataWork')"
   ]
  },
  {
   "cell_type": "code",
   "execution_count": null,
   "metadata": {},
   "outputs": [],
   "source": [
    "!jupyter nbconvert --to script reco_controller.ipynb "
   ]
  },
  {
   "cell_type": "code",
   "execution_count": null,
   "metadata": {},
   "outputs": [],
   "source": [
    "# #surprise 모듈 사용\n",
    "\n",
    "\n",
    "# reader = surprise.Reader(rating_scale=(1,5))\n",
    "# ds = surprise.Dataset.load_from_df(ratings_r.loc[:,['user','item', 'score']],reader)\n",
    "\n",
    "# sim_options = {'name':'cossine',\n",
    "#               'user_based':False}\n",
    "# # sim_options = {'name':'pearson'}\n",
    "# # algo = surprise.KNNBasic(sim_options=sim_options)\n",
    "# algo = surprise.KNNBasic(sim_options=sim_options)\n",
    "# print(cross_validate(algo, ds)['test_rmse'].mean())\n",
    "# ds_set = ds.build_full_trainset()\n",
    "# algo.fit(ds_set)\n",
    "\n",
    "# # index_combinations=list(product(final['userId'], final['itemId'])) # repeat = n 씩 조합한다\n",
    "# # index_combinations\n",
    "# # for userId, itemId in index_combinations:\n",
    "# # #     print(type(userId),itemId)\n",
    "# # #     predict_list = []\n",
    "# #     predict_rate = algo.predict(userId, itemId).est\n",
    "# # #     print(algo.predict(userId,itemId).est, algo.predict(userId,itemId).details.get('was_impossible'))\n",
    "# #     predict_dic = {\n",
    "# #         'userId':userId,\n",
    "# #         'itemId':itemId,\n",
    "# #         'rate': predict_rate\n",
    "# #     }\n",
    "# #     predict_list.append(predict_dic)\n",
    "# # predict_list\n",
    "# # rating_result = pd.DataFrame(predict_list)\n",
    "# # rating_result"
   ]
  },
  {
   "cell_type": "code",
   "execution_count": null,
   "metadata": {},
   "outputs": [],
   "source": [
    "# # (4) CF 진행\n",
    "# reader = surprise.Reader(rating_scale=(1,5))\n",
    "# ds = surprise.Dataset.load_from_df(compare.loc[:,['userId','itemId', 'rate']],reader)\n",
    "\n",
    "# sim_options = {'name':'pearson',\n",
    "#               'user_based':False}\n",
    "# # sim_options = {'name':'pearson'}\n",
    "# # algo = surprise.KNNBasic(sim_options=sim_options)\n",
    "# algo = surprise.KNNBasic(sim_options=sim_options)\n",
    "# print(cross_validate(algo, ds)['test_rmse'].mean())\n",
    "# ds_set = ds.build_full_trainset()\n",
    "# algo.fit(ds_set)\n",
    "# # for i in ratings.index:\n",
    "# #     for j in ratings.columns:\n",
    "# #         print(\"{}\" .format(algo.predict(i,j)))\n"
   ]
  }
 ],
 "metadata": {
  "kernelspec": {
   "display_name": "Python 3",
   "language": "python",
   "name": "python3"
  },
  "language_info": {
   "codemirror_mode": {
    "name": "ipython",
    "version": 3
   },
   "file_extension": ".py",
   "mimetype": "text/x-python",
   "name": "python",
   "nbconvert_exporter": "python",
   "pygments_lexer": "ipython3",
   "version": "3.7.7"
  }
 },
 "nbformat": 4,
 "nbformat_minor": 4
}
