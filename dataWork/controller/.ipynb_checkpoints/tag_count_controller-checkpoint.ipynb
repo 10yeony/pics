{
 "cells": [
  {
   "cell_type": "code",
   "execution_count": 1,
   "metadata": {},
   "outputs": [],
   "source": [
    "# 외부 모듈\n",
    "## 데이터 핸들링 프레임\n",
    "import numpy as np \n",
    "import pandas as pd\n",
    "from pandas import DataFrame as df\n",
    "import csv\n",
    "import os"
   ]
  },
  {
   "cell_type": "code",
   "execution_count": 2,
   "metadata": {},
   "outputs": [],
   "source": [
    "### 사용자 모듈 불러오기\n",
    "import sys\n",
    "sys.path.append('..')\n",
    "from dao import tag_dao\n",
    "from model import count_tag_model\n",
    "\n",
    "# 데이터 불러오기\n",
    "def tagCount(stuId):\n",
    "    # tag_data-controller에서 추출한 데이터 csv 가져오기\n",
    "#     file_path=os.getcwd()\n",
    "#     file_path=file_path.replace(\"\\\\\",'/')\n",
    "#     dataset = pd.read_csv(file_path+\"/resources/dataset/tag_data.csv\",encoding='utf-8')\n",
    "    dataset = pd.read_csv(\"../resources/dataset/tag_data.csv\",encoding='utf-8')\n",
    "    \n",
    "    # Counting Words\n",
    "    dataset=count_tag_model.tagCount(stuId,dataset)\n",
    "    topSim=list(dataset.loc[:8,\"stu_id\"])\n",
    "    return tag_dao.getTop8(topSim)[:8]"
   ]
  },
  {
   "cell_type": "code",
   "execution_count": 3,
   "metadata": {},
   "outputs": [
    {
     "name": "stderr",
     "output_type": "stream",
     "text": [
      "C:\\kyh\\anaconda\\lib\\site-packages\\pandas\\core\\indexing.py:845: SettingWithCopyWarning: \n",
      "A value is trying to be set on a copy of a slice from a DataFrame.\n",
      "Try using .loc[row_indexer,col_indexer] = value instead\n",
      "\n",
      "See the caveats in the documentation: https://pandas.pydata.org/pandas-docs/stable/user_guide/indexing.html#returning-a-view-versus-a-copy\n",
      "  self.obj[key] = _infer_fill_value(value)\n",
      "C:\\kyh\\anaconda\\lib\\site-packages\\pandas\\core\\indexing.py:966: SettingWithCopyWarning: \n",
      "A value is trying to be set on a copy of a slice from a DataFrame.\n",
      "Try using .loc[row_indexer,col_indexer] = value instead\n",
      "\n",
      "See the caveats in the documentation: https://pandas.pydata.org/pandas-docs/stable/user_guide/indexing.html#returning-a-view-versus-a-copy\n",
      "  self.obj[item] = s\n"
     ]
    },
    {
     "data": {
      "text/plain": [
       "[[{'stu_id': 1087,\n",
       "   'name': '광진구_중곡동에_위치한_작은_족발가게',\n",
       "   'category_name': '카페',\n",
       "   'main_img': '23_0_광진구_중곡동에_위치한_작은_족발가게.jpg,23_1_광진구_중곡동에_위치한_작은_족발가게.jpg,23_2_광진구_중곡동에_위치한_작은_족발가게.jpg',\n",
       "   'unit_price': 50000,\n",
       "   'address': '서울'}],\n",
       " [{'stu_id': 877,\n",
       "   'name': 'R401',\n",
       "   'category_name': '펍',\n",
       "   'main_img': '5_0_R401.jpg,5_1_R401.jpg,5_2_R401.jpg',\n",
       "   'unit_price': 38000,\n",
       "   'address': '경기'}],\n",
       " [{'stu_id': 873,\n",
       "   'name': '여름_특가_촬영장소_대여(인천_강화도)',\n",
       "   'category_name': '펍',\n",
       "   'main_img': '1_0_여름_특가_촬영장소_대여(인천_강화도).jpg,1_1_여름_특가_촬영장소_대여(인천_강화도).jpg,1_2_여름_특가_촬영장소_대여(인천_강화도).jpg',\n",
       "   'unit_price': 50000,\n",
       "   'address': '인천'}],\n",
       " [{'stu_id': 711,\n",
       "   'name': '에이플랫',\n",
       "   'category_name': '펍',\n",
       "   'main_img': '21_0_에이플랫.jpg,21_1_에이플랫.jpg,21_2_에이플랫.jpg',\n",
       "   'unit_price': 50000,\n",
       "   'address': '인천'}],\n",
       " [{'stu_id': 1161,\n",
       "   'name': '에이플랫',\n",
       "   'category_name': '스튜디오',\n",
       "   'main_img': '49_0_알이이피_서울.jpg,49_1_알이이피_서울.jpg,49_2_알이이피_서울.jpg',\n",
       "   'unit_price': 90000,\n",
       "   'address': '서울'}],\n",
       " [{'stu_id': 910,\n",
       "   'name': '쁠롱드셰프_작은식당(작당)',\n",
       "   'category_name': '펍',\n",
       "   'main_img': '38_0_쁠롱드셰프_작은식당(작당).jpg,38_1_쁠롱드셰프_작은식당(작당).jpg,38_2_쁠롱드셰프_작은식당(작당).jpg',\n",
       "   'unit_price': 38000,\n",
       "   'address': '서울'}],\n",
       " [{'stu_id': 1142,\n",
       "   'name': '유로스쿠터_매장',\n",
       "   'category_name': '기타',\n",
       "   'main_img': '8_0_유로스쿠터_매장.jpg,8_1_유로스쿠터_매장.jpg,8_2_유로스쿠터_매장.jpg',\n",
       "   'unit_price': 50000,\n",
       "   'address': '인천'}],\n",
       " [{'stu_id': 1130,\n",
       "   'name': '강남_다양한_조명연출의_예쁜_주택_개조_회의실_강의실',\n",
       "   'category_name': '식당',\n",
       "   'main_img': '21_0_강남_다양한_조명연출의_예쁜_주택_개조_회의실_강의실.jpg,21_1_강남_다양한_조명연출의_예쁜_주택_개조_회의실_강의실.jpg,21_2_강남_다양한_조명연출의_예쁜_주택_개조_회의실_강의실.jpg',\n",
       "   'unit_price': 62000,\n",
       "   'address': '서울'}]]"
      ]
     },
     "execution_count": 3,
     "metadata": {},
     "output_type": "execute_result"
    }
   ],
   "source": [
    "# result=tagCount(11) \n",
    "# result"
   ]
  },
  {
   "cell_type": "code",
   "execution_count": null,
   "metadata": {},
   "outputs": [],
   "source": []
  },
  {
   "cell_type": "code",
   "execution_count": null,
   "metadata": {},
   "outputs": [],
   "source": []
  },
  {
   "cell_type": "code",
   "execution_count": null,
   "metadata": {},
   "outputs": [],
   "source": []
  }
 ],
 "metadata": {
  "kernelspec": {
   "display_name": "Python 3",
   "language": "python",
   "name": "python3"
  },
  "language_info": {
   "codemirror_mode": {
    "name": "ipython",
    "version": 3
   },
   "file_extension": ".py",
   "mimetype": "text/x-python",
   "name": "python",
   "nbconvert_exporter": "python",
   "pygments_lexer": "ipython3",
   "version": "3.8.3"
  }
 },
 "nbformat": 4,
 "nbformat_minor": 4
}
