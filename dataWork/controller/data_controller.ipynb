{
 "cells": [
  {
   "cell_type": "code",
   "execution_count": 25,
   "metadata": {},
   "outputs": [],
   "source": [
    "import torch\n",
    "import torch.nn as nn\n",
    "import torchvision\n",
    "import torchvision.transforms as transforms\n",
    "import pdb # for문 안에서 어떻게 진행되나 확인하는 것 -- about Debug\n",
    "\n",
    "import numpy as np \n",
    "import os\n",
    "import sys\n",
    "\n",
    "sys.path.append('..')\n",
    "\n",
    "from model import image_model as im\n",
    "\n",
    "def predict(img,path):\n",
    "    img.save(path[:-9]+'/resources/images/'+img.filename)\n",
    "    \n",
    "    #device 설정\n",
    "    device = torch.device('cpu')\n",
    "    \n",
    "    #Hyperparameters\n",
    "    num_epochs = 5\n",
    "    num_classes = 10\n",
    "    batch_size = 100\n",
    "    learning_rate = 0.001\n",
    "    \n",
    "    #image loading, preprocessing\n",
    "    trans = transforms.Compose([\n",
    "        transforms.Resize((28,28)),\n",
    "        transforms.ToTensor()\n",
    "    ])\n",
    "    testset = torchvision.datasets.ImageFolder(root=path[:-9]+'/resources', transform=trans)\n",
    "    testloader = torch.utils.data.DataLoader(dataset=testset, batch_size=batch_size, shuffle=False)\n",
    "        \n",
    "    # 모델 초기화\n",
    "    model = im.ConvNet()\n",
    "    # 기존 weights 입력\n",
    "    model.load_state_dict(torch.load(path[:-9]+'/model/weight/model_state_dict.pt',map_location=device))\n",
    "    # 모델 실행\n",
    "    model.eval()\n",
    "        \n",
    "    # 예측하기\n",
    "    for image, label in testloader:\n",
    "        image=image.to(device)\n",
    "        outputs = model(image[:,:1])\n",
    "        _,predicted=torch.max(outputs.data, 1)\n",
    "        \n",
    "    # 이미지 파일 삭제 (파일 존재 여부먼저 확인하는 게 좋을 것 같으나...)\n",
    "    os.remove(path[:-9]+'/resources/images/'+img.filename)\n",
    "        \n",
    "    return str(predicted.numpy()[0])\n",
    "\n",
    "\n"
   ]
  },
  {
   "cell_type": "code",
   "execution_count": 1,
   "metadata": {},
   "outputs": [
    {
     "name": "stderr",
     "output_type": "stream",
     "text": [
      "[NbConvertApp] Converting notebook data_controller.ipynb to script\n",
      "[NbConvertApp] Writing 1517 bytes to data_controller.py\n"
     ]
    }
   ],
   "source": [
    "!jupyter nbconvert --to script data_controller.ipynb "
   ]
  }
 ],
 "metadata": {
  "kernelspec": {
   "display_name": "Python 3",
   "language": "python",
   "name": "python3"
  },
  "language_info": {
   "codemirror_mode": {
    "name": "ipython",
    "version": 3
   },
   "file_extension": ".py",
   "mimetype": "text/x-python",
   "name": "python",
   "nbconvert_exporter": "python",
   "pygments_lexer": "ipython3",
   "version": "3.7.7"
  }
 },
 "nbformat": 4,
 "nbformat_minor": 4
}
