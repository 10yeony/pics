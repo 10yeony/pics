{
 "cells": [
  {
   "cell_type": "markdown",
   "metadata": {},
   "source": [
    "# Clustering"
   ]
  },
  {
   "cell_type": "markdown",
   "metadata": {},
   "source": [
    "## 1. keyword 정제\n",
    "    1) 주요 태그 추출\n",
    "    - description 내용 포함 태그\n",
    "    - description과 일치하는 단어가 없는 태그는 태그 그대로 사용\n",
    "    - 태그 없는 187개 스튜디오는 description에서 추출한 단어 사용\n",
    "     \n",
    "     2) 유사 단어 묶어주기\n",
    "    - WordCloudVec으로 단어간 유사도 판별\n",
    "\n",
    "    >> 타겟 스튜디오와 동일한 태그 개수 세기\n",
    "\n",
    "## 2. 범주형 데이터 Gower로 수치형 데이터로 변환\n",
    "    1) 범주형 데이터는 category와 "
   ]
  },
  {
   "cell_type": "code",
   "execution_count": null,
   "metadata": {},
   "outputs": [],
   "source": []
  },
  {
   "cell_type": "code",
   "execution_count": null,
   "metadata": {},
   "outputs": [],
   "source": []
  },
  {
   "cell_type": "code",
   "execution_count": 2,
   "metadata": {},
   "outputs": [],
   "source": [
    "import numpy as np \n",
    "import pandas as pd \n",
    "from pandas import DataFrame as df\n",
    "import re # 정규식 사용을 위함\n",
    "import nltk\n",
    "import csv\n",
    "from konlpy.tag import Okt\n",
    "from konlpy.utils import pprint\n",
    "from collections import Counter"
   ]
  },
  {
   "cell_type": "code",
   "execution_count": 5,
   "metadata": {
    "collapsed": true
   },
   "outputs": [
    {
     "data": {
      "text/html": [
       "<div>\n",
       "<style scoped>\n",
       "    .dataframe tbody tr th:only-of-type {\n",
       "        vertical-align: middle;\n",
       "    }\n",
       "\n",
       "    .dataframe tbody tr th {\n",
       "        vertical-align: top;\n",
       "    }\n",
       "\n",
       "    .dataframe thead th {\n",
       "        text-align: right;\n",
       "    }\n",
       "</style>\n",
       "<table border=\"1\" class=\"dataframe\">\n",
       "  <thead>\n",
       "    <tr style=\"text-align: right;\">\n",
       "      <th></th>\n",
       "      <th>NO</th>\n",
       "      <th>img_fold_no</th>\n",
       "      <th>studio_name</th>\n",
       "      <th>studio_picture</th>\n",
       "      <th>imafe_file</th>\n",
       "      <th>category</th>\n",
       "      <th>region</th>\n",
       "      <th>tag</th>\n",
       "      <th>price</th>\n",
       "      <th>area</th>\n",
       "      <th>floor</th>\n",
       "      <th>default_person</th>\n",
       "      <th>parking</th>\n",
       "      <th>description</th>\n",
       "    </tr>\n",
       "  </thead>\n",
       "  <tbody>\n",
       "    <tr>\n",
       "      <th>0</th>\n",
       "      <td>1099</td>\n",
       "      <td>27</td>\n",
       "      <td>홍대_체스#4</td>\n",
       "      <td>['https://s3.hourplace.co.kr/temp/images/2019/...</td>\n",
       "      <td>['27_0_홍대_체스#4.jpg', '27_1_홍대_체스#4.jpg', '27_2...</td>\n",
       "      <td>원룸</td>\n",
       "      <td>서울</td>\n",
       "      <td>#1.5룸#나혼자산다#모던#분리형원룸#빌라#서교동#서울시#원룸#클래식#홍대</td>\n",
       "      <td>50,000</td>\n",
       "      <td>30</td>\n",
       "      <td>2</td>\n",
       "      <td>6</td>\n",
       "      <td>0</td>\n",
       "      <td>홍대 메인 거리에 등록한 오래된 집을 리모델링 했습니다. (90년대 빌라)\\r\\n체...</td>\n",
       "    </tr>\n",
       "    <tr>\n",
       "      <th>1</th>\n",
       "      <td>939</td>\n",
       "      <td>254</td>\n",
       "      <td>파티와 촬영용 이태원 뷰 좋은 루프탑 빌라</td>\n",
       "      <td>['https://s3.hourplace.co.kr/temp/images/2019/...</td>\n",
       "      <td>['254_0_파티와_촬영용_이태원_뷰_좋은_루프탑_빌라.jpg', '254_1_파...</td>\n",
       "      <td>주택</td>\n",
       "      <td>서울</td>\n",
       "      <td>#10명수용#남산타워#루프탑#벽난로#복고풍인테리어#자연광스튜디오#전망</td>\n",
       "      <td>38,000</td>\n",
       "      <td>145</td>\n",
       "      <td>2</td>\n",
       "      <td>8</td>\n",
       "      <td>1</td>\n",
       "      <td>44평 내부에 큰 거실과 키친, 음악작업용 스튜디오 룸, 생활하는 큰 방, 렌트용 ...</td>\n",
       "    </tr>\n",
       "    <tr>\n",
       "      <th>2</th>\n",
       "      <td>952</td>\n",
       "      <td>267</td>\n",
       "      <td>파티와 촬영용 이태원 뷰 좋은 루프탑 빌라</td>\n",
       "      <td>['https://s3.hourplace.co.kr/temp/images/2019/...</td>\n",
       "      <td>['267_0_파티와_촬영용_이태원_뷰_좋은_루프탑_빌라.jpg', '267_1_파...</td>\n",
       "      <td>주택</td>\n",
       "      <td>서울</td>\n",
       "      <td>#10명수용#남산타워#루프탑#벽난로#복고풍인테리어#자연광스튜디오#전망</td>\n",
       "      <td>38,000</td>\n",
       "      <td>145</td>\n",
       "      <td>2</td>\n",
       "      <td>8</td>\n",
       "      <td>1</td>\n",
       "      <td>44평 내부에 큰 거실과 키친, 음악작업용 스튜디오 룸, 생활하는 큰 방, 렌트용 ...</td>\n",
       "    </tr>\n",
       "    <tr>\n",
       "      <th>3</th>\n",
       "      <td>252</td>\n",
       "      <td>251</td>\n",
       "      <td>깔끔하고 아늑한 신축 투룸아파트</td>\n",
       "      <td>['https://s3.hourplace.co.kr/temp/images/2019/...</td>\n",
       "      <td>['251_0_깔끔하고_아늑한_신축_투룸아파트.jpg', '251_1_깔끔하고_아늑...</td>\n",
       "      <td>아파트</td>\n",
       "      <td>서울</td>\n",
       "      <td>#10평투룸오피스텔#따뜻한가정집#선유도신축아파트#선유도신축오피스텔#신혼부부아파트#아...</td>\n",
       "      <td>50,000</td>\n",
       "      <td>33</td>\n",
       "      <td>11</td>\n",
       "      <td>4</td>\n",
       "      <td>1</td>\n",
       "      <td>선유도역 1분거리에 위치한 신축 투룸오피스텔입니다.\\r\\n11층 남향으로 낮에는 해...</td>\n",
       "    </tr>\n",
       "    <tr>\n",
       "      <th>4</th>\n",
       "      <td>478</td>\n",
       "      <td>477</td>\n",
       "      <td>TV없이 아늑하게 꾸민 거실, 21평 부부 공간</td>\n",
       "      <td>['https://s3.hourplace.co.kr/temp/images/2019/...</td>\n",
       "      <td>['477_0_TV없이_아늑하게_꾸민_거실,_21평_부부_공간.jpg', '477_...</td>\n",
       "      <td>아파트</td>\n",
       "      <td>경기</td>\n",
       "      <td>#12층#TV없는#분위기좋은#색다른#아늑한거실#예쁜거실#깨끗한#쇼파2개#북향의#해가안드는</td>\n",
       "      <td>62,000</td>\n",
       "      <td>69</td>\n",
       "      <td>12</td>\n",
       "      <td>10</td>\n",
       "      <td>3</td>\n",
       "      <td>- 2인가구 부부가 사는 공간입니다.\\r\\n- 신축이라 쾌적하고 깔끔합니다.\\r\\n...</td>\n",
       "    </tr>\n",
       "  </tbody>\n",
       "</table>\n",
       "</div>"
      ],
      "text/plain": [
       "     NO  img_fold_no                 studio_name  \\\n",
       "0  1099           27                     홍대_체스#4   \n",
       "1   939          254     파티와 촬영용 이태원 뷰 좋은 루프탑 빌라   \n",
       "2   952          267     파티와 촬영용 이태원 뷰 좋은 루프탑 빌라   \n",
       "3   252          251           깔끔하고 아늑한 신축 투룸아파트   \n",
       "4   478          477  TV없이 아늑하게 꾸민 거실, 21평 부부 공간   \n",
       "\n",
       "                                      studio_picture  \\\n",
       "0  ['https://s3.hourplace.co.kr/temp/images/2019/...   \n",
       "1  ['https://s3.hourplace.co.kr/temp/images/2019/...   \n",
       "2  ['https://s3.hourplace.co.kr/temp/images/2019/...   \n",
       "3  ['https://s3.hourplace.co.kr/temp/images/2019/...   \n",
       "4  ['https://s3.hourplace.co.kr/temp/images/2019/...   \n",
       "\n",
       "                                          imafe_file category region  \\\n",
       "0  ['27_0_홍대_체스#4.jpg', '27_1_홍대_체스#4.jpg', '27_2...       원룸     서울   \n",
       "1  ['254_0_파티와_촬영용_이태원_뷰_좋은_루프탑_빌라.jpg', '254_1_파...       주택     서울   \n",
       "2  ['267_0_파티와_촬영용_이태원_뷰_좋은_루프탑_빌라.jpg', '267_1_파...       주택     서울   \n",
       "3  ['251_0_깔끔하고_아늑한_신축_투룸아파트.jpg', '251_1_깔끔하고_아늑...      아파트     서울   \n",
       "4  ['477_0_TV없이_아늑하게_꾸민_거실,_21평_부부_공간.jpg', '477_...      아파트     경기   \n",
       "\n",
       "                                                 tag   price  area floor  \\\n",
       "0          #1.5룸#나혼자산다#모던#분리형원룸#빌라#서교동#서울시#원룸#클래식#홍대  50,000    30     2   \n",
       "1             #10명수용#남산타워#루프탑#벽난로#복고풍인테리어#자연광스튜디오#전망  38,000   145     2   \n",
       "2             #10명수용#남산타워#루프탑#벽난로#복고풍인테리어#자연광스튜디오#전망  38,000   145     2   \n",
       "3  #10평투룸오피스텔#따뜻한가정집#선유도신축아파트#선유도신축오피스텔#신혼부부아파트#아...  50,000    33    11   \n",
       "4  #12층#TV없는#분위기좋은#색다른#아늑한거실#예쁜거실#깨끗한#쇼파2개#북향의#해가안드는  62,000    69    12   \n",
       "\n",
       "   default_person  parking                                        description  \n",
       "0               6        0  홍대 메인 거리에 등록한 오래된 집을 리모델링 했습니다. (90년대 빌라)\\r\\n체...  \n",
       "1               8        1  44평 내부에 큰 거실과 키친, 음악작업용 스튜디오 룸, 생활하는 큰 방, 렌트용 ...  \n",
       "2               8        1  44평 내부에 큰 거실과 키친, 음악작업용 스튜디오 룸, 생활하는 큰 방, 렌트용 ...  \n",
       "3               4        1  선유도역 1분거리에 위치한 신축 투룸오피스텔입니다.\\r\\n11층 남향으로 낮에는 해...  \n",
       "4              10        3  - 2인가구 부부가 사는 공간입니다.\\r\\n- 신축이라 쾌적하고 깔끔합니다.\\r\\n...  "
      ]
     },
     "execution_count": 5,
     "metadata": {},
     "output_type": "execute_result"
    }
   ],
   "source": [
    "import os\n",
    "dataset = pd.read_csv(\"total_dataset_trim.csv\",encoding='utf-8')\n",
    "dataset.head()"
   ]
  },
  {
   "cell_type": "code",
   "execution_count": 337,
   "metadata": {},
   "outputs": [],
   "source": [
    "## Tag 다듬기\n",
    "## 복합명사로 이루어진 태그는 잘라서 길이 2~7 사이의 단어만 추출\n",
    "def getTagList(value):\n",
    "    okt=Okt()\n",
    "    parseTagList=[]\n",
    "    tempTagList=[]\n",
    "    tags=str(value).split('#') # 태그별로 자르기\n",
    "    for tag in tags:\n",
    "        if len(tag)>1:\n",
    "            okt.nouns(tag)  # 1개 태그 내 복합 명사 자르기\n",
    "            for j in okt.nouns(tag):\n",
    "                if(len(j)>=2|len(j)<9):\n",
    "                    tempTagList.append(j)\n",
    "    tempTagList=list(set(tempTagList))\n",
    "    parseTagList.append(tempTagList)\n",
    "    return parseTagList"
   ]
  },
  {
   "cell_type": "code",
   "execution_count": 338,
   "metadata": {},
   "outputs": [],
   "source": [
    "## description 다듬기\n",
    "def getDescList(value):\n",
    "    okt=Okt()\n",
    "    descList=[]\n",
    "    value=value.replace(\"[^ㄱ-ㅎㅏ-ㅣ가-힣 ]\",\"\")\n",
    "    descript=descript.replace(\"\\n\",\"\")\n",
    "    descript=descript.replace(\"\\r\",\"\")\n",
    "    descList=[i for i in okt.nouns(value) if len(i)>1]\n",
    "    descList=list(set(descList))\n",
    "    return descList"
   ]
  },
  {
   "cell_type": "code",
   "execution_count": 342,
   "metadata": {},
   "outputs": [],
   "source": [
    "## 코어 태그 추출\n",
    "def getCoreTags(n):\n",
    "    coreTagList=[]\n",
    "    okt=Okt()    \n",
    "    for i in range(n):\n",
    "        coreTag=\"\"\n",
    "        descript=getDescList(dataset.description[i]) # 한글자 이상만 뽑음\n",
    "        tags=getTagList(dataset.tag[i])  # tag를 한번 더 파싱\n",
    "        for t in tags: \n",
    "            if t in descript: # 태그가 description 단어에도 있는지 확인\n",
    "                coreTag+=t\n",
    "        if len(tags[0])<1: # 태그 수가 적으면(=1개 이하) desc의 단어로 대체\n",
    "            for desc in descript:\n",
    "                coreTagList.append(desc)\n",
    "        elif len(coreTag)>=3:  # description과 일치하는 tag가 충분하면(3개 이상) 일치하는 태그 그대로 사용\n",
    "            for core in coretag:\n",
    "                coreTagList.append(core)\n",
    "        else:  # description과 일치하는 태그는 없지만 태그 수는 충분할 때 추출한 tag를 그대로 사용\n",
    "            for tag in tags:\n",
    "                coreTagList.append(tag)\n",
    "    return coreTagList"
   ]
  },
  {
   "cell_type": "code",
   "execution_count": 345,
   "metadata": {
    "scrolled": true
   },
   "outputs": [
    {
     "name": "stdout",
     "output_type": "stream",
     "text": [
      "Wall time: 3min 7s\n"
     ]
    }
   ],
   "source": [
    "%time CoreTagDate=getCoreTags(1800)"
   ]
  },
  {
   "cell_type": "code",
   "execution_count": 344,
   "metadata": {
    "scrolled": true
   },
   "outputs": [
    {
     "data": {
      "text/plain": [
       "[['홍대', '원룸', '서울시', '클래식', '서교동', '빌라', '분리', '모던'],\n",
       " ['자연', '전망', '고풍', '벽난로', '루프', '명수'],\n",
       " ['자연', '전망', '고풍', '벽난로', '루프', '명수'],\n",
       " ['신축', '선유도', '가정', '아파트', '평투룸'],\n",
       " ['북향', '쇼파', '분위기'],\n",
       " ['카페', '신혼집', '빌라'],\n",
       " ['반포', '아파트', '잠원역', '소형', '강남', '잠원동'],\n",
       " ['자취', '원룸', '가구', '광고', '여자'],\n",
       " ['원룸', '싱글', '라이프', '주거', '고시원', '천호역'],\n",
       " ['골드', '블루', '서울', '화이트', '모던'],\n",
       " ['아이방', '테라스', '복층', '대형', '평수'],\n",
       " ['아파트', '서현역'],\n",
       " ['화실'],\n",
       " ['평지', '화장실', '주차', '편리', '빈티', '가능', '차량', '공간', '강화도', '공사'],\n",
       " ['아파트', '정원', '모던', '아이방'],\n",
       " ['오디오', '가구', '층집', '가정', '레디', '접시', '루왁', '소품', '화이트', '모던'],\n",
       " ['차편', '동물', '층집', '여의도', '촬영', '당산', '아이', '근처', '베란다'],\n",
       " ['돌담', '자연', '층집', '사계절', '종로구', '주의', '아이', '소개', '유리']]"
      ]
     },
     "execution_count": 344,
     "metadata": {},
     "output_type": "execute_result"
    }
   ],
   "source": [
    "CoreTagDate"
   ]
  },
  {
   "cell_type": "markdown",
   "metadata": {},
   "source": [
    "## wordcloud\n",
    "    단어간 유사도"
   ]
  },
  {
   "cell_type": "markdown",
   "metadata": {},
   "source": [
    "### CoreTag로 유사 키워드 추출"
   ]
  },
  {
   "cell_type": "code",
   "execution_count": 477,
   "metadata": {},
   "outputs": [],
   "source": [
    "from gensim.models import word2vec\n",
    "\n",
    "num_features = 100    # Word vector dimensionality                      \n",
    "min_word_count = 1   # Minimum word count                        \n",
    "num_workers = 2     # Number of threads to run in parallel\n",
    "context = 4          # Context window size                                                                                    \n",
    "downsampling = 1e-3  # Downsample setting for frequent words\n",
    "\n",
    "model = gensim.models.Word2Vec(CoreTagDate, workers=num_workers, \n",
    "                          size=num_features, min_count = min_word_count,\n",
    "                          window = context, sample = downsampling)\n",
    "\n",
    "model_name = \"TagSimilarity\"\n",
    "model.save(model_name)"
   ]
  },
  {
   "cell_type": "code",
   "execution_count": 479,
   "metadata": {
    "scrolled": true
   },
   "outputs": [
    {
     "data": {
      "text/plain": [
       "[('촬영', 0.9887179136276245),\n",
       " ('정원', 0.9878069162368774),\n",
       " ('채광', 0.9877332448959351),\n",
       " ('화이트', 0.9875450730323792),\n",
       " ('광고', 0.9874061942100525),\n",
       " ('대관', 0.9869651794433594),\n",
       " ('카페', 0.9863981008529663),\n",
       " ('주택', 0.9862081408500671),\n",
       " ('드라마', 0.9861577153205872),\n",
       " ('모임', 0.9860615134239197)]"
      ]
     },
     "execution_count": 479,
     "metadata": {},
     "output_type": "execute_result"
    }
   ],
   "source": [
    "# model.wv.vocab\n",
    "model.wv.most_similar(\"원목\",topn=10)\n"
   ]
  },
  {
   "cell_type": "markdown",
   "metadata": {},
   "source": [
    "### Description 만으로 유사 키워드 추출"
   ]
  },
  {
   "cell_type": "code",
   "execution_count": 446,
   "metadata": {},
   "outputs": [],
   "source": [
    "## description 다듬기\n",
    "def getDescList(n):\n",
    "    okt=Okt()\n",
    "    descList=[]\n",
    "    for i in range(n):\n",
    "        descript=(dataset.description[i]) # 한글자 이상만 뽑음\n",
    "        descript=descript.replace(\"\\n\",\"\")\n",
    "        descript=descript.replace(\"\\r\",\"\")\n",
    "        descript=descript.replace(\"[^ㄱ-ㅎㅏ-ㅣ가-힣 ]\",\"\")\n",
    "        descList=[j[0] for j in okt.pos(descript) if (len(j[0])>1 | (j[1]==\"Noun\")|(j[1]==\"Verb\"))]\n",
    "        descList=list(set(descList))\n",
    "    return descList"
   ]
  },
  {
   "cell_type": "code",
   "execution_count": 468,
   "metadata": {},
   "outputs": [],
   "source": [
    "descList=getDescList(1800)"
   ]
  },
  {
   "cell_type": "code",
   "execution_count": 469,
   "metadata": {},
   "outputs": [
    {
     "data": {
      "text/plain": [
       "['위해',\n",
       " '설치',\n",
       " '프로그램',\n",
       " '88',\n",
       " '헤드폰',\n",
       " '방음',\n",
       " '겨울철',\n",
       " '매트',\n",
       " '충격',\n",
       " '세균',\n",
       " '골드',\n",
       " '상쾌',\n",
       " '자신',\n",
       " '가능',\n",
       " '피아노',\n",
       " '방기',\n",
       " '항균',\n",
       " '■6.NEW',\n",
       " '여름철',\n",
       " '물품',\n",
       " '스피커',\n",
       " '삼각대',\n",
       " '있습니다',\n",
       " '440',\n",
       " '세스코',\n",
       " '음악',\n",
       " '댄스',\n",
       " '헤머',\n",
       " '거리',\n",
       " '콘덴서',\n",
       " '사운드',\n",
       " '최신',\n",
       " '전체',\n",
       " '슈어',\n",
       " '넓은',\n",
       " '트스',\n",
       " '가편',\n",
       " '기타',\n",
       " '인터페이스',\n",
       " '좋은',\n",
       " 'GIGA',\n",
       " '바로',\n",
       " '녹음실',\n",
       " 'OPEN',\n",
       " '다양한',\n",
       " '공간',\n",
       " '주차장',\n",
       " '비켜',\n",
       " '운영',\n",
       " '오디오',\n",
       " '블루',\n",
       " '난방',\n",
       " '최상',\n",
       " '보컬',\n",
       " '2006',\n",
       " '최고급',\n",
       " '완비',\n",
       " '24시',\n",
       " '무제한',\n",
       " '옵션',\n",
       " '전용',\n",
       " '인테리어',\n",
       " 'NEW',\n",
       " '업체',\n",
       " '장비',\n",
       " '잡음',\n",
       " '공기청정기',\n",
       " '전문',\n",
       " '대형',\n",
       " '깨끗한',\n",
       " 'SRH',\n",
       " '마이크',\n",
       " '음반',\n",
       " '^^',\n",
       " 'CCTV',\n",
       " '노래',\n",
       " '■■',\n",
       " '도보',\n",
       " '전자',\n",
       " '역세',\n",
       " '360',\n",
       " '입지',\n",
       " '바닥',\n",
       " '하고',\n",
       " '촬영',\n",
       " '가능한',\n",
       " '빠른',\n",
       " '리지',\n",
       " '표현',\n",
       " '더위',\n",
       " '최상급',\n",
       " '와이파이',\n",
       " '아크로바틱',\n",
       " '까지',\n",
       " '흡수',\n",
       " '추가',\n",
       " '댄서',\n",
       " '■8.NEW',\n",
       " '2분',\n",
       " '핸드폰',\n",
       " '시공',\n",
       " '수준',\n",
       " '안전',\n",
       " '이제',\n",
       " '고급스러운',\n",
       " '안내',\n",
       " '겸비',\n",
       " '으로',\n",
       " '작업',\n",
       " '사당역',\n",
       " '책상',\n",
       " '엠프',\n",
       " '녹음',\n",
       " '관리',\n",
       " '국내',\n",
       " '가용',\n",
       " '되어',\n",
       " '하세요',\n",
       " '시설',\n",
       " '스탠드',\n",
       " '사용',\n",
       " '건반',\n",
       " '천장',\n",
       " '요가',\n",
       " '1분',\n",
       " 'No',\n",
       " '선명하게',\n",
       " '저렴하고',\n",
       " '각종',\n",
       " '깔려있는',\n",
       " '플로',\n",
       " '영상',\n",
       " '시스템',\n",
       " '제거',\n",
       " '않고',\n",
       " '이중',\n",
       " '따로',\n",
       " '추위',\n",
       " '모니터',\n",
       " '분리',\n",
       " '싱싱',\n",
       " 'MXL',\n",
       " '최고',\n",
       " '탄성',\n",
       " '보안',\n",
       " '향균',\n",
       " '10',\n",
       " '캐리어',\n",
       " '컴퓨터',\n",
       " '인터넷',\n",
       " '스크린',\n",
       " '연습실',\n",
       " 'ASMR',\n",
       " '필터',\n",
       " '조건']"
      ]
     },
     "execution_count": 469,
     "metadata": {},
     "output_type": "execute_result"
    }
   ],
   "source": [
    "descList"
   ]
  },
  {
   "cell_type": "code",
   "execution_count": null,
   "metadata": {},
   "outputs": [],
   "source": []
  }
 ],
 "metadata": {
  "kernelspec": {
   "display_name": "Python 3",
   "language": "python",
   "name": "python3"
  },
  "language_info": {
   "codemirror_mode": {
    "name": "ipython",
    "version": 3
   },
   "file_extension": ".py",
   "mimetype": "text/x-python",
   "name": "python",
   "nbconvert_exporter": "python",
   "pygments_lexer": "ipython3",
   "version": "3.7.7"
  }
 },
 "nbformat": 4,
 "nbformat_minor": 4
}
