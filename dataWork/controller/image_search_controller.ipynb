{
 "cells": [
  {
   "cell_type": "code",
   "execution_count": null,
   "metadata": {},
   "outputs": [],
   "source": [
    "import torch\n",
    "from PIL import Image\n",
    "import torch\n",
    "import torchvision\n",
    "from torchvision import transforms\n",
    "import pandas as pd\n",
    "import numpy as np\n",
    "import matplotlib.pyplot as plt"
   ]
  },
  {
   "cell_type": "code",
   "execution_count": null,
   "metadata": {},
   "outputs": [],
   "source": [
    "# CNN 모델 불러오기\n",
    "# 152\n",
    "model = torch.hub.load('pytorch/vision:v0.6.0', 'resnet152', pretrained=True)"
   ]
  },
  {
   "cell_type": "code",
   "execution_count": null,
   "metadata": {},
   "outputs": [],
   "source": [
    "# feature 추출하기\n",
    "def extract_feature(filepath,image_name) :\n",
    "    input_image = Image.open(filepath+image_name)\n",
    "    preprocess = transforms.Compose([\n",
    "      transforms.Resize(256),\n",
    "      transforms.CenterCrop(224),\n",
    "      transforms.ToTensor(),\n",
    "      transforms.Normalize(mean=[0.485, 0.456, 0.406], std=[0.229, 0.224, 0.225]),\n",
    "    ])\n",
    "    input_tensor = preprocess(input_image)\n",
    "    input_batch = input_tensor.unsqueeze(0) # create a mini-batch as expected by the mode\n",
    "\n",
    "    if torch.cuda.is_available():\n",
    "      input_batch = input_batch.to('cuda')\n",
    "      model.to('cuda')\n",
    "\n",
    "    with torch.no_grad():\n",
    "      output = model(input_batch)\n",
    "    \n",
    "#     return output[0]\n",
    "    return torch.nn.functional.softmax(output[0], dim=0)"
   ]
  },
  {
   "cell_type": "code",
   "execution_count": null,
   "metadata": {},
   "outputs": [],
   "source": [
    "from os import listdir\n",
    "from os.path import isfile, join\n",
    "filepath = 'C:/바탕 화면/playdata/ice/eclipse/Devils_Project/frontend/src/assets/img/studio'\n",
    "files = [f for f in listdir(filepath) if isfile(join(filepath, f))]"
   ]
  },
  {
   "cell_type": "code",
   "execution_count": null,
   "metadata": {},
   "outputs": [],
   "source": [
    "# 서버 이미지 불러오기\n",
    "import time\n",
    "start = time.time()\n",
    "filepath = 'C:/바탕 화면/playdata/ice/eclipse/Devils_Project/frontend/src/assets/img/studio/'\n",
    "feature_list = []\n",
    "for i in range(1000):\n",
    "    vector = extract_feature(filepath, files[i])\n",
    "    feature = {\n",
    "      'name' : files[i],\n",
    "      'vector' : vector\n",
    "      }\n",
    "    feature_list.append(feature)\n",
    "print(len(feature_list))\n",
    "print(\"time :\", time.time() - start)  # 현재시각 - 시작시간 = 실행 시간"
   ]
  },
  {
   "cell_type": "code",
   "execution_count": null,
   "metadata": {},
   "outputs": [],
   "source": [
    "def get_sim_pic(filepath, file):\n",
    "    target_img = extract_feature(filepath,file)\n",
    "    sim_list = []\n",
    "    cos = torch.nn.CosineSimilarity(dim=-1)\n",
    "    for feature in feature_list:\n",
    "        sim_degree = cos(target_img,feature['vector'])\n",
    "        sim = {\n",
    "          'name' : feature['name'],\n",
    "          'sim_degree' : float(sim_degree)\n",
    "        }\n",
    "        sim_list.append(sim)\n",
    "    df = pd.DataFrame(sim_list)\n",
    "    result_list = df.sort_values(by='sim_degree' ,ascending=False)[:5]['name']\n",
    "    print(df.sort_values(by='sim_degree' ,ascending=False)[:5])\n",
    "    return result_list"
   ]
  },
  {
   "cell_type": "code",
   "execution_count": null,
   "metadata": {},
   "outputs": [],
   "source": [
    "def show_pics(result_list, target_file) :\n",
    "    print(target_file)\n",
    "    img =Image.open(filepath+target_file)\n",
    "    # img.show()\n",
    "    pix=np.array(img)\n",
    "    plt.imshow(img)\n",
    "    plt.show()\n",
    "    print('-'*30)\n",
    "    for img_name in result_list:\n",
    "        print(img_name)\n",
    "        img =Image.open(filepath+img_name)\n",
    "        pix=np.array(img)\n",
    "        plt.imshow(img)\n",
    "        plt.show()"
   ]
  },
  {
   "cell_type": "code",
   "execution_count": null,
   "metadata": {},
   "outputs": [],
   "source": [
    "file = files[1001]\n",
    "result_list = get_sim_pic(filepath, file)\n",
    "show_pics(result_list, file)"
   ]
  },
  {
   "cell_type": "code",
   "execution_count": null,
   "metadata": {},
   "outputs": [],
   "source": [
    "# 화면에서 요청한 이미지 가져와 추출\n",
    "print(files[1002]) # 사진 지정... 서버 연결 시 삭제\n",
    "target_img = extract_feature(filepath,files[1002])"
   ]
  },
  {
   "cell_type": "code",
   "execution_count": null,
   "metadata": {},
   "outputs": [],
   "source": [
    "# 유사도 측정\n",
    "sim_list = []\n",
    "cos = torch.nn.CosineSimilarity(dim=-1)\n",
    "for feature in feature_list:\n",
    "    sim_degree = cos(target_img,feature['vector'])\n",
    "    sim = {\n",
    "      'name' : feature['name'],\n",
    "      'sim_degree' : float(sim_degree)\n",
    "    }\n",
    "    sim_list.append(sim)\n",
    "print(sim_list)"
   ]
  },
  {
   "cell_type": "code",
   "execution_count": null,
   "metadata": {},
   "outputs": [],
   "source": [
    "df = pd.DataFrame(sim_list)\n",
    "result_list = df.sort_values(by='sim_degree' ,ascending=False)[:5]['name']\n",
    "result_list"
   ]
  },
  {
   "cell_type": "code",
   "execution_count": null,
   "metadata": {},
   "outputs": [],
   "source": [
    "print(files[1002])\n",
    "img =Image.open(filepath+files[1002])\n",
    "# img.show()\n",
    "pix=np.array(img)\n",
    "plt.imshow(img)\n",
    "plt.show()\n",
    "print('-'*30)\n",
    "for img_name in result_list:\n",
    "    print(img_name)\n",
    "    img =Image.open(filepath+img_name)\n",
    "    pix=np.array(img)\n",
    "    plt.imshow(img)\n",
    "    plt.show()"
   ]
  },
  {
   "cell_type": "code",
   "execution_count": null,
   "metadata": {},
   "outputs": [],
   "source": [
    "\n",
    "plt.show()"
   ]
  },
  {
   "cell_type": "code",
   "execution_count": null,
   "metadata": {},
   "outputs": [],
   "source": [
    "# testset = torchvision.datasets.ImageFolder(root=path[:-9]+'/resources', transform=trans)\n",
    "path = '../../frontend/src/assets/img'\n",
    "preprocess = transforms.Compose([\n",
    "      transforms.Resize(256),\n",
    "      transforms.CenterCrop(224),\n",
    "      transforms.ToTensor(),\n",
    "      transforms.Normalize(mean=[0.485, 0.456, 0.406], std=[0.229, 0.224, 0.225]),\n",
    "  ])\n",
    "testset = torchvision.datasets.ImageFolder(path, transform=preprocess)\n",
    "testloader = torch.utils.data.DataLoader(dataset=testset, shuffle=False)\n",
    "device = torch.device('cpu')\n",
    "image_list = []\n",
    "for image, label in testloader:\n",
    "    image=image.to(device)\n",
    "print(len(image))\n",
    "    "
   ]
  },
  {
   "cell_type": "code",
   "execution_count": null,
   "metadata": {},
   "outputs": [],
   "source": []
  }
 ],
 "metadata": {
  "kernelspec": {
   "display_name": "Python 3",
   "language": "python",
   "name": "python3"
  },
  "language_info": {
   "codemirror_mode": {
    "name": "ipython",
    "version": 3
   },
   "file_extension": ".py",
   "mimetype": "text/x-python",
   "name": "python",
   "nbconvert_exporter": "python",
   "pygments_lexer": "ipython3",
   "version": "3.7.7"
  }
 },
 "nbformat": 4,
 "nbformat_minor": 4
}
