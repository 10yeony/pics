{
 "cells": [
  {
   "cell_type": "code",
   "execution_count": 18,
   "metadata": {},
   "outputs": [],
   "source": [
    "import torch\n",
    "from PIL import Image\n",
    "import torchvision\n",
    "from torchvision import transforms\n",
    "import pandas as pd\n",
    "import numpy as np\n",
    "import matplotlib.pyplot as plt\n",
    "from os import listdir, remove\n",
    "from os.path import isfile, join\n",
    "import sys\n",
    "sys.path.append('..')\n",
    "from dao.image_dao import get_stuId_by_img"
   ]
  },
  {
   "cell_type": "code",
   "execution_count": 9,
   "metadata": {},
   "outputs": [
    {
     "name": "stderr",
     "output_type": "stream",
     "text": [
      "Using cache found in C:\\Users\\Playdata/.cache\\torch\\hub\\pytorch_vision_v0.6.0\n"
     ]
    }
   ],
   "source": [
    "# filepath = 'C:/kjy/pics/frontend/src/assets/img/studio' # 서버에 이미지 저장 디렉토리 경로\n",
    "# savepath= 'C:/kjy/pics/dataWork/resources/sim_table/output.pt' # feature 저장할 경로\n",
    "# savedpath = 'C:/kjy/pics/dataWork/resources/sim_table/output.pt' # 저장된 feature 가져오기 위한 경로\n",
    "\n"
   ]
  },
  {
   "cell_type": "code",
   "execution_count": 22,
   "metadata": {},
   "outputs": [
    {
     "name": "stderr",
     "output_type": "stream",
     "text": [
      "[NbConvertApp] Converting notebook image_search_controller.ipynb to script\n",
      "[NbConvertApp] Writing 3888 bytes to image_search_controller.py\n"
     ]
    }
   ],
   "source": [
    "!jupyter nbconvert --to script image_search_controller.ipynb "
   ]
  },
  {
   "cell_type": "code",
   "execution_count": 11,
   "metadata": {},
   "outputs": [],
   "source": [
    "def get_stuIds_by_img(file, root_path):\n",
    "    filepath = join(root_path, 'frontend/src/assets/img/studio')\n",
    "    simpath = join(root_path, 'dataWork/resources/sim_table/output.pt')\n",
    "    saved_img_path = join(root_path, 'dataWork/resources/images')\n",
    "    \n",
    "    file.filename = 'target.jpg'\n",
    "    file.save(join(saved_img_path,file.filename))\n",
    "    \n",
    "    result_list = get_sim_image_names(saved_img_path, file.filename, simpath)\n",
    "    stu_ids = get_stuId_by_img(result_list)\n",
    "    \n",
    "    remove(join(saved_img_path,file.filename))\n",
    "    return stu_ids"
   ]
  },
  {
   "cell_type": "code",
   "execution_count": 2,
   "metadata": {},
   "outputs": [],
   "source": [
    "# CNN 모델 불러오기 __ resnet152\n",
    "def get_model() :\n",
    "    model = torch.hub.load('pytorch/vision:v0.6.0', 'resnet152', pretrained=True)\n",
    "    return model"
   ]
  },
  {
   "cell_type": "code",
   "execution_count": 3,
   "metadata": {},
   "outputs": [],
   "source": [
    "# feature 추출하기\n",
    "def extract_feature(saved_img_path,image_name) :\n",
    "    input_image = Image.open(join(saved_img_path,image_name))\n",
    "    model = get_model()\n",
    "    preprocess = transforms.Compose([\n",
    "      transforms.Resize(256),\n",
    "      transforms.CenterCrop(224),\n",
    "      transforms.ToTensor(),\n",
    "      transforms.Normalize(mean=[0.485, 0.456, 0.406], std=[0.229, 0.224, 0.225]),\n",
    "    ])\n",
    "    input_tensor = preprocess(input_image)\n",
    "    input_batch = input_tensor.unsqueeze(0) # create a mini-batch as expected by the mode\n",
    "\n",
    "    if torch.cuda.is_available():\n",
    "      input_batch = input_batch.to('cuda')\n",
    "      model.to('cuda')\n",
    "\n",
    "    with torch.no_grad():\n",
    "      output = model(input_batch)\n",
    "\n",
    "    return torch.nn.functional.softmax(output[0], dim=0)"
   ]
  },
  {
   "cell_type": "code",
   "execution_count": 4,
   "metadata": {},
   "outputs": [],
   "source": [
    "def get_image_name_list(filepath) :\n",
    "    files = [f for f in listdir(filepath) if isfile(join(filepath, f))]\n",
    "    return files"
   ]
  },
  {
   "cell_type": "code",
   "execution_count": 5,
   "metadata": {},
   "outputs": [],
   "source": [
    "# 서버 이미지 저장하기\n",
    "def set_sim_image(filepath, savepath) :\n",
    "    try :\n",
    "        files = get_image_name_list(filepath)\n",
    "        feature_list = []\n",
    "        for file_name in files[:-5]:\n",
    "            vector = extract_feature(filepath, file_name)\n",
    "            feature = {\n",
    "              'name' : file_name,\n",
    "              'vector' : vector\n",
    "              }\n",
    "            feature_list.append(feature)\n",
    "            torch.save(feature_list, savepath)\n",
    "        return \"save successfully\"\n",
    "    except :\n",
    "        return feature_list    "
   ]
  },
  {
   "cell_type": "code",
   "execution_count": 6,
   "metadata": {},
   "outputs": [],
   "source": [
    "def get_sim_image(savedpath) :\n",
    "    return torch.load(savedpath)"
   ]
  },
  {
   "cell_type": "code",
   "execution_count": 7,
   "metadata": {},
   "outputs": [],
   "source": [
    "def get_sim_image_names(saved_img_path, file_name, simpath):\n",
    "    target_img = extract_feature(saved_img_path,file_name)\n",
    "    feature_list = get_sim_image(simpath)\n",
    "    sim_list = []\n",
    "    cos = torch.nn.CosineSimilarity(dim=-1)\n",
    "    for feature in feature_list:\n",
    "        sim_degree = cos(target_img,feature['vector'])\n",
    "        sim = {\n",
    "          'name' : feature['name'],\n",
    "          'sim_degree' : float(sim_degree)\n",
    "        }\n",
    "        sim_list.append(sim)\n",
    "    df = pd.DataFrame(sim_list)\n",
    "    image_names = df.sort_values(by='sim_degree' ,ascending=False)[:50]['name']\n",
    "    return image_names"
   ]
  },
  {
   "cell_type": "code",
   "execution_count": 8,
   "metadata": {},
   "outputs": [],
   "source": [
    "def show_pics(result_list, target_file) :\n",
    "    print(target_file)\n",
    "    img =Image.open(join(filepath,target_file))\n",
    "    # img.show()\n",
    "    pix=np.array(img)\n",
    "    plt.imshow(img)\n",
    "    plt.show()\n",
    "    print('-'*30)\n",
    "    for img_name in result_list:\n",
    "        print(img_name)\n",
    "        img =Image.open(join(filepath,img_name))\n",
    "        pix=np.array(img)\n",
    "        plt.imshow(img)\n",
    "        plt.show()"
   ]
  },
  {
   "cell_type": "code",
   "execution_count": null,
   "metadata": {},
   "outputs": [],
   "source": []
  }
 ],
 "metadata": {
  "kernelspec": {
   "display_name": "Python 3",
   "language": "python",
   "name": "python3"
  },
  "language_info": {
   "codemirror_mode": {
    "name": "ipython",
    "version": 3
   },
   "file_extension": ".py",
   "mimetype": "text/x-python",
   "name": "python",
   "nbconvert_exporter": "python",
   "pygments_lexer": "ipython3",
   "version": "3.7.7"
  }
 },
 "nbformat": 4,
 "nbformat_minor": 4
}
