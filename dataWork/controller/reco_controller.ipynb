{
 "cells": [
  {
   "cell_type": "code",
   "execution_count": 13,
   "metadata": {},
   "outputs": [],
   "source": [
    "# 외부 모듈\n",
    "import pandas as pd\n",
    "# 사용자 모듈 불러오기\n",
    "import sys\n",
    "sys.path.append('..')\n",
    "from dao import reco_dao\n",
    "def recommend():\n",
    "    # DB에서 불러온 source 받기\n",
    "    df = reco_dao.get_cfsource()\n",
    "    return df.iat[2,1] # 서버에서 받는지 확인용.... df가 진짜 리턴값"
   ]
  },
  {
   "cell_type": "code",
   "execution_count": 22,
   "metadata": {},
   "outputs": [
    {
     "name": "stderr",
     "output_type": "stream",
     "text": [
      "[NbConvertApp] Converting notebook reco_controller.ipynb to script\n",
      "[NbConvertApp] Writing 385 bytes to reco_controller.py\n"
     ]
    }
   ],
   "source": [
    "!jupyter nbconvert --to script reco_controller.ipynb "
   ]
  }
 ],
 "metadata": {
  "kernelspec": {
   "display_name": "Python 3",
   "language": "python",
   "name": "python3"
  },
  "language_info": {
   "codemirror_mode": {
    "name": "ipython",
    "version": 3
   },
   "file_extension": ".py",
   "mimetype": "text/x-python",
   "name": "python",
   "nbconvert_exporter": "python",
   "pygments_lexer": "ipython3",
   "version": "3.7.7"
  }
 },
 "nbformat": 4,
 "nbformat_minor": 4
}
