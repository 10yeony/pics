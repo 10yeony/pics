{
 "cells": [
  {
   "cell_type": "code",
   "execution_count": 23,
   "metadata": {},
   "outputs": [],
   "source": [
    "# 외부 모듈\n",
    "import pandas as pd\n",
    "import numpy as np\n",
    "\n",
    "# 예측점수 테이블 가져오기\n",
    "df = pd.read_csv('../resources/sim_table/sim_table.csv', encoding='utf-8', index_col = 0)\n",
    "# pivot회\n",
    "ratings_predicted = df.pivot_table(index= 'userId', columns='itemId', values='rate')\n",
    "# userId 받고 해당 사람에게 8개 stuId 추출\n",
    "studio_list = ratings_predicted.loc[22].sort_values(ascending=False)[:8].index\n",
    "# "
   ]
  },
  {
   "cell_type": "code",
   "execution_count": null,
   "metadata": {},
   "outputs": [],
   "source": [
    "!jupyter nbconvert --to script reco_controller.ipynb "
   ]
  },
  {
   "cell_type": "code",
   "execution_count": null,
   "metadata": {},
   "outputs": [],
   "source": [
    "# #surprise 모듈 사용\n",
    "\n",
    "\n",
    "# reader = surprise.Reader(rating_scale=(1,5))\n",
    "# ds = surprise.Dataset.load_from_df(ratings_r.loc[:,['user','item', 'score']],reader)\n",
    "\n",
    "# sim_options = {'name':'cossine',\n",
    "#               'user_based':False}\n",
    "# # sim_options = {'name':'pearson'}\n",
    "# # algo = surprise.KNNBasic(sim_options=sim_options)\n",
    "# algo = surprise.KNNBasic(sim_options=sim_options)\n",
    "# print(cross_validate(algo, ds)['test_rmse'].mean())\n",
    "# ds_set = ds.build_full_trainset()\n",
    "# algo.fit(ds_set)\n",
    "\n",
    "# # index_combinations=list(product(final['userId'], final['itemId'])) # repeat = n 씩 조합한다\n",
    "# # index_combinations\n",
    "# # for userId, itemId in index_combinations:\n",
    "# # #     print(type(userId),itemId)\n",
    "# # #     predict_list = []\n",
    "# #     predict_rate = algo.predict(userId, itemId).est\n",
    "# # #     print(algo.predict(userId,itemId).est, algo.predict(userId,itemId).details.get('was_impossible'))\n",
    "# #     predict_dic = {\n",
    "# #         'userId':userId,\n",
    "# #         'itemId':itemId,\n",
    "# #         'rate': predict_rate\n",
    "# #     }\n",
    "# #     predict_list.append(predict_dic)\n",
    "# # predict_list\n",
    "# # rating_result = pd.DataFrame(predict_list)\n",
    "# # rating_result"
   ]
  },
  {
   "cell_type": "code",
   "execution_count": null,
   "metadata": {},
   "outputs": [],
   "source": [
    "# # (4) CF 진행\n",
    "# reader = surprise.Reader(rating_scale=(1,5))\n",
    "# ds = surprise.Dataset.load_from_df(compare.loc[:,['userId','itemId', 'rate']],reader)\n",
    "\n",
    "# sim_options = {'name':'pearson',\n",
    "#               'user_based':False}\n",
    "# # sim_options = {'name':'pearson'}\n",
    "# # algo = surprise.KNNBasic(sim_options=sim_options)\n",
    "# algo = surprise.KNNBasic(sim_options=sim_options)\n",
    "# print(cross_validate(algo, ds)['test_rmse'].mean())\n",
    "# ds_set = ds.build_full_trainset()\n",
    "# algo.fit(ds_set)\n",
    "# # for i in ratings.index:\n",
    "# #     for j in ratings.columns:\n",
    "# #         print(\"{}\" .format(algo.predict(i,j)))\n"
   ]
  }
 ],
 "metadata": {
  "kernelspec": {
   "display_name": "Python 3",
   "language": "python",
   "name": "python3"
  },
  "language_info": {
   "codemirror_mode": {
    "name": "ipython",
    "version": 3
   },
   "file_extension": ".py",
   "mimetype": "text/x-python",
   "name": "python",
   "nbconvert_exporter": "python",
   "pygments_lexer": "ipython3",
   "version": "3.7.7"
  }
 },
 "nbformat": 4,
 "nbformat_minor": 4
}
