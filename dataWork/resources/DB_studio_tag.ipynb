{
 "cells": [
  {
   "cell_type": "code",
   "execution_count": 4,
   "metadata": {},
   "outputs": [],
   "source": [
    "import pandas as pd\n",
    "import random\n",
    "df = pd.read_csv(\n",
    "    'C:/바탕 화면/playdata/ice/eclipse/Devils_Project/dataWork/resources/db_data.csv')\n",
    "item_num = 9\n",
    "\n",
    "companys = ['11@sample.com', '22@sample.com', '33@sample.com', '44@sample.com', '55@sample.com',\n",
    "            '66@sample.com', '77@sample.com', '88@sample.com', '11@sample.com', '99@sample.com', '100@sample.com']\n",
    "\n",
    "f = open('query.txt', mode='wt', encoding='utf-8')\n",
    "\n",
    "# company_num 나중에 랜덤으로 들어가게 해야함\n",
    "# num 은 1씩 증가해야함\n",
    "for i in range(0, 20):\n",
    "    company_num = int(random.randrange(0, 10))\n",
    "    num = i\n",
    "    query = 'insert into studio(com_id, category_id, name, description, rule, main_img, port_img ,floor) values(' + \\\n",
    "        \"'\"+companys[company_num].replace(\"'\", '\"')+\"',\"+str(item_num)+\",'\"+df['studio_name'][num].replace(\"'\", '\"').replace(\" \", \"_\") + \\\n",
    "        \"','\"+df['description'][num].replace(\"'\", '\"')+\"','\"+df['rule'][num].replace(\"'\", '\"')+\"','\" + \\\n",
    "        str(num)+\"_0_\"+df['studio_name'][num].replace(\"'\", '\"').replace(\" \", \"_\")+\".jpg,\"+str(num)+\"_1_\" + \\\n",
    "        df['studio_name'][num].replace(\"'\", '\"').replace(\" \", \"_\")+\".jpg,\" + \\\n",
    "        str(num)+\"_2_\"+df['studio_name'][num].replace(\"'\", '\"').replace(\" \", \"_\") + \\\n",
    "        \".jpg'\"+\",'\"+str(num)+\"_3_\"+df['studio_name'][num].replace(\"'\", '\"').replace(\" \", \"_\")+\".jpg,\"+str(num)+\"_4_\" + \\\n",
    "        df['studio_name'][num].replace(\"'\", '\"').replace(\" \", \"_\")+\".jpg,\" + \\\n",
    "        str(num)+\"_5_\"+df['studio_name'][num].replace(\"'\", '\"').replace(\" \", \"_\") + \\\n",
    "        \".jpg'\"+\",\"+str(df['floor'][num])+\"); \\n\\n\"\n",
    "\n",
    "    f.write(query)\n",
    "\n",
    "\n",
    "f.close()"
   ]
  },
  {
   "cell_type": "code",
   "execution_count": 5,
   "metadata": {},
   "outputs": [],
   "source": [
    "import pandas as pd\n",
    "import random\n",
    "df = pd.read_csv(\n",
    "    'C:/바탕 화면/playdata/ice/eclipse/Devils_Project/dataWork/resources/db_data.csv')\n",
    "item_num = 9\n",
    "\n",
    "companys = ['11@sample.com', '22@sample.com', '33@sample.com', '44@sample.com', '55@sample.com',\n",
    "            '66@sample.com', '77@sample.com', '88@sample.com', '11@sample.com', '99@sample.com', '100@sample.com']\n",
    "\n",
    "f = open('query.txt', mode='wt', encoding='utf-8')\n",
    "\n",
    "# company_num 나중에 랜덤으로 들어가게 해야함\n",
    "# num 은 1씩 증가해야함\n",
    "for i in range(0, 20):\n",
    "    company_num = int(random.randrange(0, 10))\n",
    "    num = i\n",
    "    query = 'update studio SET (com_id, category_id, name, description, rule, main_img, port_img ,floor) =(' + \\\n",
    "        \"'\"+companys[company_num].replace(\"'\", '\"')+\"',\"+str(item_num)+\",'\"+df['studio_name'][num].replace(\"'\", '\"').replace(\" \", \"_\") + \\\n",
    "        \"','\"+df['description'][num].replace(\"'\", '\"')+\"','\"+df['rule'][num].replace(\"'\", '\"')+\"','\" + \\\n",
    "        str(num)+\"_0_\"+df['studio_name'][num].replace(\"'\", '\"').replace(\" \", \"_\")+\".jpg,\"+str(num)+\"_1_\" + \\\n",
    "        df['studio_name'][num].replace(\"'\", '\"').replace(\" \", \"_\")+\".jpg,\" + \\\n",
    "        str(num)+\"_2_\"+df['studio_name'][num].replace(\"'\", '\"').replace(\" \", \"_\") + \\\n",
    "        \".jpg'\"+\",'\"+str(num)+\"_3_\"+df['studio_name'][num].replace(\"'\", '\"').replace(\" \", \"_\")+\".jpg,\"+str(num)+\"_4_\" + \\\n",
    "        df['studio_name'][num].replace(\"'\", '\"').replace(\" \", \"_\")+\".jpg,\" + \\\n",
    "        str(num)+\"_5_\"+df['studio_name'][num].replace(\"'\", '\"').replace(\" \", \"_\") + \\\n",
    "        \".jpg'\"+\",\"+str(df['floor'][num])+\" WHERE stu_id); \\n\\n\"\n",
    "\n",
    "    f.write(query)\n",
    "\n",
    "\n",
    "f.close()"
   ]
  },
  {
   "cell_type": "code",
   "execution_count": null,
   "metadata": {
    "scrolled": true
   },
   "outputs": [],
   "source": []
  },
  {
   "cell_type": "code",
   "execution_count": null,
   "metadata": {},
   "outputs": [],
   "source": []
  }
 ],
 "metadata": {
  "kernelspec": {
   "display_name": "Python 3",
   "language": "python",
   "name": "python3"
  },
  "language_info": {
   "codemirror_mode": {
    "name": "ipython",
    "version": 3
   },
   "file_extension": ".py",
   "mimetype": "text/x-python",
   "name": "python",
   "nbconvert_exporter": "python",
   "pygments_lexer": "ipython3",
   "version": "3.7.7"
  }
 },
 "nbformat": 4,
 "nbformat_minor": 4
}
