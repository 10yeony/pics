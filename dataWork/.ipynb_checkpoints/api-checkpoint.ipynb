{
 "cells": [
  {
   "cell_type": "code",
   "execution_count": 5,
   "metadata": {},
   "outputs": [
    {
     "name": "stdout",
     "output_type": "stream",
     "text": [
      " * Serving Flask app \"__main__\" (lazy loading)\n",
      " * Environment: production\n",
      "   WARNING: This is a development server. Do not use it in a production deployment.\n",
      "   Use a production WSGI server instead.\n",
      " * Debug mode: off\n"
     ]
    },
    {
     "name": "stderr",
     "output_type": "stream",
     "text": [
      " * Running on http://127.0.0.1:5000/ (Press CTRL+C to quit)\n",
      "127.0.0.1 - - [15/Sep/2020 19:05:15] \"\u001b[37mGET /recommend HTTP/1.1\u001b[0m\" 200 -\n",
      "127.0.0.1 - - [15/Sep/2020 19:05:15] \"\u001b[37mGET /recommend/10 HTTP/1.1\u001b[0m\" 200 -\n",
      "127.0.0.1 - - [15/Sep/2020 19:05:45] \"\u001b[37mGET /recommend HTTP/1.1\u001b[0m\" 200 -\n",
      "127.0.0.1 - - [15/Sep/2020 19:06:04] \"\u001b[37mGET /recommend HTTP/1.1\u001b[0m\" 200 -\n",
      "127.0.0.1 - - [15/Sep/2020 19:06:04] \"\u001b[37mGET /recommend/10 HTTP/1.1\u001b[0m\" 200 -\n",
      "127.0.0.1 - - [15/Sep/2020 19:06:17] \"\u001b[37mGET /recommend/10 HTTP/1.1\u001b[0m\" 200 -\n",
      "127.0.0.1 - - [15/Sep/2020 19:06:18] \"\u001b[37mGET /recommend HTTP/1.1\u001b[0m\" 200 -\n",
      "127.0.0.1 - - [15/Sep/2020 19:39:06] \"\u001b[37mGET /recommend HTTP/1.1\u001b[0m\" 200 -\n",
      "127.0.0.1 - - [15/Sep/2020 19:39:06] \"\u001b[37mGET /recommend/10 HTTP/1.1\u001b[0m\" 200 -\n"
     ]
    }
   ],
   "source": [
    "# 서버를 위한 import\n",
    "from flask import Flask, request, jsonify\n",
    "from flask_cors import CORS\n",
    "from flask_restful import Resource, Api\n",
    "\n",
    "# 다른 component import\n",
    "# from controller import data_controller as dc\n",
    "from controller import reco_controller as rc\n",
    "\n",
    "app = Flask(__name__, instance_relative_config=True)\n",
    "cors = CORS(app, resources={r'*': {'origins': '*'}})\n",
    "\n",
    "# @app.route(\"/predict\", methods = ['POST'])\n",
    "# def predict():\n",
    "#     if request.method == 'POST':\n",
    "#         img = request.files[\"image\"]\n",
    "#         result = dc.predict(img, app.instance_path)\n",
    "#         return result\n",
    "    \n",
    "@app.route(\"/recommend/<cust_id>\", methods = ['GET'])\n",
    "def main_recommend(cust_id):\n",
    "    if request.method == 'GET':\n",
    "        result = rc.get_reco_studios(int(cust_id),app.instance_path[:-9])\n",
    "        return jsonify(result)\n",
    "\n",
    "@app.route(\"/recommend\", methods = ['GET'])\n",
    "def rank_recommend():\n",
    "    if request.method == 'GET':\n",
    "        result = rc.get_ranked_studios()\n",
    "        return jsonify(result)\n",
    "    \n",
    "\n",
    "# 서버 정보(as properties)\n",
    "if __name__ == \"__main__\":              \n",
    "    app.run(host=\"127.0.0.1\", port=\"5000\")"
   ]
  },
  {
   "cell_type": "code",
   "execution_count": null,
   "metadata": {},
   "outputs": [],
   "source": [
    "print(app.instance_path[:-9])"
   ]
  }
 ],
 "metadata": {
  "kernelspec": {
   "display_name": "Python 3",
   "language": "python",
   "name": "python3"
  },
  "language_info": {
   "codemirror_mode": {
    "name": "ipython",
    "version": 3
   },
   "file_extension": ".py",
   "mimetype": "text/x-python",
   "name": "python",
   "nbconvert_exporter": "python",
   "pygments_lexer": "ipython3",
   "version": "3.7.7"
  }
 },
 "nbformat": 4,
 "nbformat_minor": 4
}
