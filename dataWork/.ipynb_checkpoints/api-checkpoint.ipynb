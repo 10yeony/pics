{
 "cells": [
  {
   "cell_type": "code",
   "execution_count": null,
   "metadata": {},
   "outputs": [
    {
     "name": "stdout",
     "output_type": "stream",
     "text": [
      " * Serving Flask app \"__main__\" (lazy loading)\n",
      " * Environment: production\n",
      "   WARNING: This is a development server. Do not use it in a production deployment.\n",
      "   Use a production WSGI server instead.\n",
      " * Debug mode: off\n"
     ]
    },
    {
     "name": "stderr",
     "output_type": "stream",
     "text": [
      " * Running on http://127.0.0.1:5000/ (Press CTRL+C to quit)\n",
      "127.0.0.1 - - [21/Sep/2020 22:31:02] \"\u001b[33mGET / HTTP/1.1\u001b[0m\" 404 -\n",
      "127.0.0.1 - - [21/Sep/2020 22:31:03] \"\u001b[33mGET /favicon.ico HTTP/1.1\u001b[0m\" 404 -\n",
      "127.0.0.1 - - [21/Sep/2020 22:31:07] \"\u001b[37mGET /recommend HTTP/1.1\u001b[0m\" 200 -\n"
     ]
    },
    {
     "name": "stdout",
     "output_type": "stream",
     "text": [
      "Connection opened successfully.\n",
      "Database connection closed.\n"
     ]
    },
    {
     "name": "stderr",
     "output_type": "stream",
     "text": [
      "[2020-09-21 22:31:10,691] ERROR in app: Exception on /tag/10 [GET]\n",
      "Traceback (most recent call last):\n",
      "  File \"C:\\anaconda3\\lib\\site-packages\\flask\\app.py\", line 2447, in wsgi_app\n",
      "    response = self.full_dispatch_request()\n",
      "  File \"C:\\anaconda3\\lib\\site-packages\\flask\\app.py\", line 1952, in full_dispatch_request\n",
      "    rv = self.handle_user_exception(e)\n",
      "  File \"C:\\anaconda3\\lib\\site-packages\\flask_cors\\extension.py\", line 165, in wrapped_function\n",
      "    return cors_after_request(app.make_response(f(*args, **kwargs)))\n",
      "  File \"C:\\anaconda3\\lib\\site-packages\\flask\\app.py\", line 1821, in handle_user_exception\n",
      "    reraise(exc_type, exc_value, tb)\n",
      "  File \"C:\\anaconda3\\lib\\site-packages\\flask\\_compat.py\", line 39, in reraise\n",
      "    raise value\n",
      "  File \"C:\\anaconda3\\lib\\site-packages\\flask\\app.py\", line 1950, in full_dispatch_request\n",
      "    rv = self.dispatch_request()\n",
      "  File \"C:\\anaconda3\\lib\\site-packages\\flask\\app.py\", line 1936, in dispatch_request\n",
      "    return self.view_functions[rule.endpoint](**req.view_args)\n",
      "  File \"<ipython-input-1-afc9850cb757>\", line 42, in sim_tag\n",
      "    result = tc.tagData(int(stuId))\n",
      "NameError: name 'tc' is not defined\n",
      "127.0.0.1 - - [21/Sep/2020 22:31:10] \"\u001b[35m\u001b[1mGET /tag/10 HTTP/1.1\u001b[0m\" 500 -\n",
      "[2020-09-21 22:31:12,435] ERROR in app: Exception on /tag/15 [GET]\n",
      "Traceback (most recent call last):\n",
      "  File \"C:\\anaconda3\\lib\\site-packages\\flask\\app.py\", line 2447, in wsgi_app\n",
      "    response = self.full_dispatch_request()\n",
      "  File \"C:\\anaconda3\\lib\\site-packages\\flask\\app.py\", line 1952, in full_dispatch_request\n",
      "    rv = self.handle_user_exception(e)\n",
      "  File \"C:\\anaconda3\\lib\\site-packages\\flask_cors\\extension.py\", line 165, in wrapped_function\n",
      "    return cors_after_request(app.make_response(f(*args, **kwargs)))\n",
      "  File \"C:\\anaconda3\\lib\\site-packages\\flask\\app.py\", line 1821, in handle_user_exception\n",
      "    reraise(exc_type, exc_value, tb)\n",
      "  File \"C:\\anaconda3\\lib\\site-packages\\flask\\_compat.py\", line 39, in reraise\n",
      "    raise value\n",
      "  File \"C:\\anaconda3\\lib\\site-packages\\flask\\app.py\", line 1950, in full_dispatch_request\n",
      "    rv = self.dispatch_request()\n",
      "  File \"C:\\anaconda3\\lib\\site-packages\\flask\\app.py\", line 1936, in dispatch_request\n",
      "    return self.view_functions[rule.endpoint](**req.view_args)\n",
      "  File \"<ipython-input-1-afc9850cb757>\", line 42, in sim_tag\n",
      "    result = tc.tagData(int(stuId))\n",
      "NameError: name 'tc' is not defined\n",
      "127.0.0.1 - - [21/Sep/2020 22:31:12] \"\u001b[35m\u001b[1mGET /tag/15 HTTP/1.1\u001b[0m\" 500 -\n",
      "[2020-09-21 22:31:17,515] ERROR in app: Exception on /tag/11 [GET]\n",
      "Traceback (most recent call last):\n",
      "  File \"C:\\anaconda3\\lib\\site-packages\\flask\\app.py\", line 2447, in wsgi_app\n",
      "    response = self.full_dispatch_request()\n",
      "  File \"C:\\anaconda3\\lib\\site-packages\\flask\\app.py\", line 1952, in full_dispatch_request\n",
      "    rv = self.handle_user_exception(e)\n",
      "  File \"C:\\anaconda3\\lib\\site-packages\\flask_cors\\extension.py\", line 165, in wrapped_function\n",
      "    return cors_after_request(app.make_response(f(*args, **kwargs)))\n",
      "  File \"C:\\anaconda3\\lib\\site-packages\\flask\\app.py\", line 1821, in handle_user_exception\n",
      "    reraise(exc_type, exc_value, tb)\n",
      "  File \"C:\\anaconda3\\lib\\site-packages\\flask\\_compat.py\", line 39, in reraise\n",
      "    raise value\n",
      "  File \"C:\\anaconda3\\lib\\site-packages\\flask\\app.py\", line 1950, in full_dispatch_request\n",
      "    rv = self.dispatch_request()\n",
      "  File \"C:\\anaconda3\\lib\\site-packages\\flask\\app.py\", line 1936, in dispatch_request\n",
      "    return self.view_functions[rule.endpoint](**req.view_args)\n",
      "  File \"<ipython-input-1-afc9850cb757>\", line 42, in sim_tag\n",
      "    result = tc.tagData(int(stuId))\n",
      "NameError: name 'tc' is not defined\n",
      "127.0.0.1 - - [21/Sep/2020 22:31:17] \"\u001b[35m\u001b[1mGET /tag/11 HTTP/1.1\u001b[0m\" 500 -\n"
     ]
    }
   ],
   "source": [
    "# 서버를 위한 import\n",
    "from flask import Flask, request, jsonify, send_from_directory\n",
    "from flask_cors import CORS\n",
    "from flask_restful import Resource, Api\n",
    "from dao.reco_dao import get_reco_studio, get_ranked_studio\n",
    "\n",
    "# 다른 component import\n",
    "# from controller import data_controller as dc\n",
    "from controller import reco_controller as rc\n",
    "from controller import tag_count_controller as tc\n",
    "from controller import image_search_controller as ic\n",
    "\n",
    "import os\n",
    "\n",
    "app = Flask(__name__, instance_relative_config=True)\n",
    "cors = CORS(app, resources={r'*': {'origins': '*'}})\n",
    "\n",
    "@app.route(\"/imageSearch\", methods = ['POST'])\n",
    "def image_search():\n",
    "    if request.method == 'POST':\n",
    "        img = request.files[\"image\"]\n",
    "        print(img)\n",
    "        result = ic.get_stuIds_by_img(img, app.instance_path[:-18])\n",
    "        print(result)\n",
    "        return jsonify(result)\n",
    "    \n",
    "@app.route(\"/recommend/<cust_id>\", methods = ['GET'])\n",
    "def main_recommend(cust_id):\n",
    "    if request.method == 'GET':\n",
    "        result = rc.get_reco_studios(int(cust_id),app.instance_path[:-9])\n",
    "        return jsonify(result)\n",
    "\n",
    "@app.route(\"/recommend\", methods = ['GET'])\n",
    "def rank_recommend():\n",
    "    if request.method == 'GET':\n",
    "        result = rc.get_ranked_studios()\n",
    "        return jsonify(result)\n",
    "        \n",
    "@app.route(\"/tag/<stuId>\", methods = ['GET'])\n",
    "def sim_tag(stuId):\n",
    "    if request.method == 'GET':\n",
    "        result = tc.tagCount(int(stuId))\n",
    "    return jsonify(result)\n",
    "# 서버 정보(as properties)\n",
    "if __name__ == \"__main__\":              \n",
    "    app.run(host=\"127.0.0.1\", port=\"5000\")"
   ]
  }
 ],
 "metadata": {
  "kernelspec": {
   "display_name": "Python 3",
   "language": "python",
   "name": "python3"
  },
  "language_info": {
   "codemirror_mode": {
    "name": "ipython",
    "version": 3
   },
   "file_extension": ".py",
   "mimetype": "text/x-python",
   "name": "python",
   "nbconvert_exporter": "python",
   "pygments_lexer": "ipython3",
   "version": "3.7.7"
  }
 },
 "nbformat": 4,
 "nbformat_minor": 4
}
