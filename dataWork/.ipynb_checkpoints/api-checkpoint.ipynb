{
 "cells": [
  {
   "cell_type": "code",
   "execution_count": null,
   "metadata": {},
   "outputs": [],
   "source": [
    "##### 서버를 위한 import\n",
    "from flask import Flask, request, jsonify, send_from_directory\n",
    "from flask_cors import CORS\n",
    "from flask_restful import Resource, Api\n",
    "from dao.reco_dao import get_reco_studio, get_ranked_studio\n",
    "\n",
    "# 다른 component import\n",
    "# from controller import data_controller as dc\n",
    "from controller import reco_controller as rc\n",
    "from controller import tag_data_controller as td\n",
    "from controller import tag_count_controller as tc\n",
    "\n",
    "app = Flask(__name__, instance_relative_config=True)\n",
    "cors = CORS(app, resources={r'*': {'origins': '*'}})\n",
    "\n",
    "# @app.route(\"/predict\", methods = ['POST'])\n",
    "# def predict():\n",
    "#     if request.method == 'POST':\n",
    "#         img = request.files[\"image\"]\n",
    "#         result = dc.predict(img, app.instance_path)\n",
    "#         return result\n",
    "    \n",
    "@app.route(\"/recommend/<cust_id>\", methods = ['GET'])\n",
    "def main_recommend(cust_id):\n",
    "    if request.method == 'GET':\n",
    "        result = rc.get_reco_studios(int(cust_id),app.instance_path[:-9])\n",
    "        return jsonify(result)\n",
    "\n",
    "@app.route(\"/recommend\", methods = ['GET'])\n",
    "def rank_recommend():\n",
    "    if request.method == 'GET':\n",
    "        result = rc.get_ranked_studios()\n",
    "        return jsonify(result)\n",
    "\n",
    "@app.route(\"/tag/<stuId>\", methods = ['GET'])\n",
    "def tag_count(stuId):\n",
    "    if request.method == 'GET':\n",
    "        result = tc.tagCount(int(stuId))\n",
    "    return jsonify(result)\n",
    "\n",
    "# 서버 정보(as properties)\n",
    "if __name__ == \"__main__\":\n",
    "    app.run(host=\"127.0.0.1\", port=\"5000\")\n",
    "    td.tagData().start()"
   ]
  },
  {
   "cell_type": "code",
   "execution_count": null,
   "metadata": {},
   "outputs": [],
   "source": [
    "# pip install gensim"
   ]
  },
  {
   "cell_type": "code",
   "execution_count": null,
   "metadata": {},
   "outputs": [],
   "source": []
  }
 ],
 "metadata": {
  "kernelspec": {
   "display_name": "Python 3",
   "language": "python",
   "name": "python3"
  },
  "language_info": {
   "codemirror_mode": {
    "name": "ipython",
    "version": 3
   },
   "file_extension": ".py",
   "mimetype": "text/x-python",
   "name": "python",
   "nbconvert_exporter": "python",
   "pygments_lexer": "ipython3",
   "version": "3.7.7"
  }
 },
 "nbformat": 4,
 "nbformat_minor": 4
}
