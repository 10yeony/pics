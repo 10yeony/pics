{
 "cells": [
  {
   "cell_type": "code",
   "execution_count": 1,
   "metadata": {},
   "outputs": [],
   "source": [
    "# 데이터 핸들링 프레임\n",
    "import numpy as np \n",
    "import pandas as pd\n",
    "from pandas import DataFrame as df\n",
    "import csv\n",
    "import os\n",
    "import sys"
   ]
  },
  {
   "cell_type": "code",
   "execution_count": 160,
   "metadata": {},
   "outputs": [],
   "source": [
    "# dataset = pd.read_csv(\"total_dataset_trim_newExtendTag.csv\",encoding='utf-8')"
   ]
  },
  {
   "cell_type": "code",
   "execution_count": 194,
   "metadata": {},
   "outputs": [],
   "source": [
    "class getDescTags(dataset):\n",
    "    # 문자열로 저장된 태그 리스트로 변환\n",
    "    def strToList(value):\n",
    "        if type(value)==str:\n",
    "            trimList=value.replace(']','')\n",
    "            trimList=trimList.replace('[','')\n",
    "            trimList=trimList.replace(\"'\",'')\n",
    "            trimList=trimList.split(\",\")\n",
    "            trimList=list(set(trimList))  # 리스트 안에서 중복되는 태그 삭제\n",
    "        else:\n",
    "            trimList=list(set(value))\n",
    "        return trimList\n",
    "\n",
    "    ## dataset 자르고, 유사태그 빈도 세고, 다시 합치기\n",
    "    def tagCount(n,dataset):\n",
    "        target=dataset.iloc[n:n+1]\n",
    "        rest=dataset[dataset.index != n]\n",
    "        #임의로 1개 선택\n",
    "        countKeyword=[]\n",
    "        for i in range(len(dataset)-1):\n",
    "            cnt=0\n",
    "            targetExTagList=strToList(target[\"extend_tag\"].values[0])\n",
    "            restTagExList=strToList(rest.iloc[i][\"extend_tag\"])\n",
    "            targetTag2List=strToList(target[\"new_tag2\"].values[0])\n",
    "            restTag2List=strToList(rest.iloc[i][\"new_tag2\"])\n",
    "            for j in range(len(targetExTagList)):\n",
    "                if targetExTagList[j] in restTagExList:\n",
    "                    cnt+=0.99\n",
    "            for j in range(len(targetTag2List)):\n",
    "                if targetTag2List[j] in restTag2List:\n",
    "                    cnt+=1\n",
    "            cnt=cnt/(len(targetExTagList))\n",
    "            countKeyword.append(cnt)\n",
    "\n",
    "        ## dataset에 열 추가\n",
    "        rest[\"tagCount\"]=countKeyword\n",
    "        target[\"tagCount\"]=0  # target은 아예 안 뜨도록 0으로 처리\n",
    "\n",
    "        dataset=pd.concat([target,rest],ignore_index=True) # 다시 2개 합치기\n",
    "        dataset=dataset.sort_values(by=['tagCount'],ascending=False)\n",
    "\n",
    "        return dataset\n"
   ]
  },
  {
   "cell_type": "code",
   "execution_count": 171,
   "metadata": {},
   "outputs": [
    {
     "name": "stderr",
     "output_type": "stream",
     "text": [
      "C:\\anaconda3\\lib\\site-packages\\ipykernel_launcher.py:35: SettingWithCopyWarning: \n",
      "A value is trying to be set on a copy of a slice from a DataFrame.\n",
      "Try using .loc[row_indexer,col_indexer] = value instead\n",
      "\n",
      "See the caveats in the documentation: https://pandas.pydata.org/pandas-docs/stable/user_guide/indexing.html#returning-a-view-versus-a-copy\n",
      "C:\\anaconda3\\lib\\site-packages\\ipykernel_launcher.py:36: SettingWithCopyWarning: \n",
      "A value is trying to be set on a copy of a slice from a DataFrame.\n",
      "Try using .loc[row_indexer,col_indexer] = value instead\n",
      "\n",
      "See the caveats in the documentation: https://pandas.pydata.org/pandas-docs/stable/user_guide/indexing.html#returning-a-view-versus-a-copy\n"
     ]
    }
   ],
   "source": [
    "dataset=tagCount(891,dataset)"
   ]
  },
  {
   "cell_type": "code",
   "execution_count": 4,
   "metadata": {},
   "outputs": [],
   "source": [
    "# dataset.iloc[890:891]"
   ]
  },
  {
   "cell_type": "code",
   "execution_count": 128,
   "metadata": {},
   "outputs": [],
   "source": [
    "# 유사단어 컬럼 추가한 파일 저장\n",
    "# dataset.to_csv('C:/바탕 화면/playdata/ice/eclipse/Devils_Project/dataWork/controller/total_dataset_trim_newExtendTag_count.csv',\n",
    "#                  sep=',',na_rep='NaN',index =True,encoding='utf-8-sig')"
   ]
  },
  {
   "cell_type": "code",
   "execution_count": null,
   "metadata": {},
   "outputs": [],
   "source": [
    "#### 태그 수 보정\n",
    "# # 문자열로 저장된 태그 리스트로 변환\n",
    "# def strToList(value):\n",
    "#     if type(value)==str:\n",
    "#         trimList=value.replace(']','')\n",
    "#         trimList=trimList.replace('[','')\n",
    "#         trimList=trimList.replace(\"'\",'')\n",
    "#         trimList=trimList.split(\",\")\n",
    "#         trimList=list(set(trimList))  # 리스트 안에서 중복되는 태그 삭제\n",
    "#     else:\n",
    "#         trimList=list(set(value))\n",
    "#     return trimList\n",
    "\n",
    "# ## dataset 자르고, 유사태그 빈도 세고, 다시 합치기\n",
    "# def tagCount(k,dataset):\n",
    "#     target=dataset.iloc[k:k+1]\n",
    "#     rest=dataset[dataset.index != k]\n",
    "#     #임의로 1개 선택\n",
    "#     countKeyword=[]\n",
    "#     for i in range(len(dataset)-1):\n",
    "#         cnt=0\n",
    "#         targetExTagList=strToList(target[\"extend_tag\"].values[0])\n",
    "#         restTagExList=strToList(rest.iloc[i][\"extend_tag\"])\n",
    "#         targetTag2List=strToList(target[\"new_tag2\"].values[0])\n",
    "#         restTag2List=strToList(rest.iloc[i][\"new_tag2\"])\n",
    "#         restTagSimList=strToList(rest.iloc[i][\"extend_tag_sim\"])\n",
    "#         for j in range(len(targetExTagList)):\n",
    "#             for k in range(len(restTagExList)):\n",
    "#                 if (targetExTagList[j] == restTagExList[k]):\n",
    "#                     cnt+=restTagSimList[k]\n",
    "#         for j in range(len(restTagExList)):\n",
    "#             if targetTag2List[j] in restTagExList[k]:\n",
    "#                 cnt+=restTagSimList[k]\n",
    "#         countKeyword.append(cnt)\n",
    "    \n",
    "#     ## dataset에 열 추가\n",
    "#     rest[\"tagCount\"]=countKeyword\n",
    "#     target[\"tagCount\"]=0  # target은 아예 안 뜨도록 0으로 처리\n",
    "    \n",
    "#     dataset=pd.concat([target,rest],ignore_index=True) # 다시 2개 합치기\n",
    "#     dataset=dataset.sort_values(by=['tagCount'],ascending=False)\n",
    "    \n",
    "#     return dataset\n"
   ]
  },
  {
   "cell_type": "code",
   "execution_count": 189,
   "metadata": {},
   "outputs": [],
   "source": []
  },
  {
   "cell_type": "code",
   "execution_count": null,
   "metadata": {},
   "outputs": [],
   "source": []
  },
  {
   "cell_type": "code",
   "execution_count": null,
   "metadata": {},
   "outputs": [],
   "source": []
  },
  {
   "cell_type": "code",
   "execution_count": null,
   "metadata": {},
   "outputs": [],
   "source": []
  }
 ],
 "metadata": {
  "kernelspec": {
   "display_name": "Python 3",
   "language": "python",
   "name": "python3"
  },
  "language_info": {
   "codemirror_mode": {
    "name": "ipython",
    "version": 3
   },
   "file_extension": ".py",
   "mimetype": "text/x-python",
   "name": "python",
   "nbconvert_exporter": "python",
   "pygments_lexer": "ipython3",
   "version": "3.7.7"
  }
 },
 "nbformat": 4,
 "nbformat_minor": 4
}
