{
 "cells": [
  {
   "cell_type": "markdown",
   "metadata": {},
   "source": [
    "## 자연어 처리기로 데이터 셋 만들기"
   ]
  },
  {
   "cell_type": "code",
   "execution_count": 2,
   "metadata": {},
   "outputs": [],
   "source": [
    "# 데이터 핸들링 프레임\n",
    "import numpy as np \n",
    "import pandas as pd\n",
    "from pandas import DataFrame as df\n",
    "import csv\n",
    "import os\n",
    "import sys\n",
    "\n",
    "# 자연어 처리기\n",
    "from konlpy.tag import Okt\n",
    "from collections import Counter"
   ]
  },
  {
   "cell_type": "code",
   "execution_count": 14,
   "metadata": {},
   "outputs": [],
   "source": [
    "# 데이터 전처리 모델\n",
    "# 1) description 다듬기 : 데이터 정규화, 맥락 위주로 자르고 명사/형용사만 가져오기\n",
    "# 글자길이는 1 자 이산 , 불용어 제외\n",
    "def getDescList(dataset):\n",
    "        n=len(dataset)\n",
    "        okt=Okt()\n",
    "        descList=[]\n",
    "        stop_words=[\"문의\",\"가능\",\"가능합니다\",\"요일\",\"운영\",\"마감\",\"요일\",\"시간\",\n",
    "                    \"습니다\",\"주세요\",\"입니다\",\"있는\",\"메일\",\"또는\",\n",
    "                    \"아주\",\"필요합니다\",\"저희\",\"일요일\",\"주말\",\"토요일\",\"가능하며\",\n",
    "                    \"있습니다\",\"적합합니다\",\"대여\",\"좋겠습니다\",\"무인\",\"부터\",\n",
    "                    \"또한\",\"안녕하세요\",\"마다\",\"매우\",\"어렵습니다\",\"좋습니다\",\n",
    "                    \"좋아요\",\"있어서\",\"있어요\",\"조금\",\"한번\",\"까지\",\"전화\",\n",
    "                    \"평수\",\"언제\",\"아닌\",\"대관\",\"관련\",\"다수\",\"연락\",\"무료\",\n",
    "                    \"원하실\",\"셀프\",\"이용\",\"오전\",\"오후\",\"없는\",\n",
    "                    \"각종\",\"원하시는\",\"말씀\",\"거나\",\"있으니\",\"있어\",\"별도\",\n",
    "                    \"가능하구요\",\"있으며\",\"발렛\",\"발렛주차\",\"직접\",\n",
    "                    \"가능해서\",\"없어서\",\"없습니다\",\"있구요\",\"부탁드려요\",\n",
    "                    \"부탁\",\"부탁합니다\",\"없으셔도\",\"부탁드립니다\",\n",
    "                    \"경우\",\"발렛요금\",\"주시\",\"주시면\",\"더욱더\",\"거의\",\"조율\",\n",
    "                    \"최대\",\"최소한\",\"원하는\",\"위치\",\"최대한\",\"원하시면\",\n",
    "                    \"원하시는\",\"가능하세요\",\"아니라\",\"원하신다면\",\n",
    "                    \"위해\",\"화장실\",\"직원\"]\n",
    "        stop_words=list(set(stop_words))\n",
    "        \n",
    "        for i in range(n):\n",
    "            tempList=[]\n",
    "            descript=(dataset.loc[i,\"description\"]) # 한글자 이상만 뽑음\n",
    "            descript=descript.replace(\"\\n\",\"\")\n",
    "            descript=descript.replace(\"\\r\",\"\")\n",
    "            descript=descript.replace(\"[^ㄱ-ㅎㅏ-ㅣ가-힣AZ09]\",\"\")\n",
    "            tempList=[j[0] for j in okt.pos(descript)\n",
    "                       if((len(j[0])>1)\n",
    "                          &((j[1]==\"Adjective\")|(j[1]==\"Noun\"))\n",
    "                          &(j[0] not in stop_words))]\n",
    "            tempList=list(set(tempList))\n",
    "            descList.append(tempList)\n",
    "        return descList"
   ]
  },
  {
   "cell_type": "code",
   "execution_count": 17,
   "metadata": {
    "scrolled": true
   },
   "outputs": [],
   "source": [
    "# import sys\n",
    "# sys.path.append('..')\n",
    "# from dao import tag_dao\n",
    "\n",
    "# dataset = tag_dao.getTagData()\n",
    "# dataset[\"description\"].fillna(\"\",inplace=True)\n",
    "\n",
    "# CoreTagData1=getCoreTags1(dataset)\n"
   ]
  },
  {
   "cell_type": "code",
   "execution_count": 16,
   "metadata": {},
   "outputs": [],
   "source": []
  },
  {
   "cell_type": "code",
   "execution_count": 4,
   "metadata": {},
   "outputs": [],
   "source": [
    "## 2) Tag 다듬기 : 복합명사로 이루어진 태그는 잘라서 길이 2~7 사이의 단어만 추출\n",
    "def getTagList(dataset):\n",
    "    n=len(dataset)\n",
    "    parseTagList=[]\n",
    "    okt=Okt()\n",
    "    for i in range(n):\n",
    "        tempTagList=[]\n",
    "        value=dataset.loc[i,\"tag_name\"]\n",
    "        if type(value)==str:\n",
    "            trimList=value.replace(']','')\n",
    "            trimList=trimList.replace('[','')\n",
    "            trimList=trimList.replace(\"'\",'')\n",
    "            if len(trimList)>0:\n",
    "                trimList=trimList.split(\",\")\n",
    "            trimList=list(set(trimList))  # 리스트 안에서 중복되는 태그 삭제\n",
    "        else:\n",
    "            trimList=list(set(value))\n",
    "        tags=trimList # 태그별로 자르기\n",
    "        for tag in tags:\n",
    "            if len(tag)>1:\n",
    "                okt.pos(tag)  # 1개 태그 내 복합 명사 자르기\n",
    "                for j in okt.nouns(tag):\n",
    "                    if(len(j)>=2):\n",
    "                        tempTagList.append(j)\n",
    "        tempTagList=list(set(tempTagList))\n",
    "        parseTagList.append(tempTagList)\n",
    "    return parseTagList"
   ]
  },
  {
   "cell_type": "code",
   "execution_count": 5,
   "metadata": {},
   "outputs": [],
   "source": [
    "## 3-1) 코어 태그 추출 (태그, description 합집합)\n",
    "def getCoreTags1(dataset):\n",
    "    n=len(dataset)\n",
    "    coreTagList1=[]\n",
    "    okt=Okt()    \n",
    "    coreTag=[]\n",
    "    descript=getDescList(dataset) # 한글자 이상만 뽑음\n",
    "    tags=getTagList(dataset)  # tag를 한번 더 파싱\n",
    "    for i in range(len(descript)): \n",
    "        if (len(tags[i])>0): \n",
    "            coreTag.append(tags[i]+descript[i])\n",
    "        else:\n",
    "            coreTag.append(descript[i])\n",
    "    coreTagList1.append(coreTag)\n",
    "    CoreTagData1=coreTagList1\n",
    "    CoreTagData1=CoreTagData1[0]\n",
    "    return CoreTagData1"
   ]
  },
  {
   "cell_type": "code",
   "execution_count": 6,
   "metadata": {},
   "outputs": [],
   "source": [
    "## 3-2) 코어 태그 추출 (부분적으로 기존 태그 + description + coreTag )\n",
    "def getCoreTags2(dataset):\n",
    "    n=len(dataset)\n",
    "    coreTagList=[]\n",
    "    okt=Okt()    \n",
    "    descript=getDescList(dataset) # 한글자 이상만 뽑음\n",
    "    tags=getTagList(dataset)  # tag를 한번 더 파싱\n",
    "    for k in range(len(descript)):\n",
    "        coreTags=[]\n",
    "        for t in range(len(tags[k])):\n",
    "            if (len(tags[k][t])>0) and (tags[k][t] in descript[k]): # 태그가 description 단어에도 있는지 확인\n",
    "                coreTags.append(tags[k][t])\n",
    "        if (len(tags[k])<=3): # 태그 수가 없으면 디스크립션으로\n",
    "            coreTagList.append(list(set(descript[k])))\n",
    "        elif((len(coreTags)<=3)and(len(tags[k])>3)):# desc와 일치하는 태그(coreTag)가 적은데 기존 태그(tags[k])많으면 기존 태그 사용\n",
    "            coreTagList.append(tags[k])\n",
    "        elif(len(coreTags)>3): # 디스크립션과 일치하는 태그가 많으면 일치태그 사용\n",
    "            coreTagList.append(coreTags)\n",
    "        else:\n",
    "            coreTagList.append(list(set(descript[k]))) \n",
    "    return coreTagList"
   ]
  },
  {
   "cell_type": "code",
   "execution_count": 7,
   "metadata": {},
   "outputs": [],
   "source": [
    "# Tag2 데이터 보정 : Tag1의 데이터 갖다쓰기\n",
    "def fillCoreTag(CoreTagData1,CoreTagData2,model):\n",
    "    for i in range(len(CoreTagData2)):\n",
    "        if len(CoreTagData2[i])<1:\n",
    "            CoreTagData2[i]=(CoreTagData1[i])\n",
    "\n",
    "    for i in range(len(CoreTagData2)):\n",
    "        CoreTagData2[i]=list(set(CoreTagData2[i]))\n",
    "        CoreTagData1[i]=list(set(CoreTagData1[i]))\n",
    "    \n",
    "    ## dataset에 키워드 삽입\n",
    "    dataset[\"new_tag1\"]=CoreTagData1\n",
    "    dataset[\"new_tag2\"]=CoreTagData2\n",
    "    return dataset "
   ]
  },
  {
   "cell_type": "code",
   "execution_count": null,
   "metadata": {},
   "outputs": [],
   "source": []
  },
  {
   "cell_type": "code",
   "execution_count": 73,
   "metadata": {},
   "outputs": [],
   "source": []
  },
  {
   "cell_type": "code",
   "execution_count": null,
   "metadata": {},
   "outputs": [],
   "source": []
  }
 ],
 "metadata": {
  "kernelspec": {
   "display_name": "Python 3",
   "language": "python",
   "name": "python3"
  },
  "language_info": {
   "codemirror_mode": {
    "name": "ipython",
    "version": 3
   },
   "file_extension": ".py",
   "mimetype": "text/x-python",
   "name": "python",
   "nbconvert_exporter": "python",
   "pygments_lexer": "ipython3",
   "version": "3.7.7"
  }
 },
 "nbformat": 4,
 "nbformat_minor": 4
}
