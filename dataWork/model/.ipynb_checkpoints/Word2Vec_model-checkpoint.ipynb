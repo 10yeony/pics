{
 "cells": [
  {
   "cell_type": "markdown",
   "metadata": {},
   "source": [
    "## 모델 가동, 그 결과를 새로운 태그로 (extend_tag) 컬럼으로 저장"
   ]
  },
  {
   "cell_type": "code",
   "execution_count": null,
   "metadata": {},
   "outputs": [],
   "source": [
    "# word2Vec\n",
    "import numpy as np \n",
    "import pandas as pd\n",
    "from pandas import DataFrame as df\n",
    "import os\n",
    "\n",
    "import gensim \n",
    "from gensim.models import word2vec"
   ]
  },
  {
   "cell_type": "code",
   "execution_count": 2,
   "metadata": {},
   "outputs": [],
   "source": [
    "def wordVec(CoreTagData1):\n",
    "    num_features =350    # Word vector dimensionality                      \n",
    "    min_word_count =2   # Minimum word count                        \n",
    "    num_workers = 2     # Number of threads to run in parallel\n",
    "    context = 4          # Context window size                                                                                    \n",
    "    downsampling = 1e-3  # Downsample setting for frequent words\n",
    "    dataset1=dataset\n",
    "\n",
    "    model = gensim.models.Word2Vec(CoreTagData1, workers=num_workers, \n",
    "                              size=num_features, min_count = min_word_count,\n",
    "                              window = context, sample = downsampling)\n",
    "    return model \n",
    "# model=wordVec(CoreTagData1)"
   ]
  },
  {
   "cell_type": "code",
   "execution_count": null,
   "metadata": {},
   "outputs": [],
   "source": [
    "def extendTag(CoreTagData2,model):\n",
    "    vocab=model.wv.vocab\n",
    "    extendTagList=[]\n",
    "    extendTagSimList=[]\n",
    "    for i in range(len(CoreTagData2)):\n",
    "        tags=[]\n",
    "        tagsSim=[]\n",
    "        for j in range(len(CoreTagData2[i])):\n",
    "            if((len(CoreTagData2[i])>25)):\n",
    "                tags.append(CoreTagData2[i][j])\n",
    "                tagsSim.append(0)\n",
    "            if((CoreTagData2[i][j] in vocab.keys())&(len(CoreTagData2[i])>12)):\n",
    "                for k in range(1):\n",
    "                    tags.append(model.wv.most_similar(CoreTagData2[i][j],topn=1)[k][0])\n",
    "                    tagsSim.append(model.wv.most_similar(CoreTagData2[i][j],topn=1)[k][1])\n",
    "            elif((CoreTagData2[i][j] in vocab.keys())&(len(CoreTagData2[i])>5)):\n",
    "                for k in range(3):\n",
    "                    tags.append(model.wv.most_similar(CoreTagData2[i][j],topn=3)[k][0])\n",
    "                    tagsSim.append(model.wv.most_similar(CoreTagData2[i][j],topn=3)[k][1])\n",
    "            elif((CoreTagData2[i][j] in vocab.keys())&(len(CoreTagData2[i])<=4)):\n",
    "                for k in range(4):\n",
    "                    tags.append(model.wv.most_similar(CoreTagData2[i][j],topn=4)[k][0])                    \n",
    "                    tagsSim.append(model.wv.most_similar(CoreTagData2[i][j],topn=4)[k][1])\n",
    "        extendTagList.append(tags)\n",
    "        extendTagSimList.append(tagsSim) \n",
    "    dataset[\"extend_tag\"]=extendTagList\n",
    "    dataset[\"extend_tag_sim\"]=extendTagSimList\n",
    "    \n",
    "    return dataset\n",
    "# dataset=extendTag(CoreTagData2)"
   ]
  }
 ],
 "metadata": {
  "kernelspec": {
   "display_name": "Python 3",
   "language": "python",
   "name": "python3"
  },
  "language_info": {
   "codemirror_mode": {
    "name": "ipython",
    "version": 3
   },
   "file_extension": ".py",
   "mimetype": "text/x-python",
   "name": "python",
   "nbconvert_exporter": "python",
   "pygments_lexer": "ipython3",
   "version": "3.7.7"
  }
 },
 "nbformat": 4,
 "nbformat_minor": 4
}
