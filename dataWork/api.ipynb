{
 "cells": [
  {
   "cell_type": "code",
   "execution_count": null,
   "metadata": {},
   "outputs": [
    {
     "name": "stdout",
     "output_type": "stream",
     "text": [
      " * Serving Flask app \"__main__\" (lazy loading)\n",
      " * Environment: production\n",
      "   WARNING: This is a development server. Do not use it in a production deployment.\n",
      "   Use a production WSGI server instead.\n",
      " * Debug mode: off\n"
     ]
    },
    {
     "name": "stderr",
     "output_type": "stream",
     "text": [
      " * Running on http://127.0.0.1:5000/ (Press CTRL+C to quit)\n",
      "127.0.0.1 - - [17/Sep/2020 19:43:30] \"\u001b[33mGET / HTTP/1.1\u001b[0m\" 404 -\n",
      "[2020-09-17 19:43:35,208] ERROR in app: Exception on /tag/10 [GET]\n",
      "Traceback (most recent call last):\n",
      "  File \"C:\\anaconda3\\lib\\site-packages\\flask\\app.py\", line 2447, in wsgi_app\n",
      "    response = self.full_dispatch_request()\n",
      "  File \"C:\\anaconda3\\lib\\site-packages\\flask\\app.py\", line 1952, in full_dispatch_request\n",
      "    rv = self.handle_user_exception(e)\n",
      "  File \"C:\\anaconda3\\lib\\site-packages\\flask_cors\\extension.py\", line 165, in wrapped_function\n",
      "    return cors_after_request(app.make_response(f(*args, **kwargs)))\n",
      "  File \"C:\\anaconda3\\lib\\site-packages\\flask\\app.py\", line 1821, in handle_user_exception\n",
      "    reraise(exc_type, exc_value, tb)\n",
      "  File \"C:\\anaconda3\\lib\\site-packages\\flask\\_compat.py\", line 39, in reraise\n",
      "    raise value\n",
      "  File \"C:\\anaconda3\\lib\\site-packages\\flask\\app.py\", line 1950, in full_dispatch_request\n",
      "    rv = self.dispatch_request()\n",
      "  File \"C:\\anaconda3\\lib\\site-packages\\flask\\app.py\", line 1936, in dispatch_request\n",
      "    return self.view_functions[rule.endpoint](**req.view_args)\n",
      "  File \"<ipython-input-1-fb1ae6db553a>\", line 38, in tag_count\n",
      "    result = tc.tagCount(int(stuId))\n",
      "  File \"C:\\바탕 화면\\playdata\\ice\\eclipse\\Devils_Project\\dataWork\\controller\\tag_count_controller.py\", line 30, in tagCount\n",
      "    dataset = pd.read_csv(file_path+\"/resources/dataset/tag_data.csv\",encoding='utf-8')\n",
      "  File \"C:\\anaconda3\\lib\\site-packages\\pandas\\io\\parsers.py\", line 686, in read_csv\n",
      "    return _read(filepath_or_buffer, kwds)\n",
      "  File \"C:\\anaconda3\\lib\\site-packages\\pandas\\io\\parsers.py\", line 452, in _read\n",
      "    parser = TextFileReader(fp_or_buf, **kwds)\n",
      "  File \"C:\\anaconda3\\lib\\site-packages\\pandas\\io\\parsers.py\", line 936, in __init__\n",
      "    self._make_engine(self.engine)\n",
      "  File \"C:\\anaconda3\\lib\\site-packages\\pandas\\io\\parsers.py\", line 1168, in _make_engine\n",
      "    self._engine = CParserWrapper(self.f, **self.options)\n",
      "  File \"C:\\anaconda3\\lib\\site-packages\\pandas\\io\\parsers.py\", line 1981, in __init__\n",
      "    src = open(src, \"rb\")\n",
      "FileNotFoundError: [Errno 2] No such file or directory: 'C:/바탕 화면/playdata/ice/eclipse/Devils_Project/dataWork/resources/dataset/tag_data.csv'\n",
      "127.0.0.1 - - [17/Sep/2020 19:43:35] \"\u001b[35m\u001b[1mGET /tag/10 HTTP/1.1\u001b[0m\" 500 -\n"
     ]
    }
   ],
   "source": [
    "##### 서버를 위한 import\n",
    "from flask import Flask, request, jsonify, send_from_directory\n",
    "from flask_cors import CORS\n",
    "from flask_restful import Resource, Api\n",
    "from dao.reco_dao import get_reco_studio, get_ranked_studio\n",
    "\n",
    "# 다른 component import\n",
    "# from controller import data_controller as dc\n",
    "from controller import reco_controller as rc\n",
    "from controller import tag_data_controller as td\n",
    "from controller import tag_count_controller as tc\n",
    "\n",
    "app = Flask(__name__, instance_relative_config=True)\n",
    "cors = CORS(app, resources={r'*': {'origins': '*'}})\n",
    "\n",
    "# @app.route(\"/predict\", methods = ['POST'])\n",
    "# def predict():\n",
    "#     if request.method == 'POST':\n",
    "#         img = request.files[\"image\"]\n",
    "#         result = dc.predict(img, app.instance_path)\n",
    "#         return result\n",
    "    \n",
    "@app.route(\"/recommend/<cust_id>\", methods = ['GET'])\n",
    "def main_recommend(cust_id):\n",
    "    if request.method == 'GET':\n",
    "        result = rc.get_reco_studios(int(cust_id),app.instance_path[:-9])\n",
    "        return jsonify(result)\n",
    "\n",
    "@app.route(\"/recommend\", methods = ['GET'])\n",
    "def rank_recommend():\n",
    "    if request.method == 'GET':\n",
    "        result = rc.get_ranked_studios()\n",
    "        return jsonify(result)\n",
    "\n",
    "@app.route(\"/tag/<stuId>\", methods = ['GET'])\n",
    "def tag_count(stuId):\n",
    "    if request.method == 'GET':\n",
    "        result = tc.tagCount(int(stuId))\n",
    "    return jsonify(result)\n",
    "\n",
    "# 서버 정보(as properties)\n",
    "if __name__ == \"__main__\":\n",
    "    app.run(host=\"127.0.0.1\", port=\"5000\")\n",
    "    td.tagData().start()"
   ]
  },
  {
   "cell_type": "code",
   "execution_count": null,
   "metadata": {},
   "outputs": [],
   "source": [
    "# pip install gensim"
   ]
  },
  {
   "cell_type": "code",
   "execution_count": null,
   "metadata": {},
   "outputs": [],
   "source": []
  }
 ],
 "metadata": {
  "kernelspec": {
   "display_name": "Python 3",
   "language": "python",
   "name": "python3"
  },
  "language_info": {
   "codemirror_mode": {
    "name": "ipython",
    "version": 3
   },
   "file_extension": ".py",
   "mimetype": "text/x-python",
   "name": "python",
   "nbconvert_exporter": "python",
   "pygments_lexer": "ipython3",
   "version": "3.7.7"
  }
 },
 "nbformat": 4,
 "nbformat_minor": 4
}
