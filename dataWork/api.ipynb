{
 "cells": [
  {
   "cell_type": "code",
   "execution_count": 2,
   "metadata": {},
   "outputs": [
    {
     "name": "stdout",
     "output_type": "stream",
     "text": [
      " * Serving Flask app \"__main__\" (lazy loading)\n",
      " * Environment: production\n",
      "   WARNING: This is a development server. Do not use it in a production deployment.\n",
      "   Use a production WSGI server instead.\n",
      " * Debug mode: off\n"
     ]
    },
    {
     "name": "stderr",
     "output_type": "stream",
     "text": [
      " * Running on http://127.0.0.1:5000/ (Press CTRL+C to quit)\n",
      "127.0.0.1 - - [07/Sep/2020 01:59:13] \"\u001b[37mGET /recommand HTTP/1.1\u001b[0m\" 200 -\n",
      "127.0.0.1 - - [07/Sep/2020 02:03:30] \"\u001b[33mGET /recommend HTTP/1.1\u001b[0m\" 404 -\n",
      "127.0.0.1 - - [07/Sep/2020 02:03:32] \"\u001b[33mGET /recommend HTTP/1.1\u001b[0m\" 404 -\n",
      "127.0.0.1 - - [07/Sep/2020 02:03:58] \"\u001b[37mGET /recommand HTTP/1.1\u001b[0m\" 200 -\n",
      "127.0.0.1 - - [07/Sep/2020 02:04:00] \"\u001b[37mGET /recommand HTTP/1.1\u001b[0m\" 200 -\n",
      "127.0.0.1 - - [07/Sep/2020 02:04:03] \"\u001b[37mGET /recommand HTTP/1.1\u001b[0m\" 200 -\n",
      "127.0.0.1 - - [07/Sep/2020 02:04:11] \"\u001b[37mGET /recommand HTTP/1.1\u001b[0m\" 200 -\n"
     ]
    }
   ],
   "source": [
    "# 서버를 위한 import\n",
    "from flask import Flask, request, jsonify\n",
    "from flask_cors import CORS\n",
    "from flask_restful import Resource, Api\n",
    "\n",
    "# 다른 component import\n",
    "from controller import data_controller as dc\n",
    "from controller import reco_controller as rc\n",
    "\n",
    "app = Flask(__name__, instance_relative_config=True)\n",
    "cors = CORS(app, resources={r'*': {'origins': '*'}})\n",
    "\n",
    "@app.route(\"/predict\", methods = ['POST'])\n",
    "def predict():\n",
    "    if request.method == 'POST':\n",
    "        img = request.files[\"image\"]\n",
    "        result = dc.predict(img, app.instance_path)\n",
    "        return result\n",
    "    \n",
    "@app.route(\"/recommand\", methods = ['GET'])\n",
    "def recommand():\n",
    "    if request.method == 'GET':\n",
    "        result = rc.recommend()\n",
    "        return str(result)\n",
    "    \n",
    "\n",
    "# 서버 정보(as properties)\n",
    "if __name__ == \"__main__\":              \n",
    "    app.run(host=\"127.0.0.1\", port=\"5000\")"
   ]
  },
  {
   "cell_type": "code",
   "execution_count": 2,
   "metadata": {},
   "outputs": [
    {
     "name": "stdout",
     "output_type": "stream",
     "text": [
      "False\n"
     ]
    }
   ],
   "source": [
    "import os\n",
    "print(os.path.isfile(app.instance_path[:-9]+'/resources/images/mnistimg.png'))"
   ]
  }
 ],
 "metadata": {
  "kernelspec": {
   "display_name": "Python 3",
   "language": "python",
   "name": "python3"
  },
  "language_info": {
   "codemirror_mode": {
    "name": "ipython",
    "version": 3
   },
   "file_extension": ".py",
   "mimetype": "text/x-python",
   "name": "python",
   "nbconvert_exporter": "python",
   "pygments_lexer": "ipython3",
   "version": "3.7.7"
  }
 },
 "nbformat": 4,
 "nbformat_minor": 4
}
