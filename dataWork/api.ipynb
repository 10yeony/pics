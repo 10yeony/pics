{
 "cells": [
  {
   "cell_type": "code",
   "execution_count": null,
   "metadata": {},
   "outputs": [
    {
     "name": "stdout",
     "output_type": "stream",
     "text": [
      " * Serving Flask app \"__main__\" (lazy loading)\n",
      " * Environment: production\n",
      "   WARNING: This is a development server. Do not use it in a production deployment.\n",
      "   Use a production WSGI server instead.\n",
      " * Debug mode: off\n"
     ]
    },
    {
     "name": "stderr",
     "output_type": "stream",
     "text": [
      " * Running on http://127.0.0.1:5000/ (Press CTRL+C to quit)\n"
     ]
    },
    {
     "name": "stdout",
     "output_type": "stream",
     "text": [
      "<FileStorage: '37_5_티앤북스_경성대점.jpg' ('image/jpeg')>\n"
     ]
    },
    {
     "name": "stderr",
     "output_type": "stream",
     "text": [
      "Using cache found in C:\\Users\\Playdata/.cache\\torch\\hub\\pytorch_vision_v0.6.0\n"
     ]
    },
    {
     "name": "stdout",
     "output_type": "stream",
     "text": [
      "count : 0\n",
      "Connection opened successfully.\n",
      "Database connection closed.\n",
      "count : 0\n",
      "Connection opened successfully.\n",
      "Database connection closed.\n",
      "count : 0\n",
      "Connection opened successfully.\n",
      "Database connection closed.\n",
      "count : 0\n",
      "Connection opened successfully.\n",
      "Database connection closed.\n",
      "count : 0\n",
      "Connection opened successfully.\n",
      "Database connection closed.\n",
      "count : 0\n",
      "Connection opened successfully.\n",
      "Database connection closed.\n",
      "count : 1\n",
      "Connection opened successfully.\n",
      "Database connection closed.\n",
      "count : 2\n",
      "Connection opened successfully.\n",
      "Database connection closed.\n",
      "count : 3\n",
      "Connection opened successfully.\n",
      "Database connection closed.\n",
      "count : 3\n",
      "Connection opened successfully.\n",
      "Database connection closed.\n",
      "count : 3\n",
      "Connection opened successfully.\n",
      "Database connection closed.\n",
      "count : 3\n",
      "Connection opened successfully.\n",
      "Database connection closed.\n",
      "count : 4\n",
      "Connection opened successfully.\n",
      "Database connection closed.\n",
      "count : 4\n"
     ]
    },
    {
     "name": "stderr",
     "output_type": "stream",
     "text": [
      "127.0.0.1 - - [23/Sep/2020 16:44:42] \"\u001b[37mPOST /imageSearch HTTP/1.1\u001b[0m\" 200 -\n"
     ]
    },
    {
     "name": "stdout",
     "output_type": "stream",
     "text": [
      "Connection opened successfully.\n",
      "Database connection closed.\n",
      "912,726,1086,904,882\n",
      "<FileStorage: '37_5_티앤북스_경성대점.jpg' ('image/jpeg')>\n"
     ]
    },
    {
     "name": "stderr",
     "output_type": "stream",
     "text": [
      "Using cache found in C:\\Users\\Playdata/.cache\\torch\\hub\\pytorch_vision_v0.6.0\n"
     ]
    },
    {
     "name": "stdout",
     "output_type": "stream",
     "text": [
      "count : 0\n",
      "Connection opened successfully.\n",
      "Database connection closed.\n",
      "count : 0\n",
      "Connection opened successfully.\n",
      "Database connection closed.\n",
      "count : 0\n",
      "Connection opened successfully.\n",
      "Database connection closed.\n",
      "count : 0\n",
      "Connection opened successfully.\n",
      "Database connection closed.\n",
      "count : 0\n",
      "Connection opened successfully.\n",
      "Database connection closed.\n",
      "count : 0\n",
      "Connection opened successfully.\n",
      "Database connection closed.\n",
      "count : 1\n",
      "Connection opened successfully.\n",
      "Database connection closed.\n",
      "count : 2\n",
      "Connection opened successfully.\n",
      "Database connection closed.\n",
      "count : 3\n",
      "Connection opened successfully.\n",
      "Database connection closed.\n",
      "count : 3\n",
      "Connection opened successfully.\n",
      "Database connection closed.\n",
      "count : 3\n",
      "Connection opened successfully.\n",
      "Database connection closed.\n",
      "count : 3\n",
      "Connection opened successfully.\n",
      "Database connection closed.\n",
      "count : 4\n",
      "Connection opened successfully.\n",
      "Database connection closed.\n",
      "count : 4\n"
     ]
    },
    {
     "name": "stderr",
     "output_type": "stream",
     "text": [
      "127.0.0.1 - - [23/Sep/2020 16:44:55] \"\u001b[37mPOST /imageSearch HTTP/1.1\u001b[0m\" 200 -\n"
     ]
    },
    {
     "name": "stdout",
     "output_type": "stream",
     "text": [
      "Connection opened successfully.\n",
      "Database connection closed.\n",
      "912,726,1086,904,882\n",
      "<FileStorage: '20_1_게이트웨이_스튜디오_B룸.jpg' ('image/jpeg')>\n"
     ]
    },
    {
     "name": "stderr",
     "output_type": "stream",
     "text": [
      "Using cache found in C:\\Users\\Playdata/.cache\\torch\\hub\\pytorch_vision_v0.6.0\n"
     ]
    },
    {
     "name": "stdout",
     "output_type": "stream",
     "text": [
      "count : 0\n",
      "Connection opened successfully.\n",
      "Database connection closed.\n",
      "count : 0\n",
      "Connection opened successfully.\n",
      "Database connection closed.\n",
      "count : 0\n",
      "Connection opened successfully.\n",
      "Database connection closed.\n",
      "count : 0\n",
      "Connection opened successfully.\n",
      "Database connection closed.\n",
      "count : 0\n",
      "Connection opened successfully.\n",
      "Database connection closed.\n",
      "count : 1\n",
      "Connection opened successfully.\n",
      "Database connection closed.\n",
      "count : 1\n",
      "Connection opened successfully.\n",
      "Database connection closed.\n",
      "count : 2\n",
      "Connection opened successfully.\n",
      "Database connection closed.\n",
      "count : 2\n",
      "Connection opened successfully.\n",
      "Database connection closed.\n",
      "count : 2\n"
     ]
    },
    {
     "name": "stderr",
     "output_type": "stream",
     "text": [
      "127.0.0.1 - - [23/Sep/2020 16:46:07] \"\u001b[37mPOST /imageSearch HTTP/1.1\u001b[0m\" 200 -\n"
     ]
    },
    {
     "name": "stdout",
     "output_type": "stream",
     "text": [
      "Connection opened successfully.\n",
      "Database connection closed.\n",
      "count : 3\n",
      "Connection opened successfully.\n",
      "Database connection closed.\n",
      "count : 4\n",
      "Connection opened successfully.\n",
      "Database connection closed.\n",
      "872,1129,1086,1106,1148\n"
     ]
    },
    {
     "name": "stderr",
     "output_type": "stream",
     "text": [
      "[2020-09-23 16:46:43,898] ERROR in app: Exception on /tag/1086 [GET]\n",
      "Traceback (most recent call last):\n",
      "  File \"C:\\kjy\\anaconda3\\lib\\site-packages\\flask\\app.py\", line 2447, in wsgi_app\n",
      "    response = self.full_dispatch_request()\n",
      "  File \"C:\\kjy\\anaconda3\\lib\\site-packages\\flask\\app.py\", line 1952, in full_dispatch_request\n",
      "    rv = self.handle_user_exception(e)\n",
      "  File \"C:\\kjy\\anaconda3\\lib\\site-packages\\flask_cors\\extension.py\", line 165, in wrapped_function\n",
      "    return cors_after_request(app.make_response(f(*args, **kwargs)))\n",
      "  File \"C:\\kjy\\anaconda3\\lib\\site-packages\\flask\\app.py\", line 1821, in handle_user_exception\n",
      "    reraise(exc_type, exc_value, tb)\n",
      "  File \"C:\\kjy\\anaconda3\\lib\\site-packages\\flask\\_compat.py\", line 39, in reraise\n",
      "    raise value\n",
      "  File \"C:\\kjy\\anaconda3\\lib\\site-packages\\flask\\app.py\", line 1950, in full_dispatch_request\n",
      "    rv = self.dispatch_request()\n",
      "  File \"C:\\kjy\\anaconda3\\lib\\site-packages\\flask\\app.py\", line 1936, in dispatch_request\n",
      "    return self.view_functions[rule.endpoint](**req.view_args)\n",
      "  File \"<ipython-input-2-1f1780295598>\", line 42, in sim_tag\n",
      "    result = tc.tagCount(int(stuId))\n",
      "  File \"C:\\kjy\\pics\\dataWork\\controller\\tag_count_controller.py\", line 33, in tagCount\n",
      "    dataset=count_tag_model.tagCount(stuId,dataset)\n",
      "  File \"C:\\kjy\\pics\\dataWork\\model\\count_tag_model.py\", line 43, in tagCount\n",
      "    targetExTagList=strToList(target[\"extend_tag\"].values[0])\n",
      "IndexError: index 0 is out of bounds for axis 0 with size 0\n",
      "127.0.0.1 - - [23/Sep/2020 16:46:43] \"\u001b[35m\u001b[1mGET //tag/1086 HTTP/1.1\u001b[0m\" 500 -\n"
     ]
    },
    {
     "name": "stdout",
     "output_type": "stream",
     "text": [
      "<FileStorage: '20_3_카페의_야외_테라스입니다.jpg' ('image/jpeg')>\n"
     ]
    },
    {
     "name": "stderr",
     "output_type": "stream",
     "text": [
      "Using cache found in C:\\Users\\Playdata/.cache\\torch\\hub\\pytorch_vision_v0.6.0\n"
     ]
    },
    {
     "name": "stdout",
     "output_type": "stream",
     "text": [
      "count : 0\n",
      "Connection opened successfully.\n",
      "Database connection closed.\n",
      "count : 0\n",
      "Connection opened successfully.\n",
      "Database connection closed.\n",
      "count : 1\n",
      "Connection opened successfully.\n",
      "Database connection closed.\n",
      "count : 2\n",
      "Connection opened successfully.\n",
      "Database connection closed.\n",
      "count : 3\n",
      "Connection opened successfully.\n",
      "Database connection closed.\n",
      "count : 3\n",
      "Connection opened successfully.\n",
      "Database connection closed.\n",
      "count : 4\n",
      "Connection opened successfully.\n",
      "Database connection closed.\n",
      "count : 4\n",
      "Connection opened successfully."
     ]
    },
    {
     "name": "stderr",
     "output_type": "stream",
     "text": [
      "127.0.0.1 - - [23/Sep/2020 16:47:39] \"\u001b[37mPOST /imageSearch HTTP/1.1\u001b[0m\" 200 -\n"
     ]
    },
    {
     "name": "stdout",
     "output_type": "stream",
     "text": [
      "\n",
      "Database connection closed.\n",
      "912,1144,820,885,823\n",
      "<FileStorage: '44_3_서울시_강동구_성내동_48-6_2층_브릭스파크.jpg' ('image/jpeg')>\n"
     ]
    },
    {
     "name": "stderr",
     "output_type": "stream",
     "text": [
      "Using cache found in C:\\Users\\Playdata/.cache\\torch\\hub\\pytorch_vision_v0.6.0\n"
     ]
    },
    {
     "name": "stdout",
     "output_type": "stream",
     "text": [
      "count : 0\n",
      "Connection opened successfully.\n",
      "Database connection closed.\n",
      "count : 0\n",
      "Connection opened successfully.\n",
      "Database connection closed.\n",
      "count : 1\n",
      "Connection opened successfully.\n",
      "Database connection closed.\n",
      "count : 2\n",
      "Connection opened successfully.\n",
      "Database connection closed.\n",
      "count : 3\n",
      "Connection opened successfully.\n",
      "Database connection closed.\n",
      "count : 3\n",
      "Connection opened successfully.\n",
      "Database connection closed.\n",
      "count : 4\n",
      "Connection opened successfully.\n",
      "Database connection closed.\n",
      "count : 4\n",
      "Connection opened successfully."
     ]
    },
    {
     "name": "stderr",
     "output_type": "stream",
     "text": [
      "127.0.0.1 - - [23/Sep/2020 16:48:51] \"\u001b[37mPOST /imageSearch HTTP/1.1\u001b[0m\" 200 -\n"
     ]
    },
    {
     "name": "stdout",
     "output_type": "stream",
     "text": [
      "\n",
      "Database connection closed.\n",
      "1139,812,833,749,1131\n"
     ]
    },
    {
     "name": "stderr",
     "output_type": "stream",
     "text": [
      "[2020-09-23 16:49:01,099] ERROR in app: Exception on /tag/1131 [GET]\n",
      "Traceback (most recent call last):\n",
      "  File \"C:\\kjy\\anaconda3\\lib\\site-packages\\flask\\app.py\", line 2447, in wsgi_app\n",
      "    response = self.full_dispatch_request()\n",
      "  File \"C:\\kjy\\anaconda3\\lib\\site-packages\\flask\\app.py\", line 1952, in full_dispatch_request\n",
      "    rv = self.handle_user_exception(e)\n",
      "  File \"C:\\kjy\\anaconda3\\lib\\site-packages\\flask_cors\\extension.py\", line 165, in wrapped_function\n",
      "    return cors_after_request(app.make_response(f(*args, **kwargs)))\n",
      "  File \"C:\\kjy\\anaconda3\\lib\\site-packages\\flask\\app.py\", line 1821, in handle_user_exception\n",
      "    reraise(exc_type, exc_value, tb)\n",
      "  File \"C:\\kjy\\anaconda3\\lib\\site-packages\\flask\\_compat.py\", line 39, in reraise\n",
      "    raise value\n",
      "  File \"C:\\kjy\\anaconda3\\lib\\site-packages\\flask\\app.py\", line 1950, in full_dispatch_request\n",
      "    rv = self.dispatch_request()\n",
      "  File \"C:\\kjy\\anaconda3\\lib\\site-packages\\flask\\app.py\", line 1936, in dispatch_request\n",
      "    return self.view_functions[rule.endpoint](**req.view_args)\n",
      "  File \"<ipython-input-2-1f1780295598>\", line 42, in sim_tag\n",
      "    result = tc.tagCount(int(stuId))\n",
      "  File \"C:\\kjy\\pics\\dataWork\\controller\\tag_count_controller.py\", line 33, in tagCount\n",
      "    dataset=count_tag_model.tagCount(stuId,dataset)\n",
      "  File \"C:\\kjy\\pics\\dataWork\\model\\count_tag_model.py\", line 43, in tagCount\n",
      "    targetExTagList=strToList(target[\"extend_tag\"].values[0])\n",
      "IndexError: index 0 is out of bounds for axis 0 with size 0\n",
      "127.0.0.1 - - [23/Sep/2020 16:49:01] \"\u001b[35m\u001b[1mGET //tag/1131 HTTP/1.1\u001b[0m\" 500 -\n"
     ]
    },
    {
     "name": "stdout",
     "output_type": "stream",
     "text": [
      "<FileStorage: '43_0_[성수동서울숲]_문화예술공간_겸_Daily_cafe_&_bar_신촌살롱입니다.jpg' ('image/jpeg')>\n"
     ]
    },
    {
     "name": "stderr",
     "output_type": "stream",
     "text": [
      "Using cache found in C:\\Users\\Playdata/.cache\\torch\\hub\\pytorch_vision_v0.6.0\n"
     ]
    },
    {
     "name": "stdout",
     "output_type": "stream",
     "text": [
      "count : 0\n",
      "Connection opened successfully.\n",
      "Database connection closed.\n",
      "count : 0\n",
      "Connection opened successfully.\n",
      "Database connection closed.\n",
      "count : 0\n",
      "Connection opened successfully.\n",
      "Database connection closed.\n",
      "count : 1\n",
      "Connection opened successfully.\n",
      "Database connection closed.\n",
      "count : 1\n",
      "Connection opened successfully.\n",
      "Database connection closed.\n",
      "count : 2\n",
      "Connection opened successfully.\n",
      "Database connection closed.\n",
      "count : 2\n",
      "Connection opened successfully.\n",
      "Database connection closed.\n",
      "count : 2\n",
      "Connection opened successfully.\n",
      "Database connection closed.\n",
      "count : 2\n",
      "Connection opened successfully.\n",
      "Database connection closed.\n",
      "count : 3\n",
      "Connection opened successfully.\n",
      "Database connection closed.\n",
      "count : 4\n",
      "Connection opened successfully.\n",
      "Database connection closed.\n",
      "count : 4\n",
      "Connection opened successfully."
     ]
    },
    {
     "name": "stderr",
     "output_type": "stream",
     "text": [
      "127.0.0.1 - - [23/Sep/2020 16:49:47] \"\u001b[37mPOST /imageSearch HTTP/1.1\u001b[0m\" 200 -\n"
     ]
    },
    {
     "name": "stdout",
     "output_type": "stream",
     "text": [
      "\n",
      "Database connection closed.\n",
      "count : 4\n",
      "Connection opened successfully.\n",
      "Database connection closed.\n",
      "1109,1132,805,877,800\n"
     ]
    },
    {
     "name": "stderr",
     "output_type": "stream",
     "text": [
      "127.0.0.1 - - [23/Sep/2020 17:29:08] \"\u001b[37mGET /recommend HTTP/1.1\u001b[0m\" 200 -\n"
     ]
    },
    {
     "name": "stdout",
     "output_type": "stream",
     "text": [
      "Connection opened successfully.\n",
      "Database connection closed.\n"
     ]
    },
    {
     "name": "stderr",
     "output_type": "stream",
     "text": [
      "127.0.0.1 - - [23/Sep/2020 17:29:12] \"\u001b[37mGET /recommend HTTP/1.1\u001b[0m\" 200 -\n"
     ]
    },
    {
     "name": "stdout",
     "output_type": "stream",
     "text": [
      "Connection opened successfully.\n",
      "Database connection closed.\n"
     ]
    },
    {
     "name": "stderr",
     "output_type": "stream",
     "text": [
      "127.0.0.1 - - [23/Sep/2020 17:32:07] \"\u001b[37mGET /recommend HTTP/1.1\u001b[0m\" 200 -\n"
     ]
    },
    {
     "name": "stdout",
     "output_type": "stream",
     "text": [
      "Connection opened successfully.\n",
      "Database connection closed.\n",
      "Connection opened successfully.\n",
      "Database connection closed.\n",
      "Connection opened successfully.\n",
      "Database connection closed.\n",
      "Connection opened successfully.\n",
      "Database connection closed.\n",
      "Connection opened successfully.\n",
      "Database connection closed.\n",
      "Connection opened successfully.\n"
     ]
    },
    {
     "name": "stderr",
     "output_type": "stream",
     "text": [
      "127.0.0.1 - - [23/Sep/2020 17:32:07] \"\u001b[37mGET /recommend/10 HTTP/1.1\u001b[0m\" 200 -\n"
     ]
    },
    {
     "name": "stdout",
     "output_type": "stream",
     "text": [
      "Database connection closed.\n",
      "Connection opened successfully.\n",
      "Database connection closed.\n",
      "Connection opened successfully.\n",
      "Database connection closed.\n",
      "Connection opened successfully.\n",
      "Database connection closed.\n"
     ]
    },
    {
     "name": "stderr",
     "output_type": "stream",
     "text": [
      "127.0.0.1 - - [23/Sep/2020 17:33:10] \"\u001b[37mGET /recommend HTTP/1.1\u001b[0m\" 200 -\n"
     ]
    },
    {
     "name": "stdout",
     "output_type": "stream",
     "text": [
      "Connection opened successfully.\n",
      "Database connection closed.\n"
     ]
    },
    {
     "name": "stderr",
     "output_type": "stream",
     "text": [
      "127.0.0.1 - - [23/Sep/2020 17:33:18] \"\u001b[37mGET /recommend HTTP/1.1\u001b[0m\" 200 -\n"
     ]
    },
    {
     "name": "stdout",
     "output_type": "stream",
     "text": [
      "Connection opened successfully.\n",
      "Database connection closed.\n",
      "Connection opened successfully.\n",
      "Database connection closed.\n",
      "Connection opened successfully.\n",
      "Database connection closed.\n",
      "Connection opened successfully.\n",
      "Database connection closed.\n",
      "Connection opened successfully.\n",
      "Database connection closed.\n"
     ]
    },
    {
     "name": "stderr",
     "output_type": "stream",
     "text": [
      "127.0.0.1 - - [23/Sep/2020 17:33:19] \"\u001b[37mGET /recommend/10 HTTP/1.1\u001b[0m\" 200 -\n"
     ]
    },
    {
     "name": "stdout",
     "output_type": "stream",
     "text": [
      "Connection opened successfully.\n",
      "Database connection closed.\n",
      "Connection opened successfully.\n",
      "Database connection closed.\n",
      "Connection opened successfully.\n",
      "Database connection closed.\n",
      "Connection opened successfully.\n",
      "Database connection closed.\n"
     ]
    },
    {
     "name": "stderr",
     "output_type": "stream",
     "text": [
      "127.0.0.1 - - [23/Sep/2020 17:33:42] \"\u001b[37mGET /recommend HTTP/1.1\u001b[0m\" 200 -\n",
      "[2020-09-23 17:33:42,285] ERROR in app: Exception on /recommend/10 [GET]\n",
      "Traceback (most recent call last):\n",
      "  File \"C:\\kjy\\anaconda3\\lib\\site-packages\\flask\\app.py\", line 2447, in wsgi_app\n",
      "    response = self.full_dispatch_request()\n",
      "  File \"C:\\kjy\\anaconda3\\lib\\site-packages\\flask\\app.py\", line 1952, in full_dispatch_request\n",
      "    rv = self.handle_user_exception(e)\n",
      "  File \"C:\\kjy\\anaconda3\\lib\\site-packages\\flask_cors\\extension.py\", line 165, in wrapped_function\n",
      "    return cors_after_request(app.make_response(f(*args, **kwargs)))\n",
      "  File \"C:\\kjy\\anaconda3\\lib\\site-packages\\flask\\app.py\", line 1821, in handle_user_exception\n",
      "    reraise(exc_type, exc_value, tb)\n",
      "  File \"C:\\kjy\\anaconda3\\lib\\site-packages\\flask\\_compat.py\", line 39, in reraise\n",
      "    raise value\n",
      "  File \"C:\\kjy\\anaconda3\\lib\\site-packages\\flask\\app.py\", line 1950, in full_dispatch_request\n",
      "    rv = self.dispatch_request()\n",
      "  File \"C:\\kjy\\anaconda3\\lib\\site-packages\\flask\\app.py\", line 1936, in dispatch_request\n",
      "    return self.view_functions[rule.endpoint](**req.view_args)\n",
      "  File \"<ipython-input-2-1f1780295598>\", line 30, in main_recommend\n",
      "    result = rc.get_reco_studios(int(cust_id),app.instance_path[:-9])\n",
      "  File \"C:\\kjy\\pics\\dataWork\\controller\\reco_controller.py\", line 29, in get_reco_studios\n",
      "    studios = get_reco_studio(studio_list)\n",
      "  File \"C:\\kjy\\pics\\dataWork\\dao\\reco_dao.py\", line 40, in get_reco_studio\n",
      "    result = db.run_query(sql)\n",
      "  File \"C:\\kjy\\pics\\dataWork\\dao\\database.py\", line 44, in run_query\n",
      "    cur.execute(query)\n",
      "  File \"C:\\kjy\\anaconda3\\lib\\site-packages\\pymysql\\cursors.py\", line 170, in execute\n",
      "    result = self._query(query)\n",
      "  File \"C:\\kjy\\anaconda3\\lib\\site-packages\\pymysql\\cursors.py\", line 328, in _query\n",
      "    conn.query(q)\n",
      "  File \"C:\\kjy\\anaconda3\\lib\\site-packages\\pymysql\\connections.py\", line 517, in query\n",
      "    self._affected_rows = self._read_query_result(unbuffered=unbuffered)\n",
      "  File \"C:\\kjy\\anaconda3\\lib\\site-packages\\pymysql\\connections.py\", line 732, in _read_query_result\n",
      "    result.read()\n",
      "  File \"C:\\kjy\\anaconda3\\lib\\site-packages\\pymysql\\connections.py\", line 1075, in read\n",
      "    first_packet = self.connection._read_packet()\n",
      "  File \"C:\\kjy\\anaconda3\\lib\\site-packages\\pymysql\\connections.py\", line 674, in _read_packet\n",
      "    recv_data = self._read_bytes(bytes_to_read)\n",
      "  File \"C:\\kjy\\anaconda3\\lib\\site-packages\\pymysql\\connections.py\", line 688, in _read_bytes\n",
      "    self._sock.settimeout(self._read_timeout)\n",
      "AttributeError: 'NoneType' object has no attribute 'settimeout'\n",
      "127.0.0.1 - - [23/Sep/2020 17:33:42] \"\u001b[35m\u001b[1mGET /recommend/10 HTTP/1.1\u001b[0m\" 500 -\n"
     ]
    },
    {
     "name": "stdout",
     "output_type": "stream",
     "text": [
      "Connection opened successfully.\n",
      "Connection opened successfully.\n",
      "Database connection closed.\n"
     ]
    },
    {
     "name": "stderr",
     "output_type": "stream",
     "text": [
      "C:\\kjy\\anaconda3\\lib\\site-packages\\pandas\\core\\indexing.py:845: SettingWithCopyWarning: \n",
      "A value is trying to be set on a copy of a slice from a DataFrame.\n",
      "Try using .loc[row_indexer,col_indexer] = value instead\n",
      "\n",
      "See the caveats in the documentation: https://pandas.pydata.org/pandas-docs/stable/user_guide/indexing.html#returning-a-view-versus-a-copy\n",
      "  self.obj[key] = _infer_fill_value(value)\n",
      "C:\\kjy\\anaconda3\\lib\\site-packages\\pandas\\core\\indexing.py:966: SettingWithCopyWarning: \n",
      "A value is trying to be set on a copy of a slice from a DataFrame.\n",
      "Try using .loc[row_indexer,col_indexer] = value instead\n",
      "\n",
      "See the caveats in the documentation: https://pandas.pydata.org/pandas-docs/stable/user_guide/indexing.html#returning-a-view-versus-a-copy\n",
      "  self.obj[item] = s\n",
      "[2020-09-23 17:33:49,859] ERROR in app: Exception on /tag/13 [GET]\n",
      "Traceback (most recent call last):\n",
      "  File \"C:\\kjy\\anaconda3\\lib\\site-packages\\flask\\app.py\", line 2447, in wsgi_app\n",
      "    response = self.full_dispatch_request()\n",
      "  File \"C:\\kjy\\anaconda3\\lib\\site-packages\\flask\\app.py\", line 1952, in full_dispatch_request\n",
      "    rv = self.handle_user_exception(e)\n",
      "  File \"C:\\kjy\\anaconda3\\lib\\site-packages\\flask_cors\\extension.py\", line 165, in wrapped_function\n",
      "    return cors_after_request(app.make_response(f(*args, **kwargs)))\n",
      "  File \"C:\\kjy\\anaconda3\\lib\\site-packages\\flask\\app.py\", line 1821, in handle_user_exception\n",
      "    reraise(exc_type, exc_value, tb)\n",
      "  File \"C:\\kjy\\anaconda3\\lib\\site-packages\\flask\\_compat.py\", line 39, in reraise\n",
      "    raise value\n",
      "  File \"C:\\kjy\\anaconda3\\lib\\site-packages\\flask\\app.py\", line 1950, in full_dispatch_request\n",
      "    rv = self.dispatch_request()\n",
      "  File \"C:\\kjy\\anaconda3\\lib\\site-packages\\flask\\app.py\", line 1936, in dispatch_request\n",
      "    return self.view_functions[rule.endpoint](**req.view_args)\n",
      "  File \"<ipython-input-2-1f1780295598>\", line 42, in sim_tag\n",
      "    result = tc.tagCount(int(stuId))\n",
      "  File \"C:\\kjy\\pics\\dataWork\\controller\\tag_count_controller.py\", line 35, in tagCount\n",
      "    return tag_dao.getTop8(topSim)[:8]\n",
      "  File \"C:\\kjy\\pics\\dataWork\\dao\\tag_dao.py\", line 102, in getTop8\n",
      "    result_list.append(result[0])\n",
      "IndexError: tuple index out of range\n",
      "127.0.0.1 - - [23/Sep/2020 17:33:49] \"\u001b[35m\u001b[1mGET //tag/13 HTTP/1.1\u001b[0m\" 500 -\n"
     ]
    }
   ],
   "source": [
    "# 서버를 위한 import\n",
    "from flask import Flask, request, jsonify, send_from_directory\n",
    "from flask_cors import CORS\n",
    "from flask_restful import Resource, Api\n",
    "from dao.reco_dao import get_reco_studio, get_ranked_studio\n",
    "\n",
    "# 다른 component import\n",
    "# from controller import data_controller as dc\n",
    "from controller import reco_controller as rc\n",
    "from controller import tag_count_controller as tc\n",
    "from controller import image_search_controller as ic\n",
    "\n",
    "import os\n",
    "\n",
    "app = Flask(__name__, instance_relative_config=True)\n",
    "cors = CORS(app, resources={r'*': {'origins': '*'}})\n",
    "\n",
    "@app.route(\"/imageSearch\", methods = ['POST'])\n",
    "def image_search():\n",
    "    if request.method == 'POST':\n",
    "        img = request.files[\"image\"]\n",
    "        print(img)\n",
    "        result = ic.get_stuIds_by_img(img, app.instance_path[:-18])\n",
    "        print(result)\n",
    "        return jsonify(result)\n",
    "    \n",
    "@app.route(\"/recommend/<cust_id>\", methods = ['GET'])\n",
    "def main_recommend(cust_id):\n",
    "    if request.method == 'GET':\n",
    "        result = rc.get_reco_studios(int(cust_id),app.instance_path[:-9])\n",
    "        return jsonify(result)\n",
    "\n",
    "@app.route(\"/recommend\", methods = ['GET'])\n",
    "def rank_recommend():\n",
    "    if request.method == 'GET':\n",
    "        result = rc.get_ranked_studios()\n",
    "        return jsonify(result)\n",
    "        \n",
    "@app.route(\"/tag/<stuId>\", methods = ['GET'])\n",
    "def sim_tag(stuId):\n",
    "    if request.method == 'GET':\n",
    "        result = tc.tagCount(int(stuId))\n",
    "    return jsonify(result)\n",
    "# 서버 정보(as properties)\n",
    "if __name__ == \"__main__\":              \n",
    "    app.run(host=\"127.0.0.1\", port=\"5000\")"
   ]
  },
  {
   "cell_type": "code",
   "execution_count": null,
   "metadata": {},
   "outputs": [],
   "source": []
  }
 ],
 "metadata": {
  "kernelspec": {
   "display_name": "Python 3",
   "language": "python",
   "name": "python3"
  },
  "language_info": {
   "codemirror_mode": {
    "name": "ipython",
    "version": 3
   },
   "file_extension": ".py",
   "mimetype": "text/x-python",
   "name": "python",
   "nbconvert_exporter": "python",
   "pygments_lexer": "ipython3",
   "version": "3.7.7"
  }
 },
 "nbformat": 4,
 "nbformat_minor": 4
}
