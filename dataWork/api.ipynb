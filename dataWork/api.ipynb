{
 "cells": [
  {
   "cell_type": "code",
   "execution_count": 2,
   "metadata": {},
   "outputs": [
    {
     "name": "stdout",
     "output_type": "stream",
     "text": [
      " * Serving Flask app \"__main__\" (lazy loading)\n",
      " * Environment: production\n",
      "   WARNING: This is a development server. Do not use it in a production deployment.\n",
      "   Use a production WSGI server instead.\n",
      " * Debug mode: off\n"
     ]
    },
    {
     "name": "stderr",
     "output_type": "stream",
     "text": [
      " * Running on http://127.0.0.1:5000/ (Press CTRL+C to quit)\n"
     ]
    },
    {
     "name": "stdout",
     "output_type": "stream",
     "text": [
      "<FileStorage: '0_0_Large_rooftop_with_panorama_city_view!.jpg' ('image/jpeg')>\n"
     ]
    },
    {
     "name": "stderr",
     "output_type": "stream",
     "text": [
      "Using cache found in C:\\Users\\Playdata/.cache\\torch\\hub\\pytorch_vision_v0.6.0\n"
     ]
    },
    {
     "name": "stdout",
     "output_type": "stream",
     "text": [
      "count : 0\n",
      "Connection opened successfully.\n",
      "Database connection closed.\n",
      "count : 0\n",
      "Connection opened successfully.\n",
      "Database connection closed.\n",
      "count : 0\n",
      "Connection opened successfully.\n",
      "Database connection closed.\n",
      "count : 1\n",
      "Connection opened successfully.\n",
      "Database connection closed.\n",
      "count : 1\n",
      "Connection opened successfully."
     ]
    },
    {
     "name": "stderr",
     "output_type": "stream",
     "text": [
      "127.0.0.1 - - [21/Sep/2020 11:47:26] \"\u001b[37mPOST /imageSearch HTTP/1.1\u001b[0m\" 200 -\n"
     ]
    },
    {
     "name": "stdout",
     "output_type": "stream",
     "text": [
      "\n",
      "Database connection closed.\n",
      "count : 2\n",
      "Connection opened successfully.\n",
      "Database connection closed.\n",
      "count : 2\n",
      "Connection opened successfully.\n",
      "Database connection closed.\n",
      "count : 2\n",
      "Connection opened successfully.\n",
      "Database connection closed.\n",
      "count : 3\n",
      "Connection opened successfully.\n",
      "Database connection closed.\n",
      "count : 4\n",
      "Connection opened successfully.\n",
      "Database connection closed.\n",
      "875,860,773,1109,814\n",
      "<FileStorage: '0_0_프렌치_미니멀리즘을_실현한_33평_아파트.jpg' ('image/jpeg')>\n"
     ]
    },
    {
     "name": "stderr",
     "output_type": "stream",
     "text": [
      "Using cache found in C:\\Users\\Playdata/.cache\\torch\\hub\\pytorch_vision_v0.6.0\n"
     ]
    },
    {
     "name": "stdout",
     "output_type": "stream",
     "text": [
      "count : 0\n",
      "Connection opened successfully.\n",
      "Database connection closed.\n",
      "count : 1\n",
      "Connection opened successfully.\n",
      "Database connection closed.\n",
      "count : 2\n",
      "Connection opened successfully.\n",
      "Database connection closed.\n",
      "count : 2\n",
      "Connection opened successfully.\n",
      "Database connection closed.\n",
      "count : 3\n",
      "Connection opened successfully."
     ]
    },
    {
     "name": "stderr",
     "output_type": "stream",
     "text": [
      "127.0.0.1 - - [21/Sep/2020 11:48:34] \"\u001b[37mPOST /imageSearch HTTP/1.1\u001b[0m\" 200 -\n"
     ]
    },
    {
     "name": "stdout",
     "output_type": "stream",
     "text": [
      "\n",
      "Database connection closed.\n",
      "count : 3\n",
      "Connection opened successfully.\n",
      "Database connection closed.\n",
      "count : 3\n",
      "Connection opened successfully.\n",
      "Database connection closed.\n",
      "count : 4\n",
      "Connection opened successfully.\n",
      "Database connection closed.\n",
      "742,740,1112,876,806\n"
     ]
    },
    {
     "name": "stderr",
     "output_type": "stream",
     "text": [
      "127.0.0.1 - - [21/Sep/2020 11:49:41] \"\u001b[37mGET /recommend HTTP/1.1\u001b[0m\" 200 -\n"
     ]
    },
    {
     "name": "stdout",
     "output_type": "stream",
     "text": [
      "Connection opened successfully.\n",
      "Database connection closed.\n",
      "<FileStorage: '0_0_프렌치_미니멀리즘을_실현한_33평_아파트.jpg' ('image/jpeg')>\n"
     ]
    },
    {
     "name": "stderr",
     "output_type": "stream",
     "text": [
      "Using cache found in C:\\Users\\Playdata/.cache\\torch\\hub\\pytorch_vision_v0.6.0\n"
     ]
    },
    {
     "name": "stdout",
     "output_type": "stream",
     "text": [
      "count : 0\n",
      "Connection opened successfully.\n",
      "Database connection closed.\n",
      "count : 1\n",
      "Connection opened successfully.\n",
      "Database connection closed.\n",
      "count : 2\n",
      "Connection opened successfully.\n",
      "Database connection closed.\n",
      "count : 2\n",
      "Connection opened successfully.\n",
      "Database connection closed.\n",
      "count : 3\n",
      "Connection opened successfully.\n",
      "Database connection closed.\n",
      "count : 3\n",
      "Connection opened successfully.\n"
     ]
    },
    {
     "name": "stderr",
     "output_type": "stream",
     "text": [
      "127.0.0.1 - - [21/Sep/2020 11:49:49] \"\u001b[37mPOST /imageSearch HTTP/1.1\u001b[0m\" 200 -\n"
     ]
    },
    {
     "name": "stdout",
     "output_type": "stream",
     "text": [
      "Database connection closed.\n",
      "count : 3\n",
      "Connection opened successfully.\n",
      "Database connection closed.\n",
      "count : 4\n",
      "Connection opened successfully.\n",
      "Database connection closed.\n",
      "742,740,1112,876,806\n",
      "<FileStorage: '0_0_프렌치_미니멀리즘을_실현한_33평_아파트.jpg' ('image/jpeg')>\n"
     ]
    },
    {
     "name": "stderr",
     "output_type": "stream",
     "text": [
      "Using cache found in C:\\Users\\Playdata/.cache\\torch\\hub\\pytorch_vision_v0.6.0\n"
     ]
    },
    {
     "name": "stdout",
     "output_type": "stream",
     "text": [
      "count : 0\n",
      "Connection opened successfully.\n",
      "Database connection closed.\n",
      "count : 1\n",
      "Connection opened successfully.\n",
      "Database connection closed.\n",
      "count : 2\n",
      "Connection opened successfully.\n",
      "Database connection closed.\n",
      "count : 2\n",
      "Connection opened successfully.\n",
      "Database connection closed.\n",
      "count : 3\n",
      "Connection opened successfully.\n",
      "Database connection closed.\n",
      "count : 3\n",
      "Connection opened successfully."
     ]
    },
    {
     "name": "stderr",
     "output_type": "stream",
     "text": [
      "127.0.0.1 - - [21/Sep/2020 11:55:14] \"\u001b[37mPOST /imageSearch HTTP/1.1\u001b[0m\" 200 -\n"
     ]
    },
    {
     "name": "stdout",
     "output_type": "stream",
     "text": [
      "\n",
      "Database connection closed.\n",
      "count : 3\n",
      "Connection opened successfully.\n",
      "Database connection closed.\n",
      "count : 4\n",
      "Connection opened successfully.\n",
      "Database connection closed.\n",
      "742,740,1112,876,806\n",
      "<FileStorage: '0_0_프렌치_미니멀리즘을_실현한_33평_아파트.jpg' ('image/jpeg')>\n"
     ]
    },
    {
     "name": "stderr",
     "output_type": "stream",
     "text": [
      "Using cache found in C:\\Users\\Playdata/.cache\\torch\\hub\\pytorch_vision_v0.6.0\n"
     ]
    },
    {
     "name": "stdout",
     "output_type": "stream",
     "text": [
      "count : 0\n",
      "Connection opened successfully.\n",
      "Database connection closed.\n",
      "count : 1\n",
      "Connection opened successfully.\n",
      "Database connection closed.\n",
      "count : 2\n",
      "Connection opened successfully.\n",
      "Database connection closed.\n",
      "count : 2\n",
      "Connection opened successfully.\n",
      "Database connection closed.\n",
      "count : 3\n",
      "Connection opened successfully.\n",
      "Database connection closed.\n",
      "count : 3\n",
      "Connection opened successfully.\n"
     ]
    },
    {
     "name": "stderr",
     "output_type": "stream",
     "text": [
      "127.0.0.1 - - [21/Sep/2020 11:55:34] \"\u001b[37mPOST /imageSearch HTTP/1.1\u001b[0m\" 200 -\n"
     ]
    },
    {
     "name": "stdout",
     "output_type": "stream",
     "text": [
      "Database connection closed.\n",
      "count : 3\n",
      "Connection opened successfully.\n",
      "Database connection closed.\n",
      "count : 4\n",
      "Connection opened successfully.\n",
      "Database connection closed.\n",
      "742,740,1112,876,806\n",
      "<FileStorage: '0_3_Large_rooftop_with_panorama_city_view!.jpg' ('image/jpeg')>\n"
     ]
    },
    {
     "name": "stderr",
     "output_type": "stream",
     "text": [
      "Using cache found in C:\\Users\\Playdata/.cache\\torch\\hub\\pytorch_vision_v0.6.0\n"
     ]
    },
    {
     "name": "stdout",
     "output_type": "stream",
     "text": [
      "count : 0\n",
      "Connection opened successfully.\n",
      "Database connection closed.\n",
      "count : 0\n",
      "Connection opened successfully.\n",
      "Database connection closed.\n",
      "count : 1\n",
      "Connection opened successfully.\n",
      "Database connection closed.\n",
      "count : 1\n",
      "Connection opened successfully.\n",
      "Database connection closed.\n",
      "count : 2\n",
      "Connection opened successfully.\n"
     ]
    },
    {
     "name": "stderr",
     "output_type": "stream",
     "text": [
      "127.0.0.1 - - [21/Sep/2020 11:55:55] \"\u001b[37mPOST /imageSearch HTTP/1.1\u001b[0m\" 200 -\n"
     ]
    },
    {
     "name": "stdout",
     "output_type": "stream",
     "text": [
      "Database connection closed.\n",
      "count : 2\n",
      "Connection opened successfully.\n",
      "Database connection closed.\n",
      "count : 3\n",
      "Connection opened successfully.\n",
      "Database connection closed.\n",
      "count : 3\n",
      "Connection opened successfully.\n",
      "Database connection closed.\n",
      "count : 4\n",
      "Connection opened successfully.\n",
      "Database connection closed.\n",
      "874,714,804,816,921\n",
      "<FileStorage: '0_1_Large_rooftop_with_panorama_city_view!.jpg' ('image/jpeg')>\n"
     ]
    },
    {
     "name": "stderr",
     "output_type": "stream",
     "text": [
      "Using cache found in C:\\Users\\Playdata/.cache\\torch\\hub\\pytorch_vision_v0.6.0\n"
     ]
    },
    {
     "name": "stdout",
     "output_type": "stream",
     "text": [
      "count : 0\n",
      "Connection opened successfully.\n",
      "Database connection closed.\n",
      "count : 0\n",
      "Connection opened successfully.\n",
      "Database connection closed.\n",
      "count : 0\n",
      "Connection opened successfully.\n",
      "Database connection closed.\n",
      "count : 0\n",
      "Connection opened successfully.\n",
      "Database connection closed.\n",
      "count : 1\n",
      "Connection opened successfully.\n",
      "Database connection closed.\n",
      "count : 2\n",
      "Connection opened successfully.\n",
      "Database connection closed."
     ]
    },
    {
     "name": "stderr",
     "output_type": "stream",
     "text": [
      "127.0.0.1 - - [21/Sep/2020 11:56:12] \"\u001b[37mPOST /imageSearch HTTP/1.1\u001b[0m\" 200 -\n"
     ]
    },
    {
     "name": "stdout",
     "output_type": "stream",
     "text": [
      "\n",
      "count : 2\n",
      "Connection opened successfully.\n",
      "Database connection closed.\n",
      "count : 2\n",
      "Connection opened successfully.\n",
      "Database connection closed.\n",
      "count : 2\n",
      "Connection opened successfully.\n",
      "Database connection closed.\n",
      "count : 3\n",
      "Connection opened successfully.\n",
      "Database connection closed.\n",
      "count : 4\n",
      "Connection opened successfully.\n",
      "Database connection closed.\n",
      "722,820,910,914,885\n",
      "<FileStorage: '0_0_프렌치_미니멀리즘을_실현한_33평_아파트.jpg' ('image/jpeg')>\n"
     ]
    },
    {
     "name": "stderr",
     "output_type": "stream",
     "text": [
      "Using cache found in C:\\Users\\Playdata/.cache\\torch\\hub\\pytorch_vision_v0.6.0\n"
     ]
    },
    {
     "name": "stdout",
     "output_type": "stream",
     "text": [
      "count : 0\n",
      "Connection opened successfully.\n",
      "Database connection closed.\n",
      "count : 1\n",
      "Connection opened successfully.\n",
      "Database connection closed.\n",
      "count : 2\n",
      "Connection opened successfully.\n",
      "Database connection closed.\n",
      "count : 2\n",
      "Connection opened successfully.\n",
      "Database connection closed.\n",
      "count : 3\n",
      "Connection opened successfully.\n"
     ]
    },
    {
     "name": "stderr",
     "output_type": "stream",
     "text": [
      "127.0.0.1 - - [21/Sep/2020 11:57:10] \"\u001b[37mPOST /imageSearch HTTP/1.1\u001b[0m\" 200 -\n"
     ]
    },
    {
     "name": "stdout",
     "output_type": "stream",
     "text": [
      "Database connection closed.\n",
      "count : 3\n",
      "Connection opened successfully.\n",
      "Database connection closed.\n",
      "count : 3\n",
      "Connection opened successfully.\n",
      "Database connection closed.\n",
      "count : 4\n",
      "Connection opened successfully.\n",
      "Database connection closed.\n",
      "742,740,1112,876,806\n",
      "<FileStorage: '0_1_프렌치_미니멀리즘을_실현한_33평_아파트.jpg' ('image/jpeg')>\n"
     ]
    },
    {
     "name": "stderr",
     "output_type": "stream",
     "text": [
      "Using cache found in C:\\Users\\Playdata/.cache\\torch\\hub\\pytorch_vision_v0.6.0\n"
     ]
    },
    {
     "name": "stdout",
     "output_type": "stream",
     "text": [
      "count : 0\n",
      "Connection opened successfully.\n",
      "Database connection closed.\n",
      "count : 1\n",
      "Connection opened successfully.\n",
      "Database connection closed.\n",
      "count : 2\n",
      "Connection opened successfully.\n",
      "Database connection closed.\n",
      "count : 2\n",
      "Connection opened successfully.\n",
      "Database connection closed.\n",
      "count : 3\n",
      "Connection opened successfully.\n",
      "Database connection closed.\n",
      "count : 3\n",
      "Connection opened successfully.\n",
      "Database connection closed.\n",
      "count : 3\n",
      "Connection opened successfully.\n",
      "Database connection closed.\n",
      "count : 3\n",
      "Connection opened successfully.\n",
      "Database connection closed.\n",
      "count : 3\n",
      "Connection opened successfully.\n",
      "Database connection closed.\n",
      "count : 4\n",
      "Connection opened successfully.\n",
      "Database connection closed.\n",
      "count : 4\n",
      "Connection opened successfully.\n",
      "Database connection closed.\n",
      "count : 4\n",
      "Connection opened successfully.\n",
      "Database connection closed.\n",
      "count : 4\n",
      "Connection opened successfully.\n"
     ]
    },
    {
     "name": "stderr",
     "output_type": "stream",
     "text": [
      "127.0.0.1 - - [21/Sep/2020 11:57:23] \"\u001b[37mPOST /imageSearch HTTP/1.1\u001b[0m\" 200 -\n"
     ]
    },
    {
     "name": "stdout",
     "output_type": "stream",
     "text": [
      "Database connection closed.\n",
      "742,740,820,1152,763\n",
      "<FileStorage: '0_2_펭귄키친_합정역_베이킹_스튜디오.jpg' ('image/jpeg')>\n"
     ]
    },
    {
     "name": "stderr",
     "output_type": "stream",
     "text": [
      "Using cache found in C:\\Users\\Playdata/.cache\\torch\\hub\\pytorch_vision_v0.6.0\n"
     ]
    },
    {
     "name": "stdout",
     "output_type": "stream",
     "text": [
      "count : 0\n",
      "Connection opened successfully.\n",
      "Database connection closed.\n",
      "count : 0\n",
      "Connection opened successfully.\n",
      "Database connection closed.\n",
      "count : 0\n",
      "Connection opened successfully.\n",
      "Database connection closed.\n",
      "count : 1\n",
      "Connection opened successfully.\n",
      "Database connection closed.\n",
      "count : 1\n",
      "Connection opened successfully.\n",
      "Database connection closed.\n",
      "count : 1\n",
      "Connection opened successfully."
     ]
    },
    {
     "name": "stderr",
     "output_type": "stream",
     "text": [
      "127.0.0.1 - - [21/Sep/2020 11:57:37] \"\u001b[37mPOST /imageSearch HTTP/1.1\u001b[0m\" 200 -\n"
     ]
    },
    {
     "name": "stdout",
     "output_type": "stream",
     "text": [
      "\n",
      "Database connection closed.\n",
      "count : 2\n",
      "Connection opened successfully.\n",
      "Database connection closed.\n",
      "count : 3\n",
      "Connection opened successfully.\n",
      "Database connection closed.\n",
      "count : 4\n",
      "Connection opened successfully.\n",
      "Database connection closed.\n",
      "866,869,746,1103,1137\n",
      "<FileStorage: '0_0_서울문스튜디오_B룸.jpg' ('image/jpeg')>\n"
     ]
    },
    {
     "name": "stderr",
     "output_type": "stream",
     "text": [
      "Using cache found in C:\\Users\\Playdata/.cache\\torch\\hub\\pytorch_vision_v0.6.0\n"
     ]
    },
    {
     "name": "stdout",
     "output_type": "stream",
     "text": [
      "count : 0\n",
      "Connection opened successfully.\n",
      "Database connection closed.\n",
      "count : 0\n",
      "Connection opened successfully.\n",
      "Database connection closed.\n",
      "count : 1\n",
      "Connection opened successfully.\n",
      "Database connection closed.\n",
      "count : 1\n",
      "Connection opened successfully.\n",
      "Database connection closed.\n",
      "count : 1\n",
      "Connection opened successfully.\n",
      "Database connection closed.\n",
      "count : 2\n",
      "Connection opened successfully.\n",
      "Database connection closed.\n",
      "count : 2\n",
      "Connection opened successfully.\n",
      "Database connection closed.\n",
      "count : 2\n",
      "Connection opened successfully.\n",
      "Database connection closed.\n",
      "count : 2\n",
      "Connection opened successfully.\n",
      "Database connection closed.\n",
      "count : 2\n",
      "Connection opened successfully.\n",
      "Database connection closed.\n",
      "count : 2\n",
      "Connection opened successfully.\n",
      "Database connection closed.\n",
      "count : 2\n",
      "Connection opened successfully.\n",
      "Database connection closed.\n",
      "count : 3\n",
      "Connection opened successfully.\n",
      "Database connection closed.\n",
      "count : 3\n",
      "Connection opened successfully.\n",
      "Database connection closed.\n",
      "count : 3\n",
      "Connection opened successfully.\n",
      "Database connection closed.\n",
      "count : 3\n",
      "Connection opened successfully.\n",
      "Database connection closed.\n",
      "count : 3\n",
      "Connection opened successfully.\n",
      "Database connection closed.\n",
      "count : 3\n",
      "Connection opened successfully.\n",
      "Database connection closed.\n",
      "count : 3\n",
      "Connection opened successfully.\n",
      "Database connection closed.\n",
      "count : 4\n",
      "Connection opened successfully.\n",
      "Database connection closed.\n",
      "count : 4\n",
      "Connection opened successfully.\n",
      "Database connection closed.\n",
      "count : 4\n",
      "Connection opened successfully.\n",
      "Database connection closed.\n",
      "count : 4\n",
      "Connection opened successfully.\n"
     ]
    },
    {
     "name": "stderr",
     "output_type": "stream",
     "text": [
      "127.0.0.1 - - [21/Sep/2020 12:00:22] \"\u001b[37mPOST /imageSearch HTTP/1.1\u001b[0m\" 200 -\n"
     ]
    },
    {
     "name": "stdout",
     "output_type": "stream",
     "text": [
      "Database connection closed.\n",
      "770,885,714,722,1130\n",
      "<FileStorage: '0_5_펭귄키친_합정역_베이킹_스튜디오.jpg' ('image/jpeg')>\n"
     ]
    },
    {
     "name": "stderr",
     "output_type": "stream",
     "text": [
      "Using cache found in C:\\Users\\Playdata/.cache\\torch\\hub\\pytorch_vision_v0.6.0\n"
     ]
    },
    {
     "name": "stdout",
     "output_type": "stream",
     "text": [
      "count : 0\n",
      "Connection opened successfully.\n",
      "Database connection closed.\n",
      "count : 0\n",
      "Connection opened successfully.\n",
      "Database connection closed.\n",
      "count : 0\n",
      "Connection opened successfully.\n",
      "Database connection closed.\n",
      "count : 0\n",
      "Connection opened successfully.\n",
      "Database connection closed.\n",
      "count : 1\n",
      "Connection opened successfully.\n",
      "Database connection closed.\n",
      "count : 2\n",
      "Connection opened successfully.\n",
      "Database connection closed.\n",
      "count : 3\n"
     ]
    },
    {
     "name": "stderr",
     "output_type": "stream",
     "text": [
      "127.0.0.1 - - [21/Sep/2020 12:00:41] \"\u001b[37mPOST /imageSearch HTTP/1.1\u001b[0m\" 200 -\n"
     ]
    },
    {
     "name": "stdout",
     "output_type": "stream",
     "text": [
      "Connection opened successfully.\n",
      "Database connection closed.\n",
      "count : 4\n",
      "Connection opened successfully.\n",
      "Database connection closed.\n",
      "count : 4\n",
      "Connection opened successfully.\n",
      "Database connection closed.\n",
      "722,885,912,10,1136\n",
      "<FileStorage: '0_0_Large_rooftop_with_panorama_city_view!.jpg' ('image/jpeg')>\n"
     ]
    },
    {
     "name": "stderr",
     "output_type": "stream",
     "text": [
      "Using cache found in C:\\Users\\Playdata/.cache\\torch\\hub\\pytorch_vision_v0.6.0\n"
     ]
    },
    {
     "name": "stdout",
     "output_type": "stream",
     "text": [
      "count : 0\n",
      "Connection opened successfully.\n",
      "Database connection closed.\n",
      "count : 0\n",
      "Connection opened successfully.\n",
      "Database connection closed.\n",
      "count : 0\n",
      "Connection opened successfully.\n",
      "Database connection closed.\n",
      "count : 1\n",
      "Connection opened successfully.\n",
      "Database connection closed.\n",
      "count : 1\n",
      "Connection opened successfully.\n",
      "Database connection closed.\n",
      "count : 2\n"
     ]
    },
    {
     "name": "stderr",
     "output_type": "stream",
     "text": [
      "127.0.0.1 - - [21/Sep/2020 12:02:05] \"\u001b[37mPOST /imageSearch HTTP/1.1\u001b[0m\" 200 -\n"
     ]
    },
    {
     "name": "stdout",
     "output_type": "stream",
     "text": [
      "Connection opened successfully.\n",
      "Database connection closed.\n",
      "count : 2\n",
      "Connection opened successfully.\n",
      "Database connection closed.\n",
      "count : 2\n",
      "Connection opened successfully.\n",
      "Database connection closed.\n",
      "count : 3\n",
      "Connection opened successfully.\n",
      "Database connection closed.\n",
      "count : 4\n",
      "Connection opened successfully.\n",
      "Database connection closed.\n",
      "875,860,773,1109,814\n",
      "<FileStorage: '0_0_Large_rooftop_with_panorama_city_view!.jpg' ('image/jpeg')>\n"
     ]
    },
    {
     "name": "stderr",
     "output_type": "stream",
     "text": [
      "Using cache found in C:\\Users\\Playdata/.cache\\torch\\hub\\pytorch_vision_v0.6.0\n"
     ]
    },
    {
     "name": "stdout",
     "output_type": "stream",
     "text": [
      "count : 0\n",
      "Connection opened successfully.\n",
      "Database connection closed.\n",
      "count : 0\n",
      "Connection opened successfully.\n",
      "Database connection closed.\n",
      "count : 0\n",
      "Connection opened successfully.\n",
      "Database connection closed.\n",
      "count : 1\n",
      "Connection opened successfully.\n",
      "Database connection closed.\n",
      "count : 1\n",
      "Connection opened successfully.\n",
      "Database connection closed.\n",
      "count : 2\n"
     ]
    },
    {
     "name": "stderr",
     "output_type": "stream",
     "text": [
      "127.0.0.1 - - [21/Sep/2020 12:05:14] \"\u001b[37mPOST /imageSearch HTTP/1.1\u001b[0m\" 200 -\n"
     ]
    },
    {
     "name": "stdout",
     "output_type": "stream",
     "text": [
      "Connection opened successfully.\n",
      "Database connection closed.\n",
      "count : 2\n",
      "Connection opened successfully.\n",
      "Database connection closed.\n",
      "count : 2\n",
      "Connection opened successfully.\n",
      "Database connection closed.\n",
      "count : 3\n",
      "Connection opened successfully.\n",
      "Database connection closed.\n",
      "count : 4\n",
      "Connection opened successfully.\n",
      "Database connection closed.\n",
      "875,860,773,1109,814\n",
      "<FileStorage: '1_4_단독주택_자연광_렌탈스튜디오_인피니트_메종_3층룸입니다..jpg' ('image/jpeg')>\n"
     ]
    },
    {
     "name": "stderr",
     "output_type": "stream",
     "text": [
      "Using cache found in C:\\Users\\Playdata/.cache\\torch\\hub\\pytorch_vision_v0.6.0\n"
     ]
    },
    {
     "name": "stdout",
     "output_type": "stream",
     "text": [
      "count : 0\n",
      "Connection opened successfully.\n",
      "Database connection closed.\n",
      "count : 0\n",
      "Connection opened successfully.\n",
      "Database connection closed.\n",
      "count : 1\n",
      "Connection opened successfully.\n",
      "Database connection closed.\n",
      "count : 1\n",
      "Connection opened successfully.\n",
      "Database connection closed.\n",
      "count : 2\n",
      "Connection opened successfully.\n"
     ]
    },
    {
     "name": "stderr",
     "output_type": "stream",
     "text": [
      "127.0.0.1 - - [21/Sep/2020 12:05:36] \"\u001b[37mPOST /imageSearch HTTP/1.1\u001b[0m\" 200 -\n"
     ]
    },
    {
     "name": "stdout",
     "output_type": "stream",
     "text": [
      "Database connection closed.\n",
      "count : 3\n",
      "Connection opened successfully.\n",
      "Database connection closed.\n",
      "count : 3\n",
      "Connection opened successfully.\n",
      "Database connection closed.\n",
      "count : 4\n",
      "Connection opened successfully.\n",
      "Database connection closed.\n",
      "count : 4\n",
      "Connection opened successfully.\n",
      "Database connection closed.\n",
      "count : 4\n",
      "Connection opened successfully.\n",
      "Database connection closed.\n",
      "1096,740,742,1151,745\n",
      "<FileStorage: '1_4_단독주택_자연광_렌탈스튜디오_인피니트_메종_3층룸입니다..jpg' ('image/jpeg')>\n"
     ]
    },
    {
     "name": "stderr",
     "output_type": "stream",
     "text": [
      "Using cache found in C:\\Users\\Playdata/.cache\\torch\\hub\\pytorch_vision_v0.6.0\n"
     ]
    },
    {
     "name": "stdout",
     "output_type": "stream",
     "text": [
      "count : 0\n",
      "Connection opened successfully.\n",
      "Database connection closed.\n",
      "count : 0\n",
      "Connection opened successfully.\n",
      "Database connection closed.\n",
      "count : 1\n",
      "Connection opened successfully.\n",
      "Database connection closed.\n",
      "count : 1\n",
      "Connection opened successfully.\n",
      "Database connection closed.\n",
      "count : 2\n",
      "Connection opened successfully.\n"
     ]
    },
    {
     "name": "stderr",
     "output_type": "stream",
     "text": [
      "127.0.0.1 - - [21/Sep/2020 12:08:07] \"\u001b[37mPOST /imageSearch HTTP/1.1\u001b[0m\" 200 -\n"
     ]
    },
    {
     "name": "stdout",
     "output_type": "stream",
     "text": [
      "Database connection closed.\n",
      "count : 3\n",
      "Connection opened successfully.\n",
      "Database connection closed.\n",
      "count : 3\n",
      "Connection opened successfully.\n",
      "Database connection closed.\n",
      "count : 4\n",
      "Connection opened successfully.\n",
      "Database connection closed.\n",
      "count : 4\n",
      "Connection opened successfully.\n",
      "Database connection closed.\n",
      "count : 4\n",
      "Connection opened successfully.\n",
      "Database connection closed.\n",
      "1096,740,742,1151,745\n",
      "<FileStorage: '0_5_펭귄키친_합정역_베이킹_스튜디오.jpg' ('image/jpeg')>\n"
     ]
    },
    {
     "name": "stderr",
     "output_type": "stream",
     "text": [
      "Using cache found in C:\\Users\\Playdata/.cache\\torch\\hub\\pytorch_vision_v0.6.0\n"
     ]
    },
    {
     "name": "stdout",
     "output_type": "stream",
     "text": [
      "count : 0\n",
      "Connection opened successfully.\n",
      "Database connection closed.\n",
      "count : 0\n",
      "Connection opened successfully.\n",
      "Database connection closed.\n",
      "count : 0\n",
      "Connection opened successfully.\n",
      "Database connection closed.\n",
      "count : 0\n",
      "Connection opened successfully.\n",
      "Database connection closed.\n",
      "count : 1\n",
      "Connection opened successfully.\n",
      "Database connection closed."
     ]
    },
    {
     "name": "stderr",
     "output_type": "stream",
     "text": [
      "127.0.0.1 - - [21/Sep/2020 14:02:41] \"\u001b[37mPOST /imageSearch HTTP/1.1\u001b[0m\" 200 -\n"
     ]
    },
    {
     "name": "stdout",
     "output_type": "stream",
     "text": [
      "\n",
      "count : 2\n",
      "Connection opened successfully.\n",
      "Database connection closed.\n",
      "count : 3\n",
      "Connection opened successfully.\n",
      "Database connection closed.\n",
      "count : 4\n",
      "Connection opened successfully.\n",
      "Database connection closed.\n",
      "count : 4\n",
      "Connection opened successfully.\n",
      "Database connection closed.\n",
      "722,885,912,10,1136\n"
     ]
    },
    {
     "name": "stderr",
     "output_type": "stream",
     "text": [
      "127.0.0.1 - - [21/Sep/2020 14:03:22] \"\u001b[31m\u001b[1mPOST /imageSearch HTTP/1.1\u001b[0m\" 400 -\n"
     ]
    },
    {
     "name": "stdout",
     "output_type": "stream",
     "text": [
      "<FileStorage: '0_0_must_be.jpg' ('image/jpeg')>\n"
     ]
    },
    {
     "name": "stderr",
     "output_type": "stream",
     "text": [
      "Using cache found in C:\\Users\\Playdata/.cache\\torch\\hub\\pytorch_vision_v0.6.0\n"
     ]
    },
    {
     "name": "stdout",
     "output_type": "stream",
     "text": [
      "count : 0\n",
      "Connection opened successfully.\n",
      "Database connection closed.\n",
      "count : 1\n",
      "Connection opened successfully.\n",
      "Database connection closed.\n",
      "count : 2\n",
      "Connection opened successfully.\n",
      "Database connection closed.\n",
      "count : 2\n",
      "Connection opened successfully.\n",
      "Database connection closed.\n",
      "count : 3\n",
      "Connection opened successfully.\n",
      "Database connection closed.\n",
      "count : 4\n",
      "Connection opened successfully.\n",
      "Database connection closed.\n",
      "10,1112,806,1134,1076\n"
     ]
    },
    {
     "name": "stderr",
     "output_type": "stream",
     "text": [
      "127.0.0.1 - - [21/Sep/2020 14:04:43] \"\u001b[37mPOST /imageSearch HTTP/1.1\u001b[0m\" 200 -\n"
     ]
    },
    {
     "name": "stdout",
     "output_type": "stream",
     "text": [
      "<FileStorage: '37_5_티앤북스_경성대점.jpg' ('image/jpeg')>\n"
     ]
    },
    {
     "name": "stderr",
     "output_type": "stream",
     "text": [
      "Using cache found in C:\\Users\\Playdata/.cache\\torch\\hub\\pytorch_vision_v0.6.0\n"
     ]
    },
    {
     "name": "stdout",
     "output_type": "stream",
     "text": [
      "count : 0\n",
      "Connection opened successfully.\n",
      "Database connection closed.\n",
      "count : 0\n",
      "Connection opened successfully.\n",
      "Database connection closed.\n",
      "count : 0\n",
      "Connection opened successfully.\n",
      "Database connection closed.\n",
      "count : 0\n",
      "Connection opened successfully.\n",
      "Database connection closed.\n",
      "count : 1\n",
      "Connection opened successfully.\n",
      "Database connection closed.\n",
      "count : 1\n",
      "Connection opened successfully.\n",
      "Database connection closed.\n",
      "count : 2\n",
      "Connection opened successfully.\n",
      "Database connection closed.\n",
      "count : 3\n",
      "Connection opened successfully.\n",
      "Database connection closed.\n",
      "count : 4\n",
      "Connection opened successfully.\n",
      "Database connection closed.\n",
      "count : 4\n",
      "Connection opened successfully.\n",
      "Database connection closed.\n",
      "count : 4\n",
      "Connection opened successfully.\n",
      "Database connection closed.\n",
      "count : 4\n",
      "Connection opened successfully.\n",
      "Database connection closed.\n",
      "1146,912,726,1086,722"
     ]
    },
    {
     "name": "stderr",
     "output_type": "stream",
     "text": [
      "127.0.0.1 - - [21/Sep/2020 14:05:10] \"\u001b[37mPOST /imageSearch HTTP/1.1\u001b[0m\" 200 -\n"
     ]
    },
    {
     "name": "stdout",
     "output_type": "stream",
     "text": [
      "\n",
      "<FileStorage: '37_5_티앤북스_경성대점.jpg' ('image/jpeg')>\n"
     ]
    },
    {
     "name": "stderr",
     "output_type": "stream",
     "text": [
      "Using cache found in C:\\Users\\Playdata/.cache\\torch\\hub\\pytorch_vision_v0.6.0\n"
     ]
    },
    {
     "name": "stdout",
     "output_type": "stream",
     "text": [
      "count : 0\n",
      "Connection opened successfully.\n",
      "Database connection closed.\n",
      "count : 0\n",
      "Connection opened successfully.\n",
      "Database connection closed.\n",
      "count : 0\n",
      "Connection opened successfully.\n",
      "Database connection closed.\n",
      "count : 0\n",
      "Connection opened successfully.\n",
      "Database connection closed.\n",
      "count : 1\n",
      "Connection opened successfully.\n",
      "Database connection closed.\n",
      "count : 1\n",
      "Connection opened successfully.\n"
     ]
    },
    {
     "name": "stderr",
     "output_type": "stream",
     "text": [
      "127.0.0.1 - - [21/Sep/2020 14:05:44] \"\u001b[37mPOST /imageSearch HTTP/1.1\u001b[0m\" 200 -\n"
     ]
    },
    {
     "name": "stdout",
     "output_type": "stream",
     "text": [
      "Database connection closed.\n",
      "count : 2\n",
      "Connection opened successfully.\n",
      "Database connection closed.\n",
      "count : 3\n",
      "Connection opened successfully.\n",
      "Database connection closed.\n",
      "count : 4\n",
      "Connection opened successfully.\n",
      "Database connection closed.\n",
      "count : 4\n",
      "Connection opened successfully.\n",
      "Database connection closed.\n",
      "count : 4\n",
      "Connection opened successfully.\n",
      "Database connection closed.\n",
      "count : 4\n",
      "Connection opened successfully.\n",
      "Database connection closed.\n",
      "1146,912,726,1086,722\n"
     ]
    },
    {
     "name": "stderr",
     "output_type": "stream",
     "text": [
      "127.0.0.1 - - [21/Sep/2020 14:22:08] \"\u001b[31m\u001b[1mPOST /imageSearch HTTP/1.1\u001b[0m\" 400 -\n"
     ]
    },
    {
     "name": "stdout",
     "output_type": "stream",
     "text": [
      "<FileStorage: '37_5_티앤북스_경성대점.jpg' ('image/jpeg')>\n"
     ]
    },
    {
     "name": "stderr",
     "output_type": "stream",
     "text": [
      "Using cache found in C:\\Users\\Playdata/.cache\\torch\\hub\\pytorch_vision_v0.6.0\n"
     ]
    },
    {
     "name": "stdout",
     "output_type": "stream",
     "text": [
      "count : 0\n",
      "Connection opened successfully.\n",
      "Database connection closed.\n",
      "count : 0\n",
      "Connection opened successfully.\n",
      "Database connection closed.\n",
      "count : 0\n",
      "Connection opened successfully.\n",
      "Database connection closed.\n",
      "count : 0\n",
      "Connection opened successfully.\n",
      "Database connection closed.\n",
      "count : 1\n",
      "Connection opened successfully.\n",
      "Database connection closed.\n",
      "count : 1\n",
      "Connection opened successfully.\n",
      "Database connection closed.\n",
      "count : 2\n",
      "Connection opened successfully.\n",
      "Database connection closed.\n",
      "count : 3\n",
      "Connection opened successfully.\n",
      "Database connection closed.\n",
      "count : 4\n",
      "Connection opened successfully.\n",
      "Database connection closed.\n",
      "count : 4\n",
      "Connection opened successfully.\n",
      "Database connection closed.\n",
      "count : 4\n",
      "Connection opened successfully.\n",
      "Database connection closed.\n",
      "count : 4\n"
     ]
    },
    {
     "name": "stderr",
     "output_type": "stream",
     "text": [
      "127.0.0.1 - - [21/Sep/2020 14:23:48] \"\u001b[37mPOST /imageSearch HTTP/1.1\u001b[0m\" 200 -\n"
     ]
    },
    {
     "name": "stdout",
     "output_type": "stream",
     "text": [
      "Connection opened successfully.\n",
      "Database connection closed.\n",
      "1146,912,726,1086,722\n"
     ]
    },
    {
     "name": "stderr",
     "output_type": "stream",
     "text": [
      "127.0.0.1 - - [21/Sep/2020 16:12:27] \"\u001b[37mGET /recommend HTTP/1.1\u001b[0m\" 200 -\n"
     ]
    },
    {
     "name": "stdout",
     "output_type": "stream",
     "text": [
      "Connection opened successfully.\n",
      "Database connection closed.\n"
     ]
    }
   ],
   "source": [
    "# 서버를 위한 import\n",
    "from flask import Flask, request, jsonify, send_from_directory\n",
    "from flask_cors import CORS\n",
    "from flask_restful import Resource, Api\n",
    "from dao.reco_dao import get_reco_studio, get_ranked_studio\n",
    "\n",
    "# 다른 component import\n",
    "# from controller import data_controller as dc\n",
    "from controller import reco_controller as rc\n",
    "# from controller import tag_data_controller as tc\n",
    "from controller import image_search_controller as ic\n",
    "\n",
    "import os\n",
    "\n",
    "app = Flask(__name__, instance_relative_config=True)\n",
    "cors = CORS(app, resources={r'*': {'origins': '*'}})\n",
    "\n",
    "@app.route(\"/imageSearch\", methods = ['POST'])\n",
    "def image_search():\n",
    "    if request.method == 'POST':\n",
    "        img = request.files[\"image\"]\n",
    "        print(img)\n",
    "        result = ic.get_stuIds_by_img(img, app.instance_path[:-18])\n",
    "        print(result)\n",
    "        return jsonify(result)\n",
    "    \n",
    "@app.route(\"/recommend/<cust_id>\", methods = ['GET'])\n",
    "def main_recommend(cust_id):\n",
    "    if request.method == 'GET':\n",
    "        result = rc.get_reco_studios(int(cust_id),app.instance_path[:-9])\n",
    "        return jsonify(result)\n",
    "\n",
    "@app.route(\"/recommend\", methods = ['GET'])\n",
    "def rank_recommend():\n",
    "    if request.method == 'GET':\n",
    "        result = rc.get_ranked_studios()\n",
    "        return jsonify(result)\n",
    "        \n",
    "@app.route(\"/tag/<stuId>\", methods = ['GET'])\n",
    "def sim_tag(stuId):\n",
    "    if request.method == 'GET':\n",
    "        result = tc.tagData(int(stuId))\n",
    "    return jsonify(result)\n",
    "# 서버 정보(as properties)\n",
    "if __name__ == \"__main__\":              \n",
    "    app.run(host=\"127.0.0.1\", port=\"5000\")"
   ]
  }
 ],
 "metadata": {
  "kernelspec": {
   "display_name": "Python 3",
   "language": "python",
   "name": "python3"
  },
  "language_info": {
   "codemirror_mode": {
    "name": "ipython",
    "version": 3
   },
   "file_extension": ".py",
   "mimetype": "text/x-python",
   "name": "python",
   "nbconvert_exporter": "python",
   "pygments_lexer": "ipython3",
   "version": "3.7.7"
  }
 },
 "nbformat": 4,
 "nbformat_minor": 4
}
