{
 "cells": [
  {
   "cell_type": "code",
   "execution_count": 4,
   "metadata": {},
   "outputs": [],
   "source": [
    "import pandas as pd\n",
    "import random\n",
    "df = pd.read_csv(\n",
    "    'C:/바탕 화면/playdata/ice/eclipse/Devils_Project/dataWork/resources/dataset/total_dataset_trim(ver1).csv')\n",
    "item_num = 9\n",
    "\n",
    "companys = ['11@sample.com', '22@sample.com', '33@sample.com', '44@sample.com', '55@sample.com',\n",
    "            '66@sample.com', '77@sample.com', '88@sample.com', '11@sample.com', '99@sample.com', '100@sample.com']\n",
    "\n",
    "f = open('query.txt', mode='wt', encoding='utf-8')\n",
    "\n",
    "# company_num 나중에 랜덤으로 들어가게 해야함\n",
    "# num 은 1씩 증가해야함\n",
    "for i in range(0, 20):\n",
    "    company_num = int(random.randrange(0, 10))\n",
    "    num = i\n",
    "    query = 'insert into studio(com_id, category_id, name, description, rule, main_img, port_img ,floor) values(' + \\\n",
    "        \"'\"+companys[company_num].replace(\"'\", '\"')+\"',\"+str(item_num)+\",'\"+df['studio_name'][num].replace(\"'\", '\"').replace(\" \", \"_\") + \\\n",
    "        \"','\"+df['description'][num].replace(\"'\", '\"')+\"','\"+df['rule'][num].replace(\"'\", '\"')+\"','\" + \\\n",
    "        str(num)+\"_0_\"+df['studio_name'][num].replace(\"'\", '\"').replace(\" \", \"_\")+\".jpg,\"+str(num)+\"_1_\" + \\\n",
    "        df['studio_name'][num].replace(\"'\", '\"').replace(\" \", \"_\")+\".jpg,\" + \\\n",
    "        str(num)+\"_2_\"+df['studio_name'][num].replace(\"'\", '\"').replace(\" \", \"_\") + \\\n",
    "        \".jpg'\"+\",'\"+str(num)+\"_3_\"+df['studio_name'][num].replace(\"'\", '\"').replace(\" \", \"_\")+\".jpg,\"+str(num)+\"_4_\" + \\\n",
    "        df['studio_name'][num].replace(\"'\", '\"').replace(\" \", \"_\")+\".jpg,\" + \\\n",
    "        str(num)+\"_5_\"+df['studio_name'][num].replace(\"'\", '\"').replace(\" \", \"_\") + \\\n",
    "        \".jpg'\"+\",\"+str(df['floor'][num])+\"); \\n\\n\"\n",
    "    f.write(query)\n",
    "\n",
    "f.close()"
   ]
  },
  {
   "cell_type": "code",
   "execution_count": 44,
   "metadata": {},
   "outputs": [
    {
     "ename": "TypeError",
     "evalue": "can only concatenate str (not \"numpy.int64\") to str",
     "output_type": "error",
     "traceback": [
      "\u001b[1;31m---------------------------------------------------------------------------\u001b[0m",
      "\u001b[1;31mTypeError\u001b[0m                                 Traceback (most recent call last)",
      "\u001b[1;32m<ipython-input-44-c7c751a07058>\u001b[0m in \u001b[0;36m<module>\u001b[1;34m\u001b[0m\n\u001b[0;32m     24\u001b[0m         \u001b[0mdf\u001b[0m\u001b[1;33m[\u001b[0m\u001b[1;34m'studio_name'\u001b[0m\u001b[1;33m]\u001b[0m\u001b[1;33m[\u001b[0m\u001b[0mnum\u001b[0m\u001b[1;33m]\u001b[0m\u001b[1;33m.\u001b[0m\u001b[0mreplace\u001b[0m\u001b[1;33m(\u001b[0m\u001b[1;34m\"'\"\u001b[0m\u001b[1;33m,\u001b[0m \u001b[1;34m'\"'\u001b[0m\u001b[1;33m)\u001b[0m\u001b[1;33m.\u001b[0m\u001b[0mreplace\u001b[0m\u001b[1;33m(\u001b[0m\u001b[1;34m\" \"\u001b[0m\u001b[1;33m,\u001b[0m \u001b[1;34m\"_\"\u001b[0m\u001b[1;33m)\u001b[0m\u001b[1;33m+\u001b[0m\u001b[1;34m\".jpg,\"\u001b[0m \u001b[1;33m+\u001b[0m\u001b[0;31m \u001b[0m\u001b[0;31m\\\u001b[0m\u001b[1;33m\u001b[0m\u001b[1;33m\u001b[0m\u001b[0m\n\u001b[0;32m     25\u001b[0m         \u001b[0mstr\u001b[0m\u001b[1;33m(\u001b[0m\u001b[0mnum\u001b[0m\u001b[1;33m)\u001b[0m\u001b[1;33m+\u001b[0m\u001b[1;34m\"_5_\"\u001b[0m\u001b[1;33m+\u001b[0m\u001b[0mdf\u001b[0m\u001b[1;33m[\u001b[0m\u001b[1;34m'studio_name'\u001b[0m\u001b[1;33m]\u001b[0m\u001b[1;33m[\u001b[0m\u001b[0mnum\u001b[0m\u001b[1;33m]\u001b[0m\u001b[1;33m.\u001b[0m\u001b[0mreplace\u001b[0m\u001b[1;33m(\u001b[0m\u001b[1;34m\"'\"\u001b[0m\u001b[1;33m,\u001b[0m \u001b[1;34m'\"'\u001b[0m\u001b[1;33m)\u001b[0m\u001b[1;33m.\u001b[0m\u001b[0mreplace\u001b[0m\u001b[1;33m(\u001b[0m\u001b[1;34m\" \"\u001b[0m\u001b[1;33m,\u001b[0m \u001b[1;34m\"_\"\u001b[0m\u001b[1;33m)\u001b[0m \u001b[1;33m+\u001b[0m\u001b[0;31m \u001b[0m\u001b[0;31m\\\u001b[0m\u001b[1;33m\u001b[0m\u001b[1;33m\u001b[0m\u001b[0m\n\u001b[1;32m---> 26\u001b[1;33m         \u001b[1;34m\".jpg'\"\u001b[0m\u001b[1;33m+\u001b[0m\u001b[1;34m\",\"\u001b[0m\u001b[1;33m+\u001b[0m\u001b[0mstr\u001b[0m\u001b[1;33m(\u001b[0m\u001b[0mdf\u001b[0m\u001b[1;33m[\u001b[0m\u001b[1;34m'floor'\u001b[0m\u001b[1;33m]\u001b[0m\u001b[1;33m[\u001b[0m\u001b[0mnum\u001b[0m\u001b[1;33m]\u001b[0m\u001b[1;33m)\u001b[0m\u001b[1;33m+\u001b[0m\u001b[1;34m\"); \\n\\n\"\u001b[0m\u001b[1;33m\u001b[0m\u001b[1;33m\u001b[0m\u001b[0m\n\u001b[0m\u001b[0;32m     27\u001b[0m     \u001b[0mf\u001b[0m\u001b[1;33m.\u001b[0m\u001b[0mwrite\u001b[0m\u001b[1;33m(\u001b[0m\u001b[0mquery\u001b[0m\u001b[1;33m)\u001b[0m\u001b[1;33m\u001b[0m\u001b[1;33m\u001b[0m\u001b[0m\n\u001b[0;32m     28\u001b[0m \u001b[1;33m\u001b[0m\u001b[0m\n",
      "\u001b[1;31mTypeError\u001b[0m: can only concatenate str (not \"numpy.int64\") to str"
     ]
    }
   ],
   "source": [
    "import pandas as pd\n",
    "import random\n",
    "df = pd.read_csv(\n",
    "    'C:/바탕 화면/playdata/ice/eclipse/Devils_Project/dataWork/resources/dataset/total_dataset_trim(ver1).csv')\n",
    "item_num = 9\n",
    "\n",
    "companys = ['11@sample.com', '22@sample.com', '33@sample.com', '44@sample.com', '55@sample.com',\n",
    "            '66@sample.com', '77@sample.com', '88@sample.com', '11@sample.com', '99@sample.com', '100@sample.com']\n",
    "\n",
    "f = open('query.txt', mode='wt', encoding='utf-8')\n",
    "\n",
    "# company_num 나중에 랜덤으로 들어가게 해야함\n",
    "# num 은 1씩 증가해야함\n",
    "for i in range(0, 20):\n",
    "    company_num = int(random.randrange(0, 10))\n",
    "    num = i\n",
    "    query = 'update studio set(stu_id,com_id, category_id, name, description, rule, main_img, port_img ,floor) =('+\\\n",
    "        \"'\"+df['NO'][num]+\"','\"+companys[company_num].replace(\"'\", '\"')+\"',\"+str(item_num)+\",'\"+df['studio_name'][num].replace(\"'\", '\"').replace(\" \", \"_\") + \"','\" +\\\n",
    "        \"','\"+df['description'][num].replace(\"'\", '\"')+\"','\"+df['rule'][num].replace(\"'\", '\"')+\"','\" + \\\n",
    "        str(num)+\"_0_\"+df['studio_name'][num].replace(\"'\", '\"').replace(\" \", \"_\")+\".jpg,\"+str(num)+\"_1_\" + \\\n",
    "        df['studio_name'][num].replace(\"'\", '\"').replace(\" \", \"_\")+\".jpg,\" + \\\n",
    "        str(num)+\"_2_\"+df['studio_name'][num].replace(\"'\", '\"').replace(\" \", \"_\") + \\\n",
    "        \".jpg'\"+\",'\"+str(num)+\"_3_\"+df['studio_name'][num].replace(\"'\", '\"').replace(\" \", \"_\")+\".jpg,\"+str(num)+\"_4_\" + \\\n",
    "        df['studio_name'][num].replace(\"'\", '\"').replace(\" \", \"_\")+\".jpg,\" + \\\n",
    "        str(num)+\"_5_\"+df['studio_name'][num].replace(\"'\", '\"').replace(\" \", \"_\") + \\\n",
    "        \".jpg'\"+\",\"+str(df['floor'][num])+\"); \\n\\n\"\n",
    "    f.write(query)\n",
    "\n",
    "f.close()"
   ]
  },
  {
   "cell_type": "code",
   "execution_count": 58,
   "metadata": {
    "scrolled": true
   },
   "outputs": [
    {
     "ename": "TypeError",
     "evalue": "can only concatenate str (not \"numpy.int64\") to str",
     "output_type": "error",
     "traceback": [
      "\u001b[1;31m---------------------------------------------------------------------------\u001b[0m",
      "\u001b[1;31mTypeError\u001b[0m                                 Traceback (most recent call last)",
      "\u001b[1;32m<ipython-input-58-225bb2521056>\u001b[0m in \u001b[0;36m<module>\u001b[1;34m\u001b[0m\n\u001b[0;32m     24\u001b[0m         \u001b[0mdf\u001b[0m\u001b[1;33m[\u001b[0m\u001b[1;34m'studio_name'\u001b[0m\u001b[1;33m]\u001b[0m\u001b[1;33m[\u001b[0m\u001b[0mnum\u001b[0m\u001b[1;33m]\u001b[0m\u001b[1;33m.\u001b[0m\u001b[0mreplace\u001b[0m\u001b[1;33m(\u001b[0m\u001b[1;34m\"'\"\u001b[0m\u001b[1;33m,\u001b[0m \u001b[1;34m'\"'\u001b[0m\u001b[1;33m)\u001b[0m\u001b[1;33m.\u001b[0m\u001b[0mreplace\u001b[0m\u001b[1;33m(\u001b[0m\u001b[1;34m\" \"\u001b[0m\u001b[1;33m,\u001b[0m \u001b[1;34m\"_\"\u001b[0m\u001b[1;33m)\u001b[0m\u001b[1;33m+\u001b[0m\u001b[1;34m\".jpg,\"\u001b[0m \u001b[1;33m+\u001b[0m\u001b[0;31m \u001b[0m\u001b[0;31m\\\u001b[0m\u001b[1;33m\u001b[0m\u001b[1;33m\u001b[0m\u001b[0m\n\u001b[0;32m     25\u001b[0m         \u001b[0mstr\u001b[0m\u001b[1;33m(\u001b[0m\u001b[0mnum\u001b[0m\u001b[1;33m)\u001b[0m\u001b[1;33m+\u001b[0m\u001b[1;34m\"_5_\"\u001b[0m\u001b[1;33m+\u001b[0m\u001b[0mdf\u001b[0m\u001b[1;33m[\u001b[0m\u001b[1;34m'studio_name'\u001b[0m\u001b[1;33m]\u001b[0m\u001b[1;33m[\u001b[0m\u001b[0mnum\u001b[0m\u001b[1;33m]\u001b[0m\u001b[1;33m.\u001b[0m\u001b[0mreplace\u001b[0m\u001b[1;33m(\u001b[0m\u001b[1;34m\"'\"\u001b[0m\u001b[1;33m,\u001b[0m \u001b[1;34m'\"'\u001b[0m\u001b[1;33m)\u001b[0m\u001b[1;33m.\u001b[0m\u001b[0mreplace\u001b[0m\u001b[1;33m(\u001b[0m\u001b[1;34m\" \"\u001b[0m\u001b[1;33m,\u001b[0m \u001b[1;34m\"_\"\u001b[0m\u001b[1;33m)\u001b[0m \u001b[1;33m+\u001b[0m \u001b[1;34m\".jpg'\"\u001b[0m\u001b[1;33m+\u001b[0m\u001b[1;34m\",\"\u001b[0m\u001b[1;33m+\u001b[0m\u001b[0mstr\u001b[0m\u001b[1;33m(\u001b[0m\u001b[0mdf\u001b[0m\u001b[1;33m[\u001b[0m\u001b[1;34m'floor'\u001b[0m\u001b[1;33m]\u001b[0m\u001b[1;33m[\u001b[0m\u001b[0mnum\u001b[0m\u001b[1;33m]\u001b[0m\u001b[1;33m)\u001b[0m\u001b[1;33m+\u001b[0m\u001b[1;34m\")\"\u001b[0m\u001b[1;33m+\u001b[0m\u001b[0;31m\\\u001b[0m\u001b[1;33m\u001b[0m\u001b[1;33m\u001b[0m\u001b[0m\n\u001b[1;32m---> 26\u001b[1;33m         \u001b[1;34m\"WHERE stu_id = '\"\u001b[0m\u001b[1;33m+\u001b[0m\u001b[0mdf\u001b[0m\u001b[1;33m[\u001b[0m\u001b[1;34m'NO'\u001b[0m\u001b[1;33m]\u001b[0m\u001b[1;33m[\u001b[0m\u001b[0mnum\u001b[0m\u001b[1;33m]\u001b[0m\u001b[1;33m+\u001b[0m\u001b[1;34m\"'; \\n\\n\"\u001b[0m\u001b[1;33m\u001b[0m\u001b[1;33m\u001b[0m\u001b[0m\n\u001b[0m\u001b[0;32m     27\u001b[0m     \u001b[0mf\u001b[0m\u001b[1;33m.\u001b[0m\u001b[0mwrite\u001b[0m\u001b[1;33m(\u001b[0m\u001b[0mquery\u001b[0m\u001b[1;33m)\u001b[0m\u001b[1;33m\u001b[0m\u001b[1;33m\u001b[0m\u001b[0m\n\u001b[0;32m     28\u001b[0m \u001b[1;33m\u001b[0m\u001b[0m\n",
      "\u001b[1;31mTypeError\u001b[0m: can only concatenate str (not \"numpy.int64\") to str"
     ]
    }
   ],
   "source": [
    "import pandas as pd\n",
    "import random\n",
    "df = pd.read_csv(\n",
    "    'C:/바탕 화면/playdata/ice/eclipse/Devils_Project/dataWork/resources/dataset/total_dataset_trim(ver1).csv')\n",
    "item_num = 9\n",
    "\n",
    "companys = ['11@sample.com', '22@sample.com', '33@sample.com', '44@sample.com', '55@sample.com',\n",
    "            '66@sample.com', '77@sample.com', '88@sample.com', '11@sample.com', '99@sample.com', '100@sample.com']\n",
    "\n",
    "f = open('query.txt', mode='wt', encoding='utf-8')\n",
    "\n",
    "# company_num 나중에 랜덤으로 들어가게 해야함\n",
    "# num 은 1씩 증가해야함\n",
    "for i in range(0, 20):\n",
    "    company_num = int(random.randrange(0, 10))\n",
    "    num = i\n",
    "    query = 'update studio set(com_id, category_id, name, description, rule, main_img, port_img ,floor) =(' + \\\n",
    "        \"'\"+companys[company_num].replace(\"'\", '\"')+\"',\"+str(item_num)+\",'\"+df['studio_name'][num].replace(\"'\", '\"').replace(\" \", \"_\") + \\\n",
    "        \"','\"+df['description'][num].replace(\"'\", '\"')+\"','\"+df['rule'][num].replace(\"'\", '\"')+\"','\" + \\\n",
    "        str(num)+\"_0_\"+df['studio_name'][num].replace(\"'\", '\"').replace(\" \", \"_\")+\".jpg,\"+str(num)+\"_1_\" + \\\n",
    "        df['studio_name'][num].replace(\"'\", '\"').replace(\" \", \"_\")+\".jpg,\" + \\\n",
    "        str(num)+\"_2_\"+df['studio_name'][num].replace(\"'\", '\"').replace(\" \", \"_\") + \\\n",
    "        \".jpg'\"+\",'\"+str(num)+\"_3_\"+df['studio_name'][num].replace(\"'\", '\"').replace(\" \", \"_\")+\".jpg,\"+str(num)+\"_4_\" + \\\n",
    "        df['studio_name'][num].replace(\"'\", '\"').replace(\" \", \"_\")+\".jpg,\" + \\\n",
    "        str(num)+\"_5_\"+df['studio_name'][num].replace(\"'\", '\"').replace(\" \", \"_\") + \".jpg'\"+\",\"+str(df['floor'][num])+\")\"+\\\n",
    "        \"WHERE stu_id = \"+df['NO'][num]+\"; \\n\\n\"\n",
    "    f.write(query)\n",
    "\n",
    "f.close()"
   ]
  },
  {
   "cell_type": "code",
   "execution_count": null,
   "metadata": {},
   "outputs": [],
   "source": []
  }
 ],
 "metadata": {
  "kernelspec": {
   "display_name": "Python 3",
   "language": "python",
   "name": "python3"
  },
  "language_info": {
   "codemirror_mode": {
    "name": "ipython",
    "version": 3
   },
   "file_extension": ".py",
   "mimetype": "text/x-python",
   "name": "python",
   "nbconvert_exporter": "python",
   "pygments_lexer": "ipython3",
   "version": "3.7.7"
  }
 },
 "nbformat": 4,
 "nbformat_minor": 4
}
