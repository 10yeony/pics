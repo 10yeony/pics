{
 "cells": [
  {
   "cell_type": "markdown",
   "metadata": {},
   "source": [
    "## 모델 가동, 그 결과를 새로운 태그로 (extend_tag) 컬럼으로 저장"
   ]
  },
  {
   "cell_type": "code",
   "execution_count": 43,
   "metadata": {},
   "outputs": [],
   "source": [
    "# word2Vec\n",
    "import numpy as np \n",
    "import pandas as pd\n",
    "from pandas import DataFrame as df\n",
    "import os\n",
    "import sys\n",
    "\n",
    "import gensim \n",
    "from gensim.models import word2vec"
   ]
  },
  {
   "cell_type": "code",
   "execution_count": 44,
   "metadata": {},
   "outputs": [],
   "source": [
    "def wordVec(CoreTagData1):\n",
    "    size_num =350    # Word vector dimensionality                      \n",
    "    min_word_count =2   # Minimum word count                        \n",
    "    num_workers = 2     # Number of threads to run in parallel\n",
    "    context = 5          # Context window size                                                                                    \n",
    "    downsampling = 0.001  # Downsample setting for frequent words\n",
    "\n",
    "    model = gensim.models.Word2Vec(CoreTagData1, \n",
    "                                   sg=1,\n",
    "                                   workers=num_workers,\n",
    "                                   size=size_num,\n",
    "                                   min_count = min_word_count,\n",
    "                                   window = context,\n",
    "                                   sample = downsampling)\n",
    "    return model"
   ]
  },
  {
   "cell_type": "code",
   "execution_count": 45,
   "metadata": {},
   "outputs": [],
   "source": [
    "### 사용자 모듈 불러오기\n",
    "sys.path.append('..')\n",
    "from dao import tag_dao\n",
    "from model import nlp_model\n",
    "\n",
    "# 데이터 불러오기\n",
    "# DB 데이터\n",
    "dataset = tag_dao.getTagData()\n",
    "dataset[\"description\"].fillna(\"\",inplace=True)\n",
    "\n",
    "# 자연어 처리\n",
    "CoreTagData1=nlp_model.getCoreTags1(dataset) # tag data1\n",
    "CoreTagData2=nlp_model.getCoreTags2(dataset) # tag data2"
   ]
  },
  {
   "cell_type": "code",
   "execution_count": 47,
   "metadata": {},
   "outputs": [
    {
     "data": {
      "text/plain": [
       "[('욕실', 0.057705193758010864),\n",
       " ('통창', 0.0358315110206604),\n",
       " ('힙스터', 0.021640129387378693),\n",
       " ('모던', -0.021265674382448196)]"
      ]
     },
     "execution_count": 47,
     "metadata": {},
     "output_type": "execute_result"
    }
   ],
   "source": [
    "# model=wordVec(CoreTagData1)\n",
    "# model.wv.vocab\n",
    "# model.wv.most_similar(\"이태원\",topn=4)"
   ]
  },
  {
   "cell_type": "code",
   "execution_count": null,
   "metadata": {},
   "outputs": [],
   "source": [
    "def extendTag(CoreTagData2,model,dataset):\n",
    "    vocab=model.wv.vocab\n",
    "    extendTagList=[]\n",
    "    extendTagSimList=[]\n",
    "    for i in range(len(CoreTagData2)):\n",
    "        tags=[]\n",
    "        tagsSim=[]\n",
    "        for j in range(len(CoreTagData2[i])):\n",
    "            if((len(CoreTagData2[i])>25)):\n",
    "                tags.append(CoreTagData2[i][j])\n",
    "                tagsSim.append(0)\n",
    "            if((CoreTagData2[i][j] in vocab.keys())&(len(CoreTagData2[i])>12)):\n",
    "                for k in range(1):\n",
    "                    tags.append(model.wv.most_similar(CoreTagData2[i][j],topn=1)[k][0])\n",
    "                    tagsSim.append(model.wv.most_similar(CoreTagData2[i][j],topn=1)[k][1])\n",
    "            elif((CoreTagData2[i][j] in vocab.keys())&(len(CoreTagData2[i])>5)):\n",
    "                for k in range(3):\n",
    "                    tags.append(model.wv.most_similar(CoreTagData2[i][j],topn=3)[k][0])\n",
    "                    tagsSim.append(model.wv.most_similar(CoreTagData2[i][j],topn=3)[k][1])\n",
    "            elif((CoreTagData2[i][j] in vocab.keys())&(len(CoreTagData2[i])<=4)):\n",
    "                for k in range(4):\n",
    "                    tags.append(model.wv.most_similar(CoreTagData2[i][j],topn=4)[k][0])                    \n",
    "                    tagsSim.append(model.wv.most_similar(CoreTagData2[i][j],topn=4)[k][1])\n",
    "        extendTagList.append(tags)\n",
    "        extendTagSimList.append(tagsSim) \n",
    "    dataset[\"extend_tag\"]=extendTagList\n",
    "    dataset[\"extend_tag_sim\"]=extendTagSimList\n",
    "    \n",
    "    return dataset\n",
    "# dataset=extendTag(CoreTagData2)"
   ]
  }
 ],
 "metadata": {
  "kernelspec": {
   "display_name": "Python 3",
   "language": "python",
   "name": "python3"
  },
  "language_info": {
   "codemirror_mode": {
    "name": "ipython",
    "version": 3
   },
   "file_extension": ".py",
   "mimetype": "text/x-python",
   "name": "python",
   "nbconvert_exporter": "python",
   "pygments_lexer": "ipython3",
   "version": "3.7.7"
  }
 },
 "nbformat": 4,
 "nbformat_minor": 4
}
