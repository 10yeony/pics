{
 "cells": [
  {
   "cell_type": "code",
   "execution_count": 2,
   "metadata": {},
   "outputs": [],
   "source": [
    "# 데이터 핸들링 프레임\n",
    "import numpy as np \n",
    "import pandas as pd\n",
    "from pandas import DataFrame as df\n",
    "import csv\n",
    "import os\n",
    "import sys"
   ]
  },
  {
   "cell_type": "code",
   "execution_count": 3,
   "metadata": {},
   "outputs": [],
   "source": [
    "# 문자열로 저장된 태그 리스트로 변환\n",
    "def strToList(value):\n",
    "    if type(value)==str:\n",
    "        trimList=value.replace(']','')\n",
    "        trimList=trimList.replace('[','')\n",
    "        trimList=trimList.replace(\"'\",'')\n",
    "        trimList=trimList.split(\",\")\n",
    "        trimList=list(set(trimList))  # 리스트 안에서 중복되는 태그 삭제\n",
    "    else:\n",
    "        trimList=list(set(value))\n",
    "    return trimList"
   ]
  },
  {
   "cell_type": "code",
   "execution_count": 118,
   "metadata": {},
   "outputs": [],
   "source": [
    "## dataset 자르고, 유사태그 빈도 세고, 다시 합치기\n",
    "def tagCount(stuId,dataset):\n",
    "    target=dataset.iloc[stuId:stuId+1]\n",
    "    rest=dataset[dataset.index != stuId]\n",
    "    #임의로 1개 선택\n",
    "    countKeyword=[]\n",
    "    for i in range(len(dataset)-1):\n",
    "        cnt=0\n",
    "        targetExTagList=strToList(target[\"extend_tag\"].values[0])\n",
    "        restTagExList=strToList(rest.iloc[i][\"extend_tag\"])\n",
    "        targetTag2List=strToList(target[\"new_tag2\"].values[0])\n",
    "        restTag2List=strToList(rest.iloc[i][\"new_tag2\"])\n",
    "        \n",
    "        restTagExSimList=strToList(rest.iloc[i][\"extend_tag_sim\"])\n",
    "        avg_sim=0\n",
    "        for h in range(len(restTagExSimList)):\n",
    "            if(restTagExSimList[h]==\"\"):\n",
    "                continue\n",
    "            else:\n",
    "                avg_sim+=float(restTagExSimList[h])\n",
    "        avg_sim=avg_sim/len(restTagExSimList)\n",
    "        for j in range(len(targetExTagList)):\n",
    "            if((targetExTagList[j] in restTagExList)&(len(restTagExList)>0)):\n",
    "                cnt+=avg_sim\n",
    "        for k in range(len(targetTag2List)):\n",
    "            if targetTag2List[k] in restTag2List:\n",
    "                cnt+=1\n",
    "        if len(targetExTagList)!=0:\n",
    "            cnt=cnt/(len(targetTag2List))\n",
    "            countKeyword.append(cnt)\n",
    "\n",
    "    ## dataset에 열 추가\n",
    "    rest.loc[:,\"tagCount\"]=countKeyword\n",
    "    target.loc[:,\"tagCount\"]=0  # target은 아예 안 뜨도록 0으로 처리\n",
    "\n",
    "    dataset=pd.concat([target,rest],ignore_index=True) # 다시 2개 합치기\n",
    "    dataset=dataset.sort_values(by=['tagCount'],ascending=False)\n",
    "        \n",
    "    return dataset"
   ]
  },
  {
   "cell_type": "code",
   "execution_count": null,
   "metadata": {
    "scrolled": true
   },
   "outputs": [],
   "source": []
  },
  {
   "cell_type": "code",
   "execution_count": null,
   "metadata": {},
   "outputs": [],
   "source": []
  },
  {
   "cell_type": "code",
   "execution_count": null,
   "metadata": {},
   "outputs": [],
   "source": []
  },
  {
   "cell_type": "code",
   "execution_count": null,
   "metadata": {},
   "outputs": [],
   "source": []
  },
  {
   "cell_type": "code",
   "execution_count": null,
   "metadata": {},
   "outputs": [],
   "source": []
  }
 ],
 "metadata": {
  "kernelspec": {
   "display_name": "Python 3",
   "language": "python",
   "name": "python3"
  },
  "language_info": {
   "codemirror_mode": {
    "name": "ipython",
    "version": 3
   },
   "file_extension": ".py",
   "mimetype": "text/x-python",
   "name": "python",
   "nbconvert_exporter": "python",
   "pygments_lexer": "ipython3",
   "version": "3.7.7"
  }
 },
 "nbformat": 4,
 "nbformat_minor": 4
}
