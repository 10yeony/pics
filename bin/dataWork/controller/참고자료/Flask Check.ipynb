{
 "cells": [
  {
   "cell_type": "code",
   "execution_count": 2,
   "metadata": {},
   "outputs": [],
   "source": [
    "from flask import Flask\n",
    "from flask import jsonify\n",
    "from flask import request\n",
    "from flask_cors import CORS\n",
    "from flask import send_from_directory"
   ]
  },
  {
   "cell_type": "markdown",
   "metadata": {},
   "source": [
    "# MySQL & Flask"
   ]
  },
  {
   "cell_type": "code",
   "execution_count": null,
   "metadata": {},
   "outputs": [
    {
     "name": "stdout",
     "output_type": "stream",
     "text": [
      " * Serving Flask app \"__main__\" (lazy loading)\n",
      " * Environment: production\n",
      "   WARNING: This is a development server. Do not use it in a production deployment.\n",
      "   Use a production WSGI server instead.\n",
      " * Debug mode: off\n"
     ]
    },
    {
     "name": "stderr",
     "output_type": "stream",
     "text": [
      " * Running on http://0.0.0.0:8080/ (Press CTRL+C to quit)\n",
      "127.0.0.1 - - [05/Sep/2020 13:48:11] \"\u001b[37mGET / HTTP/1.1\u001b[0m\" 200 -\n",
      "127.0.0.1 - - [05/Sep/2020 13:48:12] \"\u001b[33mGET /favicon.ico HTTP/1.1\u001b[0m\" 404 -\n",
      "127.0.0.1 - - [05/Sep/2020 13:48:50] \"\u001b[37mGET /first HTTP/1.1\u001b[0m\" 200 -\n"
     ]
    }
   ],
   "source": [
    "# flask 설치 후 화면으로 Json 파일 던지는 코드\n",
    "from flask import Flask\n",
    "\n",
    "app = Flask(__name__)\n",
    "CORS(app,resources={r'*':{'origins':'*'}})\n",
    "\n",
    "@app.route(\"/\")\n",
    "def hello():                           \n",
    "    return \"<h1>Hello World!</h1>\"\n",
    "\n",
    "@app.route(\"/hello\")\n",
    "def hello_flask():\n",
    "    return \"<h1>Hello Flash!</h1>\"\n",
    "\n",
    "@app.route(\"/first\")\n",
    "def hello_first():\n",
    "    return \"<h3>Hello First</h3>\"\n",
    "\n",
    "if __name__ == \"__main__\":              \n",
    "    app.run(host=\"0.0.0.0\", port=\"8080\")"
   ]
  },
  {
   "cell_type": "code",
   "execution_count": 6,
   "metadata": {},
   "outputs": [],
   "source": [
    "import pymysql\n",
    " \n",
    "# database에 접근\n",
    "db= pymysql.connect(host='pics.crvbvpzlygpt.ap-northeast-2.rds.amazonaws.com',\n",
    "                     port=3306,\n",
    "                     user='pics',\n",
    "                     passwd='picspics!1',\n",
    "                     db='pics',\n",
    "                     charset='utf8')\n",
    " \n",
    "# database를 사용하기 위한 cursor를 세팅합니다.\n",
    "cursor= db.cursor()\n"
   ]
  },
  {
   "cell_type": "code",
   "execution_count": null,
   "metadata": {},
   "outputs": [],
   "source": [
    "sql =\"\"\"INSERT INTO bookmark(stu_id,cust_id) VALUES(15,5);\"\"\"\n",
    "cursor.execute(sql)\n",
    "db.commit()\n"
   ]
  },
  {
   "cell_type": "code",
   "execution_count": null,
   "metadata": {},
   "outputs": [],
   "source": [
    "sql =\"\"\"SELECT * FROM bookmark WHERE stu_id=15;\"\"\"\n",
    "\n",
    "cursor.execute(sql)\n",
    "\n",
    "result = cursor.fetchall()\n",
    "result"
   ]
  },
  {
   "cell_type": "code",
   "execution_count": 55,
   "metadata": {},
   "outputs": [],
   "source": [
    "sql =\"\"\"DELETE FROM bookmark WHERE stu_id=15 AND cust_id=5;\"\"\"\n",
    "cursor.execute(sql)\n",
    "db.commit()\n",
    "db.close()"
   ]
  },
  {
   "cell_type": "markdown",
   "metadata": {},
   "source": [
    "################################################################################################################"
   ]
  },
  {
   "cell_type": "markdown",
   "metadata": {},
   "source": [
    "# Vue & Flask"
   ]
  },
  {
   "cell_type": "markdown",
   "metadata": {},
   "source": [
    "## flask url route"
   ]
  },
  {
   "cell_type": "markdown",
   "metadata": {},
   "source": [
    "## app.py 수정"
   ]
  },
  {
   "cell_type": "code",
   "execution_count": 3,
   "metadata": {},
   "outputs": [],
   "source": [
    "from flask import Flask\n",
    "from flask import jsonify\n",
    "from flask import request\n",
    "from flask_cors import CORS\n"
   ]
  },
  {
   "cell_type": "code",
   "execution_count": null,
   "metadata": {},
   "outputs": [],
   "source": [
    "app = Flask(__name__)\n",
    "cors = CORS(app, resources={r\"/myapi/*\": {\"origins\": \"*\"}})\n",
    "\n",
    "@app.route(\"/\")\n",
    "def hello():                           \n",
    "    return \"<h1>Hello World!</h1>\"\n",
    "\n",
    "@app.route(\"/first\")\n",
    "def hello_first():\n",
    "    return \"<h3>Hello First</h3>\"\n"
   ]
  },
  {
   "cell_type": "code",
   "execution_count": null,
   "metadata": {},
   "outputs": [],
   "source": []
  }
 ],
 "metadata": {
  "kernelspec": {
   "display_name": "Python 3",
   "language": "python",
   "name": "python3"
  },
  "language_info": {
   "codemirror_mode": {
    "name": "ipython",
    "version": 3
   },
   "file_extension": ".py",
   "mimetype": "text/x-python",
   "name": "python",
   "nbconvert_exporter": "python",
   "pygments_lexer": "ipython3",
   "version": "3.7.7"
  }
 },
 "nbformat": 4,
 "nbformat_minor": 4
}
