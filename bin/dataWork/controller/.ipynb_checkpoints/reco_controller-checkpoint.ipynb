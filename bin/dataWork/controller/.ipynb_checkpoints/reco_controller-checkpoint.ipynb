{
 "cells": [
  {
   "cell_type": "code",
   "execution_count": 1,
   "metadata": {},
   "outputs": [],
   "source": [
    "# 외부 모듈\n",
    "import pandas as pd\n",
    "import numpy as np\n",
    "import sys\n",
    "sys.path.append('..')\n",
    "from dao.reco_dao import get_reco_studio, get_ranked_studio\n",
    "\n",
    "def get_reco_studios(cust_id, path):\n",
    "    result = {'status':True, 'studios':[]}\n",
    "    # 예측점수 테이블 가져오기\n",
    "    df = pd.read_csv(path+'/resources/sim_table/sim_table.csv', encoding='utf-8', index_col = 0)\n",
    "    # pivot회\n",
    "    ratings_predicted = df.pivot_table(index= 'userId', columns='itemId', values='rate')\n",
    "    # 리뷰했는지 확인\n",
    "    if cust_id in ratings_predicted.index :\n",
    "        pass\n",
    "    else :\n",
    "        result['status'] = False\n",
    "        return result\n",
    "    # userId 받고 해당 사람에게 8개 stuId 추출\n",
    "    studio_list = ratings_predicted.loc[cust_id].sort_values(ascending=False)[:8].index\n",
    "    # 해당 아이디에 맞는 studio 정보 받고 보내기\n",
    "    studios = get_reco_studio(studio_list)\n",
    "    # 대표 사진 하나만 가지고 갈 수 있도록\n",
    "    for studio in studios:\n",
    "        studio['main_img'] = studio.get('main_img').split(',')[0]\n",
    "    result['studios']=studios\n",
    "    return result"
   ]
  },
  {
   "cell_type": "code",
   "execution_count": 2,
   "metadata": {},
   "outputs": [],
   "source": [
    "def get_ranked_studios():\n",
    "    studios = get_ranked_studio()\n",
    "    for studio in studios:\n",
    "        studio['main_img'] = studio.get('main_img').split(',')[0]\n",
    "    return studios"
   ]
  },
  {
   "cell_type": "code",
   "execution_count": 7,
   "metadata": {},
   "outputs": [
    {
     "name": "stderr",
     "output_type": "stream",
     "text": [
      "[NbConvertApp] Converting notebook reco_controller.ipynb to script\n",
      "[NbConvertApp] Writing 1370 bytes to reco_controller.py\n"
     ]
    }
   ],
   "source": [
    "!jupyter nbconvert --to script reco_controller.ipynb "
   ]
  }
 ],
 "metadata": {
  "kernelspec": {
   "display_name": "Python 3",
   "language": "python",
   "name": "python3"
  },
  "language_info": {
   "codemirror_mode": {
    "name": "ipython",
    "version": 3
   },
   "file_extension": ".py",
   "mimetype": "text/x-python",
   "name": "python",
   "nbconvert_exporter": "python",
   "pygments_lexer": "ipython3",
   "version": "3.7.7"
  }
 },
 "nbformat": 4,
 "nbformat_minor": 4
}
