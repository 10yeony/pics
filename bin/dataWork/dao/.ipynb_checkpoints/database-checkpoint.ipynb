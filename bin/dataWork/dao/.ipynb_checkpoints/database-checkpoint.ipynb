{
 "cells": [
  {
   "cell_type": "code",
   "execution_count": 1,
   "metadata": {},
   "outputs": [],
   "source": [
    "import sys\n",
    "import pymysql\n",
    "\n",
    "class Database:\n",
    "    \"\"\"Database connection class.\"\"\"\n",
    "\n",
    "    def __init__(self, config):\n",
    "        self.host = config.db_host\n",
    "        self.username = config.db_user\n",
    "        self.password = config.db_password\n",
    "        self.port = config.db_port\n",
    "        self.dbname = config.db_name\n",
    "        self.conn = None\n",
    "\n",
    "    def open_connection(self):\n",
    "        \"\"\"Connect to MySQL Database.\"\"\"\n",
    "        try:\n",
    "            if self.conn is None:\n",
    "                self.conn = pymysql.connect(\n",
    "                    self.host,\n",
    "                    user=self.username,\n",
    "                    passwd=self.password,\n",
    "                    db=self.dbname,\n",
    "                    charset='utf8',\n",
    "                    cursorclass=pymysql.cursors.DictCursor)\n",
    "        except pymysql.MySQLError as e:\n",
    "            print(e)\n",
    "            sys.exit()\n",
    "        finally:\n",
    "            print('Connection opened successfully.')\n",
    "\n",
    "    def run_query(self, query):\n",
    "        \"\"\"Execute SQL query.\"\"\"\n",
    "        try:\n",
    "            self.open_connection()\n",
    "            with self.conn.cursor() as cur:\n",
    "                if 'SELECT' in query:\n",
    "                    cur.execute(query)\n",
    "                    result = cur.fetchall()\n",
    "                    cur.close()\n",
    "                    return result\n",
    "                result = cur.execute(query)\n",
    "                self.conn.commit()\n",
    "                affected = f\"{cur.rowcount} rows affected.\"\n",
    "                cur.close()\n",
    "                return affected\n",
    "        except pymysql.MySQLError as e:\n",
    "            print(e)\n",
    "            sys.exit()\n",
    "        finally:\n",
    "            if self.conn:\n",
    "                self.conn.close()\n",
    "                self.conn = None\n",
    "                print('Database connection closed.')"
   ]
  },
  {
   "cell_type": "code",
   "execution_count": 9,
   "metadata": {},
   "outputs": [
    {
     "name": "stderr",
     "output_type": "stream",
     "text": [
      "[NbConvertApp] Converting notebook database.ipynb to script\n",
      "[NbConvertApp] Writing 1862 bytes to database.py\n"
     ]
    }
   ],
   "source": [
    "!jupyter nbconvert --to script database.ipynb "
   ]
  }
 ],
 "metadata": {
  "kernelspec": {
   "display_name": "Python 3",
   "language": "python",
   "name": "python3"
  },
  "language_info": {
   "codemirror_mode": {
    "name": "ipython",
    "version": 3
   },
   "file_extension": ".py",
   "mimetype": "text/x-python",
   "name": "python",
   "nbconvert_exporter": "python",
   "pygments_lexer": "ipython3",
   "version": "3.7.7"
  }
 },
 "nbformat": 4,
 "nbformat_minor": 4
}
