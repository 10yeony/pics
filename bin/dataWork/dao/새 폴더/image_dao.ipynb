{
 "cells": [
  {
   "cell_type": "code",
   "execution_count": 1,
   "metadata": {},
   "outputs": [],
   "source": [
    "import sys\n",
    "sys.path.append('..')\n",
    "from dao.database import Database\n",
    "import dao.config as config"
   ]
  },
  {
   "cell_type": "code",
   "execution_count": 2,
   "metadata": {},
   "outputs": [],
   "source": [
    "# DB 연결\n",
    "db = Database(config)"
   ]
  },
  {
   "cell_type": "code",
   "execution_count": 76,
   "metadata": {},
   "outputs": [],
   "source": [
    "def get_stuId_by_img(img_list) :\n",
    "    studio_list = []\n",
    "    count = 0\n",
    "    for img_name in img_list:\n",
    "        print(\"count : {}\" .format(count))\n",
    "        sql = \"SELECT stu_id \"\n",
    "        sql += \"FROM studio \"\n",
    "        sql += \"WHERE main_img LIKE '%\"+img_name+\"%'\"\n",
    "\n",
    "        studios = db.run_query(sql)\n",
    "        if studios:\n",
    "            if len(studio_list) >0 :\n",
    "                if studios[0]['stu_id'] in studio_list :\n",
    "                    continue\n",
    "                count+=1\n",
    "                studio_list.append(studios[0]['stu_id'])\n",
    "                if count == 5 :\n",
    "                    break\n",
    "            else :\n",
    "                count+=1\n",
    "                studio_list.append(studios[0]['stu_id'])\n",
    "        if count == 5 :\n",
    "            break\n",
    "\n",
    "    return studio_list"
   ]
  },
  {
   "cell_type": "code",
   "execution_count": 86,
   "metadata": {},
   "outputs": [
    {
     "name": "stderr",
     "output_type": "stream",
     "text": [
      "[NbConvertApp] Converting notebook image_dao.ipynb to script\n",
      "[NbConvertApp] Writing 1031 bytes to image_dao.py\n"
     ]
    }
   ],
   "source": [
    "!jupyter nbconvert --to script image_dao.ipynb "
   ]
  }
 ],
 "metadata": {
  "kernelspec": {
   "display_name": "Python 3",
   "language": "python",
   "name": "python3"
  },
  "language_info": {
   "codemirror_mode": {
    "name": "ipython",
    "version": 3
   },
   "file_extension": ".py",
   "mimetype": "text/x-python",
   "name": "python",
   "nbconvert_exporter": "python",
   "pygments_lexer": "ipython3",
   "version": "3.7.7"
  }
 },
 "nbformat": 4,
 "nbformat_minor": 4
}
